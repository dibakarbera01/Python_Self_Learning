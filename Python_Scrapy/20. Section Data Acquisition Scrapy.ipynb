{
 "cells": [
  {
   "cell_type": "markdown",
   "id": "f5bb45ee",
   "metadata": {},
   "source": [
    "## Section Data Acquisition Scrapy"
   ]
  },
  {
   "cell_type": "code",
   "execution_count": 2,
   "id": "d2f6aef1",
   "metadata": {},
   "outputs": [
    {
     "name": "stdout",
     "output_type": "stream",
     "text": [
      "New Scrapy project 'myproject', using template directory 'C:\\Users\\dibak\\AppData\\Roaming\\Python\\Python310\\site-packages\\scrapy\\templates\\project', created in:\n",
      "    C:\\Users\\dibak\\Desktop\\python\\Python_Scrapy\\myproject\n",
      "\n",
      "You can start your first spider with:\n",
      "    cd myproject\n",
      "    scrapy genspider example example.com\n"
     ]
    }
   ],
   "source": [
    "!scrapy startproject myproject"
   ]
  },
  {
   "cell_type": "code",
   "execution_count": null,
   "id": "997cf2ad",
   "metadata": {},
   "outputs": [],
   "source": []
  }
 ],
 "metadata": {
  "kernelspec": {
   "display_name": "Python 3 (ipykernel)",
   "language": "python",
   "name": "python3"
  },
  "language_info": {
   "codemirror_mode": {
    "name": "ipython",
    "version": 3
   },
   "file_extension": ".py",
   "mimetype": "text/x-python",
   "name": "python",
   "nbconvert_exporter": "python",
   "pygments_lexer": "ipython3",
   "version": "3.10.5"
  }
 },
 "nbformat": 4,
 "nbformat_minor": 5
}

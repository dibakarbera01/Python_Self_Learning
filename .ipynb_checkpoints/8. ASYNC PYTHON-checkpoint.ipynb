{
 "cells": [
  {
   "cell_type": "markdown",
   "id": "aea3a8dd",
   "metadata": {},
   "source": [
    "# Asynchronous Programming in Python"
   ]
  },
  {
   "cell_type": "code",
   "execution_count": null,
   "id": "734f8e3d",
   "metadata": {},
   "outputs": [],
   "source": [
    "a = 10\n",
    "print(a * 5)\n",
    "\n",
    "def show():\n",
    "    pass\n",
    "\n",
    "show()\n",
    "show()\n",
    "show()\n"
   ]
  },
  {
   "cell_type": "markdown",
   "id": "47b898e2",
   "metadata": {},
   "source": [
    "# Multi process"
   ]
  },
  {
   "cell_type": "code",
   "execution_count": 1,
   "id": "7ba4b126",
   "metadata": {},
   "outputs": [],
   "source": [
    "from multiprocessing import Process"
   ]
  },
  {
   "cell_type": "code",
   "execution_count": 2,
   "id": "d74a8b22",
   "metadata": {
    "scrolled": true
   },
   "outputs": [],
   "source": [
    "def showSquare(num = 2):\n",
    "    print(num ** 2)\n",
    "    for i in range(100000000): pass"
   ]
  },
  {
   "cell_type": "code",
   "execution_count": null,
   "id": "9c4d0dca",
   "metadata": {},
   "outputs": [],
   "source": []
  },
  {
   "cell_type": "code",
   "execution_count": 3,
   "id": "b5bdcdb3",
   "metadata": {},
   "outputs": [],
   "source": [
    "procs = []"
   ]
  },
  {
   "cell_type": "code",
   "execution_count": 4,
   "id": "9bb6bf48",
   "metadata": {},
   "outputs": [],
   "source": [
    "for i in range(5):\n",
    "    procs.append(Process(target = showSquare))"
   ]
  },
  {
   "cell_type": "code",
   "execution_count": 5,
   "id": "8ff86212",
   "metadata": {},
   "outputs": [
    {
     "name": "stdout",
     "output_type": "stream",
     "text": [
      "hello\n"
     ]
    }
   ],
   "source": [
    "for proc in procs:\n",
    "    proc.start()\n",
    "print(\"hello\")    "
   ]
  },
  {
   "cell_type": "code",
   "execution_count": 6,
   "id": "26a1b242",
   "metadata": {},
   "outputs": [],
   "source": [
    "for proc in procs:\n",
    "    proc.join()"
   ]
  },
  {
   "cell_type": "code",
   "execution_count": null,
   "id": "805c3fc6",
   "metadata": {},
   "outputs": [],
   "source": []
  },
  {
   "cell_type": "markdown",
   "id": "0023be3e",
   "metadata": {},
   "source": [
    "# Multi Threading"
   ]
  },
  {
   "cell_type": "markdown",
   "id": "f085d70b",
   "metadata": {},
   "source": [
    "Couroutines\n"
   ]
  },
  {
   "cell_type": "code",
   "execution_count": null,
   "id": "2e4a86f2",
   "metadata": {},
   "outputs": [],
   "source": [
    "def func2():\n",
    "    return 5\n",
    "def func():\n",
    "    yield func2()\n",
    "def main():\n",
    "    pass"
   ]
  },
  {
   "cell_type": "code",
   "execution_count": null,
   "id": "4bafd265",
   "metadata": {},
   "outputs": [],
   "source": []
  },
  {
   "cell_type": "markdown",
   "id": "8742dd09",
   "metadata": {},
   "source": [
    "AsynciO"
   ]
  },
  {
   "cell_type": "markdown",
   "id": "a119d5ae",
   "metadata": {},
   "source": [
    "- Multi Threading"
   ]
  },
  {
   "cell_type": "code",
   "execution_count": 25,
   "id": "25039020",
   "metadata": {},
   "outputs": [],
   "source": [
    "from threading import Thread"
   ]
  },
  {
   "cell_type": "code",
   "execution_count": 26,
   "id": "30f62681",
   "metadata": {},
   "outputs": [],
   "source": [
    "def square(n):\n",
    "    print(\"square is\", n**2)\n",
    "def cube(n):\n",
    "    print(\"cube is\", n**3)"
   ]
  },
  {
   "cell_type": "code",
   "execution_count": null,
   "id": "85415476",
   "metadata": {},
   "outputs": [],
   "source": []
  },
  {
   "cell_type": "code",
   "execution_count": 27,
   "id": "23f7cecf",
   "metadata": {},
   "outputs": [],
   "source": [
    "t1 = Thread(target = square, args = (4,))\n",
    "t2 = Thread(target = cube, args = (3,))"
   ]
  },
  {
   "cell_type": "code",
   "execution_count": 28,
   "id": "90f79193",
   "metadata": {},
   "outputs": [
    {
     "name": "stdout",
     "output_type": "stream",
     "text": [
      "square is 16\n",
      "cube is 27\n",
      "hello\n"
     ]
    }
   ],
   "source": [
    "t1.start()\n",
    "t2.start()\n",
    "print(\"hello\")"
   ]
  },
  {
   "cell_type": "code",
   "execution_count": 29,
   "id": "03095ac4",
   "metadata": {},
   "outputs": [],
   "source": [
    "t1.join()"
   ]
  },
  {
   "cell_type": "code",
   "execution_count": 30,
   "id": "927546f1",
   "metadata": {},
   "outputs": [],
   "source": [
    "t2.join()"
   ]
  },
  {
   "cell_type": "code",
   "execution_count": null,
   "id": "c5706f77",
   "metadata": {},
   "outputs": [],
   "source": []
  },
  {
   "cell_type": "code",
   "execution_count": 37,
   "id": "d59d37de",
   "metadata": {},
   "outputs": [],
   "source": [
    "from queue import Queue"
   ]
  },
  {
   "cell_type": "code",
   "execution_count": 38,
   "id": "b1a5248c",
   "metadata": {},
   "outputs": [],
   "source": [
    "def producer(q):\n",
    "    for i in range(5):\n",
    "        q.put(i)\n",
    "        print(\"published\", i)\n",
    "def consumer():\n",
    "    while True:\n",
    "        data = q.get()\n",
    "        print(\"consumed\", data)"
   ]
  },
  {
   "cell_type": "code",
   "execution_count": 39,
   "id": "ebf93d0e",
   "metadata": {},
   "outputs": [],
   "source": [
    "q = Queue()"
   ]
  },
  {
   "cell_type": "code",
   "execution_count": 40,
   "id": "8e8c42d3",
   "metadata": {},
   "outputs": [],
   "source": [
    "producer_thread = Thread(target = producer, args = (q,))\n",
    "consumer_thread = Thread(target = consumer, args = (q,))"
   ]
  },
  {
   "cell_type": "code",
   "execution_count": 36,
   "id": "44de5015",
   "metadata": {},
   "outputs": [
    {
     "name": "stdout",
     "output_type": "stream",
     "text": [
      "published 0\n",
      "published 1\n",
      "published 2\n",
      "published 3\n",
      "published 4\n"
     ]
    }
   ],
   "source": [
    "producer_thread.start()"
   ]
  },
  {
   "cell_type": "code",
   "execution_count": null,
   "id": "403fb50d",
   "metadata": {},
   "outputs": [],
   "source": []
  },
  {
   "cell_type": "markdown",
   "id": "b299e22f",
   "metadata": {},
   "source": [
    "# Couroutines"
   ]
  },
  {
   "cell_type": "markdown",
   "id": "d0c6403f",
   "metadata": {},
   "source": [
    "- yield"
   ]
  },
  {
   "cell_type": "code",
   "execution_count": 58,
   "id": "0d344639",
   "metadata": {},
   "outputs": [],
   "source": [
    "def print_fancy_name(prefix):\n",
    "    try:\n",
    "        \n",
    "        while True:\n",
    "            name = (yield)\n",
    "            print(prefix + \":\" + name)\n",
    "    except  GeneratorExit:\n",
    "        print(\"Done !\")\n",
    "        "
   ]
  },
  {
   "cell_type": "code",
   "execution_count": 59,
   "id": "ea533c8e",
   "metadata": {},
   "outputs": [],
   "source": [
    "co = print_fancy_name(\"cool\")"
   ]
  },
  {
   "cell_type": "raw",
   "id": "b1568ead",
   "metadata": {},
   "source": [
    "Initialization"
   ]
  },
  {
   "cell_type": "code",
   "execution_count": 60,
   "id": "9b0cedf6",
   "metadata": {},
   "outputs": [],
   "source": [
    "next(co)"
   ]
  },
  {
   "cell_type": "raw",
   "id": "e8e38815",
   "metadata": {},
   "source": [
    "sending data and control"
   ]
  },
  {
   "cell_type": "code",
   "execution_count": 61,
   "id": "1ab3d624",
   "metadata": {},
   "outputs": [
    {
     "name": "stdout",
     "output_type": "stream",
     "text": [
      "cool:dibakar\n"
     ]
    }
   ],
   "source": [
    "co.send(\"dibakar\")"
   ]
  },
  {
   "cell_type": "code",
   "execution_count": 62,
   "id": "76dd7821",
   "metadata": {},
   "outputs": [
    {
     "name": "stdout",
     "output_type": "stream",
     "text": [
      "cool:jagadamba\n"
     ]
    }
   ],
   "source": [
    "co.send(\"jagadamba\")"
   ]
  },
  {
   "cell_type": "code",
   "execution_count": 63,
   "id": "d8431121",
   "metadata": {},
   "outputs": [
    {
     "name": "stdout",
     "output_type": "stream",
     "text": [
      "Done !\n"
     ]
    }
   ],
   "source": [
    "co.close()"
   ]
  },
  {
   "cell_type": "code",
   "execution_count": null,
   "id": "208d53e2",
   "metadata": {},
   "outputs": [],
   "source": []
  },
  {
   "cell_type": "code",
   "execution_count": null,
   "id": "5cf5d2d6",
   "metadata": {},
   "outputs": [],
   "source": []
  },
  {
   "cell_type": "markdown",
   "id": "3d3aa428",
   "metadata": {},
   "source": [
    "# AsyncIO "
   ]
  },
  {
   "cell_type": "code",
   "execution_count": 2,
   "id": "4dbd50b2",
   "metadata": {},
   "outputs": [],
   "source": [
    "import asyncio"
   ]
  },
  {
   "cell_type": "code",
   "execution_count": 4,
   "id": "cf2cdfbb",
   "metadata": {},
   "outputs": [],
   "source": [
    "def main():\n",
    "    print('hello world !')"
   ]
  },
  {
   "cell_type": "code",
   "execution_count": 5,
   "id": "499f49a4",
   "metadata": {},
   "outputs": [
    {
     "name": "stdout",
     "output_type": "stream",
     "text": [
      "hello world !\n"
     ]
    }
   ],
   "source": [
    "if __name__ == '__main__':\n",
    "    main()"
   ]
  },
  {
   "cell_type": "code",
   "execution_count": 18,
   "id": "3089254d",
   "metadata": {},
   "outputs": [],
   "source": [
    "import asyncio"
   ]
  },
  {
   "cell_type": "code",
   "execution_count": 19,
   "id": "88ba30f1",
   "metadata": {},
   "outputs": [],
   "source": [
    "async def main():\n",
    "    print(\"hello\")\n",
    "    await asyncio.sleep(1)\n",
    "    print(\"world\")"
   ]
  },
  {
   "cell_type": "code",
   "execution_count": 21,
   "id": "c814c24c",
   "metadata": {},
   "outputs": [
    {
     "name": "stdout",
     "output_type": "stream",
     "text": [
      "hello\n",
      "world\n"
     ]
    }
   ],
   "source": [
    "await main()"
   ]
  },
  {
   "cell_type": "code",
   "execution_count": null,
   "id": "b6b25209",
   "metadata": {},
   "outputs": [],
   "source": [
    "\n"
   ]
  },
  {
   "cell_type": "code",
   "execution_count": null,
   "id": "71037381",
   "metadata": {},
   "outputs": [],
   "source": []
  },
  {
   "cell_type": "code",
   "execution_count": null,
   "id": "9cfd24c0",
   "metadata": {},
   "outputs": [],
   "source": []
  },
  {
   "cell_type": "code",
   "execution_count": null,
   "id": "92d4d0b5",
   "metadata": {},
   "outputs": [],
   "source": []
  },
  {
   "cell_type": "code",
   "execution_count": null,
   "id": "f552b155",
   "metadata": {},
   "outputs": [],
   "source": []
  },
  {
   "cell_type": "code",
   "execution_count": null,
   "id": "eeb9930f",
   "metadata": {},
   "outputs": [],
   "source": []
  },
  {
   "cell_type": "code",
   "execution_count": null,
   "id": "b00e83a0",
   "metadata": {},
   "outputs": [],
   "source": []
  },
  {
   "cell_type": "code",
   "execution_count": null,
   "id": "69da38ca",
   "metadata": {},
   "outputs": [],
   "source": []
  },
  {
   "cell_type": "code",
   "execution_count": null,
   "id": "03462b53",
   "metadata": {},
   "outputs": [],
   "source": []
  },
  {
   "cell_type": "code",
   "execution_count": null,
   "id": "6ec3bb3e",
   "metadata": {},
   "outputs": [],
   "source": []
  },
  {
   "cell_type": "code",
   "execution_count": null,
   "id": "2577c737",
   "metadata": {},
   "outputs": [],
   "source": []
  },
  {
   "cell_type": "code",
   "execution_count": null,
   "id": "59abbd91",
   "metadata": {},
   "outputs": [],
   "source": []
  },
  {
   "cell_type": "code",
   "execution_count": null,
   "id": "16ba96b5",
   "metadata": {},
   "outputs": [],
   "source": []
  },
  {
   "cell_type": "code",
   "execution_count": null,
   "id": "bd1e45c1",
   "metadata": {},
   "outputs": [],
   "source": []
  },
  {
   "cell_type": "code",
   "execution_count": null,
   "id": "bbbe2446",
   "metadata": {},
   "outputs": [],
   "source": []
  },
  {
   "cell_type": "code",
   "execution_count": null,
   "id": "31ad6bef",
   "metadata": {},
   "outputs": [],
   "source": []
  },
  {
   "cell_type": "code",
   "execution_count": null,
   "id": "e6d023f1",
   "metadata": {},
   "outputs": [],
   "source": []
  },
  {
   "cell_type": "code",
   "execution_count": null,
   "id": "4cca7a30",
   "metadata": {},
   "outputs": [],
   "source": []
  },
  {
   "cell_type": "code",
   "execution_count": null,
   "id": "0a397899",
   "metadata": {},
   "outputs": [],
   "source": []
  },
  {
   "cell_type": "code",
   "execution_count": null,
   "id": "2b5ad48c",
   "metadata": {},
   "outputs": [],
   "source": []
  }
 ],
 "metadata": {
  "kernelspec": {
   "display_name": "Python 3 (ipykernel)",
   "language": "python",
   "name": "python3"
  },
  "language_info": {
   "codemirror_mode": {
    "name": "ipython",
    "version": 3
   },
   "file_extension": ".py",
   "mimetype": "text/x-python",
   "name": "python",
   "nbconvert_exporter": "python",
   "pygments_lexer": "ipython3",
   "version": "3.10.5"
  }
 },
 "nbformat": 4,
 "nbformat_minor": 5
}

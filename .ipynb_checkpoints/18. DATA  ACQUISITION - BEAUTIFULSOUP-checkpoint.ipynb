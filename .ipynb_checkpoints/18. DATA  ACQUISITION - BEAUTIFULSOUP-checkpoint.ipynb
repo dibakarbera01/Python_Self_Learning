{
 "cells": [
  {
   "cell_type": "raw",
   "id": "70af3a2c",
   "metadata": {},
   "source": [
    "Data Scraping using Beautiful Soup\n",
    "\n",
    "- import beautiful soup\n",
    "- make a get request to fetch page data\n",
    "- parse HTML\n",
    "- Filter Relavent Parts"
   ]
  },
  {
   "cell_type": "code",
   "execution_count": 23,
   "id": "e78aa623",
   "metadata": {},
   "outputs": [],
   "source": [
    "from urllib.request import urlopen"
   ]
  },
  {
   "cell_type": "code",
   "execution_count": 24,
   "id": "448df8f4",
   "metadata": {},
   "outputs": [],
   "source": [
    "android_url = \"https://en.wikipedia.org/wiki/Android_version_history\""
   ]
  },
  {
   "cell_type": "code",
   "execution_count": 25,
   "id": "bcfeae56",
   "metadata": {},
   "outputs": [
    {
     "name": "stdout",
     "output_type": "stream",
     "text": [
      "<class 'http.client.HTTPResponse'>\n"
     ]
    }
   ],
   "source": [
    "android_data = urlopen(android_url)\n",
    "print(type(android_data))"
   ]
  },
  {
   "cell_type": "code",
   "execution_count": null,
   "id": "a88dda6c",
   "metadata": {},
   "outputs": [],
   "source": [
    "android_html = android_data.read()\n",
    "\n",
    "print(android_html)\n",
    "android_data.close()"
   ]
  },
  {
   "cell_type": "markdown",
   "id": "ed44c9ff",
   "metadata": {},
   "source": [
    "### parsing data"
   ]
  },
  {
   "cell_type": "code",
   "execution_count": 27,
   "id": "9ccf09c0",
   "metadata": {},
   "outputs": [],
   "source": [
    "from bs4 import BeautifulSoup as soup"
   ]
  },
  {
   "cell_type": "code",
   "execution_count": null,
   "id": "263b8255",
   "metadata": {},
   "outputs": [],
   "source": [
    "android_soup = soup(android_html,'html.parser')\n",
    "print(android_soup)"
   ]
  },
  {
   "cell_type": "code",
   "execution_count": 29,
   "id": "6d6cf603",
   "metadata": {},
   "outputs": [
    {
     "name": "stdout",
     "output_type": "stream",
     "text": [
      "<class 'bs4.BeautifulSoup'>\n"
     ]
    }
   ],
   "source": [
    "print(type(android_soup))"
   ]
  },
  {
   "cell_type": "code",
   "execution_count": 30,
   "id": "6a042ecd",
   "metadata": {},
   "outputs": [
    {
     "data": {
      "text/plain": [
       "<h1 class=\"firstHeading mw-first-heading\" id=\"firstHeading\">Android version history</h1>"
      ]
     },
     "execution_count": 30,
     "metadata": {},
     "output_type": "execute_result"
    }
   ],
   "source": [
    "android_soup.h1"
   ]
  },
  {
   "cell_type": "code",
   "execution_count": 31,
   "id": "cf02ca98",
   "metadata": {},
   "outputs": [],
   "source": [
    "tables = android_soup.findAll('table',{'class':'wikitable'})"
   ]
  },
  {
   "cell_type": "code",
   "execution_count": 32,
   "id": "09d3af1f",
   "metadata": {},
   "outputs": [
    {
     "name": "stdout",
     "output_type": "stream",
     "text": [
      "33\n"
     ]
    }
   ],
   "source": [
    "print(len(tables))"
   ]
  },
  {
   "cell_type": "code",
   "execution_count": null,
   "id": "a6a2d4e4",
   "metadata": {},
   "outputs": [],
   "source": [
    "android_table = tables[0]\n",
    "print(android_table)"
   ]
  },
  {
   "cell_type": "markdown",
   "id": "622072d0",
   "metadata": {},
   "source": [
    "### Extracting useful Information\n"
   ]
  },
  {
   "cell_type": "raw",
   "id": "b04ebb46",
   "metadata": {},
   "source": [
    "-Remove undesired tags\n",
    "-Extract table header & data"
   ]
  },
  {
   "cell_type": "code",
   "execution_count": 34,
   "id": "4b2276e8",
   "metadata": {},
   "outputs": [
    {
     "name": "stdout",
     "output_type": "stream",
     "text": [
      "7\n"
     ]
    }
   ],
   "source": [
    "headers = android_table.findAll('th')\n",
    "print(len(headers))"
   ]
  },
  {
   "cell_type": "code",
   "execution_count": 35,
   "id": "567c16dc",
   "metadata": {},
   "outputs": [
    {
     "data": {
      "text/plain": [
       "'Internal codename[9]\\n'"
      ]
     },
     "execution_count": 35,
     "metadata": {},
     "output_type": "execute_result"
    }
   ],
   "source": [
    "headers[1].text"
   ]
  },
  {
   "cell_type": "code",
   "execution_count": 36,
   "id": "c491601d",
   "metadata": {},
   "outputs": [
    {
     "name": "stdout",
     "output_type": "stream",
     "text": [
      "['Name', 'Internal codename[9]', 'Version number(s)', 'APIlevel', 'Initial stablerelease date', 'Latest security patch date[14]', 'Latest Google Play Services version[15](release date)']\n"
     ]
    }
   ],
   "source": [
    "columns_titles = [ct.text[:-1] for ct in headers]\n",
    "print(columns_titles)"
   ]
  },
  {
   "cell_type": "code",
   "execution_count": 37,
   "id": "407eef53",
   "metadata": {},
   "outputs": [
    {
     "name": "stdout",
     "output_type": "stream",
     "text": [
      "35\n",
      "\n",
      "Name\n",
      "\n",
      "Internal codename[9]\n",
      "\n",
      "Version number(s)\n",
      "\n",
      "APIlevel\n",
      "\n",
      "Initial stablerelease date\n",
      "\n",
      "Latest security patch date[14]\n",
      "\n",
      "Latest Google Play Services version[15](release date)\n"
     ]
    }
   ],
   "source": [
    "rows_data = android_table.findAll('tr')\n",
    "print(len(rows_data))\n",
    "first_row = rows_data[0]\n",
    "for d in first_row:\n",
    "    print(d.text[:-1])\n"
   ]
  },
  {
   "cell_type": "code",
   "execution_count": 53,
   "id": "8c59f84f",
   "metadata": {},
   "outputs": [],
   "source": [
    "table_rows = []\n",
    "for row in rows_data:\n",
    "        current_row = []\n",
    "        row_data = row.findAll('td',{})\n",
    "        for idx,data in enumerate(row_data):\n",
    "            if idx==1:\n",
    "                current_row.append(data.text[:-1].split(\": \")[-1])\n",
    "            elif idx!=0 and idx!=3:\n",
    "                current_row.append(data.text[:-1])\n",
    "            else:\n",
    "                current_row.append(data.text)\n",
    "            \n",
    "        table_rows.append(current_row)    "
   ]
  },
  {
   "cell_type": "code",
   "execution_count": 54,
   "id": "6b8424c9",
   "metadata": {},
   "outputs": [
    {
     "name": "stdout",
     "output_type": "stream",
     "text": [
      "[[], ['Android 1.0\\n', '—', 'Old version, no longer maintained: 1.0', '1\\n', 'September 23, 2008', '—', '—'], ['Android 1.1\\n', 'Petit Four', 'Old version, no longer maintained: 1.1', '2\\n', 'February 9, 2009'], ['Android Cupcake\\n', 'Cupcake', 'Old version, no longer maintained: 1.5', '3\\n', 'April 27, 2009'], ['Android Donut\\n', 'Donut', 'Old version, no longer maintained: 1.6', '4\\n', 'September 15, 2009'], ['Android Eclair\\n', 'Eclair', 'Old version, no longer maintained: 2.0', '5\\n', 'October 27, 2009'], ['Old version, no longer maintained: 2.0.1\\n', '6', 'December 3, 2009'], ['Old version, no longer maintained: 2.1\\n', '7', 'January 11, 2010[16]'], ['Android Froyo\\n', 'Froyo', 'Old version, no longer maintained: 2.2 – 2.2.3', '8\\n', 'May 20, 2010', '3.2.25 (October 2014)'], ['Android Gingerbread\\n', 'Gingerbread', 'Old version, no longer maintained: 2.3 – 2.3.2', '9\\n', 'December 6, 2010', '10.0.84 (November 2016)'], ['Old version, no longer maintained: 2.3.3 – 2.3.7\\n', '10', 'February 9, 2011'], ['Android Honeycomb\\n', 'Honeycomb', 'Old version, no longer maintained: 3.0', '11\\n', 'February 22, 2011'], ['Old version, no longer maintained: 3.1\\n', '12', 'May 10, 2011'], ['Old version, no longer maintained: 3.2 – 3.2.6\\n', '13', 'July 15, 2011'], ['Android Ice Cream Sandwich\\n', 'Ice Cream Sandwich', 'Old version, no longer maintained: 4.0 – 4.0.2', '14\\n', 'October 18, 2011', '14.8.49 (February 2019)'], ['Old version, no longer maintained: 4.0.3 – 4.0.4\\n', '15', 'December 16, 2011'], ['Android Jelly Bean\\n', 'Jelly Bean', 'Old version, no longer maintained: 4.1 – 4.1.2', '16\\n', 'July 9, 2012', '21.33.56 (September 2021)'], ['Old version, no longer maintained: 4.2 – 4.2.2\\n', '17', 'November 13, 2012'], ['Old version, no longer maintained: 4.3 – 4.3.1\\n', '18', 'July 24, 2013'], ['Android KitKat\\n', 'Key Lime Pie', 'Old version, no longer maintained: 4.4 – 4.4.4', '19\\n', 'October 31, 2013', 'October 2017', '22.26.15 (July 2022)'], ['Old version, no longer maintained: 4.4W – 4.4W.2\\n', '20', 'June 25, 2014', '?\\n'], ['Android Lollipop\\n', 'Lemon Meringue Pie', 'Old version, no longer maintained: 5.0 – 5.0.2', '21\\n', 'November 4, 2014[17]', 'November 2017'], ['Old version, no longer maintained: 5.1 – 5.1.1\\n', '22', 'March 2, 2015[18]', 'March 2018\\n'], ['Android Marshmallow\\n', 'Macadamia Nut Cookie', 'Old version, no longer maintained: 6.0 – 6.0.1', '23\\n', 'October 2, 2015[19]', 'August 2018'], ['Android Nougat\\n', 'New York Cheesecake', 'Old version, no longer maintained: 7.0', '24\\n', 'August 22, 2016', 'August 2019'], ['Old version, no longer maintained: 7.1 – 7.1.2\\n', '25', 'October 4, 2016', 'October 2019\\n'], ['Android Oreo\\n', 'Oatmeal Cookie', 'Old version, no longer maintained: 8.0', '26\\n', 'August 21, 2017', 'January 2021'], ['Old version, no longer maintained: 8.1\\n', '27', 'December 5, 2017', 'October 2021\\n'], ['Android Pie\\n', 'Pistachio Ice Cream[20]', 'Old version, no longer maintained: 9', '28\\n', 'August 6, 2018', 'January 2022'], ['Android 10\\n', 'Quince Tart[21]', 'Older version, yet still maintained: 10', '29\\n', 'September 3, 2019', 'July 2022'], ['Android 11\\n', 'Red Velvet Cake[21]', 'Older version, yet still maintained: 11', '30\\n', 'September 8, 2020'], ['Android 12\\n', 'Snow Cone', 'Current stable version: 12', '31\\n', 'October 4, 2021'], ['Android 12L\\n', 'Snow Cone v2', 'Current stable version: 12.1[a]', '32\\n', 'March 7, 2022'], ['Android 13\\n', 'Tiramisu[23]', 'Latest preview version of a future release: 13[b]', '33\\n', 'Q3 2022'], ['Legend:Old versionOlder version, still maintainedLatest versionLatest preview versionFuture release\\n']]\n"
     ]
    }
   ],
   "source": [
    "print(table_rows)"
   ]
  },
  {
   "cell_type": "markdown",
   "id": "c80d9b82",
   "metadata": {},
   "source": [
    "### Wrting & Reading CSV Files"
   ]
  },
  {
   "cell_type": "code",
   "execution_count": 56,
   "id": "338e09de",
   "metadata": {},
   "outputs": [],
   "source": [
    "filename = 'android_version_history.csv'\n",
    "with open(filename, 'w', encoding='utf-8') as f:\n",
    "    # write the header\n",
    "    header_string = ','.join(columns_titles)\n",
    "    header_string += '\\n'\n",
    "    f.write(header_string)\n",
    "    \n",
    "    for row in table_rows[:-1]:\n",
    "        for w in row:\n",
    "            w = w.replace(',','')\n",
    "            row_string  += w + ',' \n",
    "            \n",
    "            row_string += '\\n'\n",
    "        f.write(row_string)\n",
    "        "
   ]
  },
  {
   "cell_type": "markdown",
   "id": "c5f5f2a4",
   "metadata": {},
   "source": [
    "## cleaning data"
   ]
  },
  {
   "cell_type": "code",
   "execution_count": 57,
   "id": "9d374477",
   "metadata": {},
   "outputs": [],
   "source": [
    "import pandas as pd"
   ]
  },
  {
   "cell_type": "code",
   "execution_count": 58,
   "id": "efbc9a88",
   "metadata": {},
   "outputs": [],
   "source": [
    "df = pd.read_csv('android_version_history.csv')"
   ]
  },
  {
   "cell_type": "code",
   "execution_count": 59,
   "id": "4112c672",
   "metadata": {},
   "outputs": [
    {
     "data": {
      "text/html": [
       "<div>\n",
       "<style scoped>\n",
       "    .dataframe tbody tr th:only-of-type {\n",
       "        vertical-align: middle;\n",
       "    }\n",
       "\n",
       "    .dataframe tbody tr th {\n",
       "        vertical-align: top;\n",
       "    }\n",
       "\n",
       "    .dataframe thead th {\n",
       "        text-align: right;\n",
       "    }\n",
       "</style>\n",
       "<table border=\"1\" class=\"dataframe\">\n",
       "  <thead>\n",
       "    <tr style=\"text-align: right;\">\n",
       "      <th></th>\n",
       "      <th>Name</th>\n",
       "      <th>Internal codename[9]</th>\n",
       "      <th>Version number(s)</th>\n",
       "      <th>APIlevel</th>\n",
       "      <th>Initial stablerelease date</th>\n",
       "      <th>Latest security patch date[14]</th>\n",
       "      <th>Latest Google Play Services version[15](release date)</th>\n",
       "    </tr>\n",
       "  </thead>\n",
       "  <tbody>\n",
       "    <tr>\n",
       "      <th>0</th>\n",
       "      <td>Legend:Old versionOlder version</td>\n",
       "      <td>still maintainedLatest versionLatest preview ...</td>\n",
       "      <td>NaN</td>\n",
       "      <td>NaN</td>\n",
       "      <td>NaN</td>\n",
       "      <td>NaN</td>\n",
       "      <td>NaN</td>\n",
       "    </tr>\n",
       "    <tr>\n",
       "      <th>1</th>\n",
       "      <td>Legend:Old versionOlder version</td>\n",
       "      <td>still maintainedLatest versionLatest preview ...</td>\n",
       "      <td>NaN</td>\n",
       "      <td>NaN</td>\n",
       "      <td>NaN</td>\n",
       "      <td>NaN</td>\n",
       "      <td>NaN</td>\n",
       "    </tr>\n",
       "    <tr>\n",
       "      <th>2</th>\n",
       "      <td>Android 1.0</td>\n",
       "      <td>NaN</td>\n",
       "      <td>NaN</td>\n",
       "      <td>NaN</td>\n",
       "      <td>NaN</td>\n",
       "      <td>NaN</td>\n",
       "      <td>NaN</td>\n",
       "    </tr>\n",
       "    <tr>\n",
       "      <th>3</th>\n",
       "      <td>NaN</td>\n",
       "      <td>NaN</td>\n",
       "      <td>NaN</td>\n",
       "      <td>NaN</td>\n",
       "      <td>NaN</td>\n",
       "      <td>NaN</td>\n",
       "      <td>NaN</td>\n",
       "    </tr>\n",
       "    <tr>\n",
       "      <th>4</th>\n",
       "      <td>—</td>\n",
       "      <td>NaN</td>\n",
       "      <td>NaN</td>\n",
       "      <td>NaN</td>\n",
       "      <td>NaN</td>\n",
       "      <td>NaN</td>\n",
       "      <td>NaN</td>\n",
       "    </tr>\n",
       "    <tr>\n",
       "      <th>5</th>\n",
       "      <td>Old version no longer maintained: 1.0</td>\n",
       "      <td>NaN</td>\n",
       "      <td>NaN</td>\n",
       "      <td>NaN</td>\n",
       "      <td>NaN</td>\n",
       "      <td>NaN</td>\n",
       "      <td>NaN</td>\n",
       "    </tr>\n",
       "    <tr>\n",
       "      <th>6</th>\n",
       "      <td>1</td>\n",
       "      <td>NaN</td>\n",
       "      <td>NaN</td>\n",
       "      <td>NaN</td>\n",
       "      <td>NaN</td>\n",
       "      <td>NaN</td>\n",
       "      <td>NaN</td>\n",
       "    </tr>\n",
       "    <tr>\n",
       "      <th>7</th>\n",
       "      <td>NaN</td>\n",
       "      <td>NaN</td>\n",
       "      <td>NaN</td>\n",
       "      <td>NaN</td>\n",
       "      <td>NaN</td>\n",
       "      <td>NaN</td>\n",
       "      <td>NaN</td>\n",
       "    </tr>\n",
       "    <tr>\n",
       "      <th>8</th>\n",
       "      <td>September 23 2008</td>\n",
       "      <td>NaN</td>\n",
       "      <td>NaN</td>\n",
       "      <td>NaN</td>\n",
       "      <td>NaN</td>\n",
       "      <td>NaN</td>\n",
       "      <td>NaN</td>\n",
       "    </tr>\n",
       "    <tr>\n",
       "      <th>9</th>\n",
       "      <td>—</td>\n",
       "      <td>NaN</td>\n",
       "      <td>NaN</td>\n",
       "      <td>NaN</td>\n",
       "      <td>NaN</td>\n",
       "      <td>NaN</td>\n",
       "      <td>NaN</td>\n",
       "    </tr>\n",
       "  </tbody>\n",
       "</table>\n",
       "</div>"
      ],
      "text/plain": [
       "                                    Name  \\\n",
       "0        Legend:Old versionOlder version   \n",
       "1        Legend:Old versionOlder version   \n",
       "2                            Android 1.0   \n",
       "3                                    NaN   \n",
       "4                                      —   \n",
       "5  Old version no longer maintained: 1.0   \n",
       "6                                      1   \n",
       "7                                    NaN   \n",
       "8                      September 23 2008   \n",
       "9                                      —   \n",
       "\n",
       "                                Internal codename[9]  Version number(s)  \\\n",
       "0   still maintainedLatest versionLatest preview ...                NaN   \n",
       "1   still maintainedLatest versionLatest preview ...                NaN   \n",
       "2                                                NaN                NaN   \n",
       "3                                                NaN                NaN   \n",
       "4                                                NaN                NaN   \n",
       "5                                                NaN                NaN   \n",
       "6                                                NaN                NaN   \n",
       "7                                                NaN                NaN   \n",
       "8                                                NaN                NaN   \n",
       "9                                                NaN                NaN   \n",
       "\n",
       "   APIlevel  Initial stablerelease date  Latest security patch date[14]  \\\n",
       "0       NaN                         NaN                             NaN   \n",
       "1       NaN                         NaN                             NaN   \n",
       "2       NaN                         NaN                             NaN   \n",
       "3       NaN                         NaN                             NaN   \n",
       "4       NaN                         NaN                             NaN   \n",
       "5       NaN                         NaN                             NaN   \n",
       "6       NaN                         NaN                             NaN   \n",
       "7       NaN                         NaN                             NaN   \n",
       "8       NaN                         NaN                             NaN   \n",
       "9       NaN                         NaN                             NaN   \n",
       "\n",
       "   Latest Google Play Services version[15](release date)  \n",
       "0                                                NaN      \n",
       "1                                                NaN      \n",
       "2                                                NaN      \n",
       "3                                                NaN      \n",
       "4                                                NaN      \n",
       "5                                                NaN      \n",
       "6                                                NaN      \n",
       "7                                                NaN      \n",
       "8                                                NaN      \n",
       "9                                                NaN      "
      ]
     },
     "execution_count": 59,
     "metadata": {},
     "output_type": "execute_result"
    }
   ],
   "source": [
    "df.head(n=10)"
   ]
  },
  {
   "cell_type": "code",
   "execution_count": 60,
   "id": "3c720654",
   "metadata": {},
   "outputs": [
    {
     "data": {
      "text/plain": [
       "Name                                                                       Legend:Old versionOlder version\n",
       "Internal codename[9]                                      still maintainedLatest versionLatest preview ...\n",
       "Version number(s)                                                                                      NaN\n",
       "APIlevel                                                                                               NaN\n",
       "Initial stablerelease date                                                                             NaN\n",
       "Latest security patch date[14]                                                                         NaN\n",
       "Latest Google Play Services version[15](release date)                                                  NaN\n",
       "Name: 0, dtype: object"
      ]
     },
     "execution_count": 60,
     "metadata": {},
     "output_type": "execute_result"
    }
   ],
   "source": [
    "df.iloc[0]"
   ]
  },
  {
   "cell_type": "markdown",
   "id": "2241d02a",
   "metadata": {},
   "source": [
    "## Loading Local Files"
   ]
  },
  {
   "cell_type": "code",
   "execution_count": null,
   "id": "833a7632",
   "metadata": {},
   "outputs": [],
   "source": []
  }
 ],
 "metadata": {
  "kernelspec": {
   "display_name": "Python 3 (ipykernel)",
   "language": "python",
   "name": "python3"
  },
  "language_info": {
   "codemirror_mode": {
    "name": "ipython",
    "version": 3
   },
   "file_extension": ".py",
   "mimetype": "text/x-python",
   "name": "python",
   "nbconvert_exporter": "python",
   "pygments_lexer": "ipython3",
   "version": "3.10.5"
  }
 },
 "nbformat": 4,
 "nbformat_minor": 5
}

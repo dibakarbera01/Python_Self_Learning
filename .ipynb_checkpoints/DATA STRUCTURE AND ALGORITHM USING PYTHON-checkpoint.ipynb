{
 "cells": [
  {
   "cell_type": "markdown",
   "id": "aa3d4fb7",
   "metadata": {},
   "source": [
    "## DATA STRUCTURE AND ALGORITHM USING PYTHON"
   ]
  },
  {
   "cell_type": "markdown",
   "id": "0186658c",
   "metadata": {},
   "source": [
    "### Big O Notation"
   ]
  },
  {
   "cell_type": "markdown",
   "id": "9c886318",
   "metadata": {},
   "source": [
    "O(n^2)"
   ]
  },
  {
   "cell_type": "code",
   "execution_count": 7,
   "id": "36990552",
   "metadata": {},
   "outputs": [
    {
     "name": "stdout",
     "output_type": "stream",
     "text": [
      "49\n"
     ]
    }
   ],
   "source": [
    "num_list = [1,2,3,4,5,6,7]\n",
    "def randomFunction(num_list):\n",
    "    total = 0\n",
    "    for num1 in num_list:\n",
    "        for num2 in num_list:\n",
    "            total += 1\n",
    "    return total\n",
    "print(randomFunction(num_list))    \n",
    "    "
   ]
  },
  {
   "cell_type": "code",
   "execution_count": 9,
   "id": "f852ffcf",
   "metadata": {},
   "outputs": [
    {
     "name": "stdout",
     "output_type": "stream",
     "text": [
      "35\n"
     ]
    }
   ],
   "source": [
    "num_list = [1,2,3,4,5,6,7]\n",
    "num_list2 = [5,6,7,8,9]\n",
    "def randomFunction(num_list):\n",
    "    total = 0\n",
    "    for num1 in num_list2:\n",
    "        for num2 in num_list:\n",
    "            total += 1\n",
    "    return total\n",
    "print(randomFunction(num_list))"
   ]
  },
  {
   "cell_type": "markdown",
   "id": "fe89b68d",
   "metadata": {},
   "source": [
    "### why we need Big o notation?"
   ]
  },
  {
   "cell_type": "markdown",
   "id": "08d16957",
   "metadata": {},
   "source": [
    "WAP to calculate sum of N natural numbers. For Example we will take n as 100"
   ]
  },
  {
   "cell_type": "code",
   "execution_count": 6,
   "id": "e933cebb",
   "metadata": {},
   "outputs": [
    {
     "name": "stdout",
     "output_type": "stream",
     "text": [
      "The sum is 5050\n",
      "0.0\n"
     ]
    }
   ],
   "source": [
    "import time\n",
    "time.time()\n",
    "timetamp1 = time.time()\n",
    "number = 100\n",
    "total = 0\n",
    "for value in range(1, number+1):\n",
    "    total = total+value\n",
    "print(\"The sum is\",total)\n",
    "timetamp2 = time.time()\n",
    "print((timetamp2 - timetamp1))"
   ]
  },
  {
   "cell_type": "code",
   "execution_count": 7,
   "id": "6ae178f5",
   "metadata": {},
   "outputs": [
    {
     "name": "stdout",
     "output_type": "stream",
     "text": [
      "The sum is 0\n",
      "0.0009984970092773438\n"
     ]
    }
   ],
   "source": [
    "import time\n",
    "time.time()\n",
    "timetamp1 = time.time()\n",
    "num = 100\n",
    "if num<0:\n",
    "    print(\"Enter a positive number\")\n",
    "else:\n",
    "    sum = 0\n",
    "    while(num>0):\n",
    "        sum += sum\n",
    "        num -= 1\n",
    "    print(\"The sum is\",sum)    \n",
    "timetamp2 = time.time()\n",
    "print((timetamp2 - timetamp1))"
   ]
  },
  {
   "cell_type": "markdown",
   "id": "1e50f600",
   "metadata": {},
   "source": [
    "### Big O(n) Complexity"
   ]
  },
  {
   "cell_type": "code",
   "execution_count": 3,
   "id": "a9afe16c",
   "metadata": {},
   "outputs": [
    {
     "name": "stdout",
     "output_type": "stream",
     "text": [
      "Available\n",
      "Available\n"
     ]
    }
   ],
   "source": [
    "student_list1 = ['tim','drake','ashish','subham']\n",
    "student_list2 = ['andrew','chris','harshit','lary','subham']\n",
    "\n",
    "def checkStudent(student_list1):\n",
    "    for student in student_list1:\n",
    "        if student == 'subham':\n",
    "            print('Available')\n",
    "checkStudent(student_list1)\n",
    "checkStudent(student_list2)"
   ]
  },
  {
   "cell_type": "markdown",
   "id": "15a96572",
   "metadata": {},
   "source": [
    "### Big O(1) Complexity "
   ]
  },
  {
   "cell_type": "code",
   "execution_count": 4,
   "id": "9a6462e2",
   "metadata": {},
   "outputs": [
    {
     "name": "stdout",
     "output_type": "stream",
     "text": [
      "andrew\n",
      "akshat\n"
     ]
    }
   ],
   "source": [
    "student_list = ['andrew','akshat','chris','harshit','lary','shubham','tim','drake','ashish']\n",
    "\n",
    "def displayStudent(student_list):\n",
    "    print(student_list[0]) #O(1)\n",
    "    print(student_list[1]) #O(1)\n",
    "    \n",
    "displayStudent(student_list)   #O(2) constant \n",
    "    "
   ]
  },
  {
   "cell_type": "code",
   "execution_count": null,
   "id": "05f663f7",
   "metadata": {},
   "outputs": [],
   "source": []
  }
 ],
 "metadata": {
  "kernelspec": {
   "display_name": "Python 3 (ipykernel)",
   "language": "python",
   "name": "python3"
  },
  "language_info": {
   "codemirror_mode": {
    "name": "ipython",
    "version": 3
   },
   "file_extension": ".py",
   "mimetype": "text/x-python",
   "name": "python",
   "nbconvert_exporter": "python",
   "pygments_lexer": "ipython3",
   "version": "3.10.5"
  }
 },
 "nbformat": 4,
 "nbformat_minor": 5
}

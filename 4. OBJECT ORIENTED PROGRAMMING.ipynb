{
 "cells": [
  {
   "cell_type": "markdown",
   "id": "bcb1737c",
   "metadata": {},
   "source": [
    "# OBJECT ORIENTED PROGRAMMING"
   ]
  },
  {
   "cell_type": "code",
   "execution_count": null,
   "id": "70bd4c06",
   "metadata": {},
   "outputs": [],
   "source": []
  },
  {
   "cell_type": "code",
   "execution_count": 1,
   "id": "6f6564b1",
   "metadata": {},
   "outputs": [
    {
     "name": "stdout",
     "output_type": "stream",
     "text": [
      "<__main__.person object at 0x000002A9436B14E0>\n"
     ]
    }
   ],
   "source": [
    "class person:\n",
    "    pass\n",
    "p = person()\n",
    "print(p)"
   ]
  },
  {
   "cell_type": "code",
   "execution_count": 5,
   "id": "03b02a69",
   "metadata": {},
   "outputs": [
    {
     "data": {
      "text/plain": [
       "'0x2a9436b14e0'"
      ]
     },
     "execution_count": 5,
     "metadata": {},
     "output_type": "execute_result"
    }
   ],
   "source": [
    "hex(id(p))"
   ]
  },
  {
   "cell_type": "code",
   "execution_count": 4,
   "id": "9656ac91",
   "metadata": {},
   "outputs": [
    {
     "name": "stdout",
     "output_type": "stream",
     "text": [
      "True\n"
     ]
    }
   ],
   "source": [
    " a=1\n",
    "print(isinstance(a,object))"
   ]
  },
  {
   "cell_type": "raw",
   "id": "49fb60bd",
   "metadata": {},
   "source": [
    "The__init__method"
   ]
  },
  {
   "cell_type": "code",
   "execution_count": 6,
   "id": "ec8e66b3",
   "metadata": {},
   "outputs": [
    {
     "name": "stdout",
     "output_type": "stream",
     "text": [
      "Hello, my name is jatin\n",
      "Hello, my name is jatin\n"
     ]
    }
   ],
   "source": [
    "class person:\n",
    "    name='jatin'\n",
    "    def say_hi(self):\n",
    "        print('Hello, my name is', self.name)\n",
    "p = person()\n",
    "p.say_hi()\n",
    "\n",
    "person.say_hi(p)"
   ]
  },
  {
   "cell_type": "code",
   "execution_count": null,
   "id": "5aabf6e1",
   "metadata": {},
   "outputs": [],
   "source": [
    "class person:\n",
    "    \n",
    "    def _init_(self,name):\n",
    "        self.name = name\n",
    "    def say_hi(self):\n",
    "        print('Hello, my name is', self.name)\n",
    "p = person(\"jatin\")\n",
    "p.say_hi()\n",
    "\n",
    "person.say_hi(p)"
   ]
  },
  {
   "cell_type": "markdown",
   "id": "f3726439",
   "metadata": {},
   "source": [
    "# Dunders or Magic Function\n"
   ]
  },
  {
   "cell_type": "code",
   "execution_count": 5,
   "id": "e4ec6132",
   "metadata": {},
   "outputs": [],
   "source": [
    "class car:\n",
    "    def __init__(self, model, mileage):\n",
    "        self.model = model\n",
    "        self.mileage = mileage\n",
    "    def __str__(self):\n",
    "        return\"{} {}\".format(self.model, self.mileage)\n",
    "    def __repr__(self):\n",
    "        return \"{}\".format(self.model)\n",
    "    def __eq__(self,other):\n",
    "        return self.mileage == other.mileage\n",
    "    def __add__(self, other):\n",
    "        return self.mileage + other.mileage"
   ]
  },
  {
   "cell_type": "code",
   "execution_count": 6,
   "id": "18448028",
   "metadata": {},
   "outputs": [],
   "source": [
    "c1 = car('a',2)\n",
    "c2 = car('b',2)"
   ]
  },
  {
   "cell_type": "code",
   "execution_count": 7,
   "id": "826e6837",
   "metadata": {},
   "outputs": [
    {
     "data": {
      "text/plain": [
       "4"
      ]
     },
     "execution_count": 7,
     "metadata": {},
     "output_type": "execute_result"
    }
   ],
   "source": [
    "c1 + c2"
   ]
  },
  {
   "cell_type": "code",
   "execution_count": 8,
   "id": "500d3661",
   "metadata": {},
   "outputs": [
    {
     "data": {
      "text/plain": [
       "True"
      ]
     },
     "execution_count": 8,
     "metadata": {},
     "output_type": "execute_result"
    }
   ],
   "source": [
    "c1 == c2"
   ]
  },
  {
   "cell_type": "code",
   "execution_count": 19,
   "id": "e056f0fd",
   "metadata": {
    "scrolled": true
   },
   "outputs": [],
   "source": [
    "class Ostream:\n",
    "    def __lshift__(self,other):\n",
    "        print(other, end = '')\n",
    "        return self\n",
    "cout = Ostream()"
   ]
  },
  {
   "cell_type": "code",
   "execution_count": 20,
   "id": "6dbf7e4e",
   "metadata": {},
   "outputs": [
    {
     "name": "stdout",
     "output_type": "stream",
     "text": [
      "dibakarbera"
     ]
    },
    {
     "data": {
      "text/plain": [
       "<__main__.Ostream at 0x24bc14455a0>"
      ]
     },
     "execution_count": 20,
     "metadata": {},
     "output_type": "execute_result"
    }
   ],
   "source": [
    "cout << \"dibakar\" << \"bera\""
   ]
  },
  {
   "cell_type": "raw",
   "id": "26ee3bf2",
   "metadata": {},
   "source": []
  },
  {
   "cell_type": "code",
   "execution_count": 21,
   "id": "66eace33",
   "metadata": {},
   "outputs": [],
   "source": [
    "class Dog:\n",
    "    kind = 'canine'\n",
    "    \n",
    "    def __init__(self, name):\n",
    "        self.name = name"
   ]
  },
  {
   "cell_type": "code",
   "execution_count": 22,
   "id": "91c9bf4b",
   "metadata": {},
   "outputs": [],
   "source": [
    "a = Dog('tuffy')"
   ]
  },
  {
   "cell_type": "code",
   "execution_count": 23,
   "id": "ad5587d8",
   "metadata": {},
   "outputs": [
    {
     "data": {
      "text/plain": [
       "'canine'"
      ]
     },
     "execution_count": 23,
     "metadata": {},
     "output_type": "execute_result"
    }
   ],
   "source": [
    "a.kind"
   ]
  },
  {
   "cell_type": "code",
   "execution_count": 24,
   "id": "774bab4e",
   "metadata": {},
   "outputs": [],
   "source": [
    "b = Dog('maxx')"
   ]
  },
  {
   "cell_type": "code",
   "execution_count": 25,
   "id": "d180a32a",
   "metadata": {},
   "outputs": [],
   "source": [
    "b.kind= 'something'"
   ]
  },
  {
   "cell_type": "code",
   "execution_count": 26,
   "id": "b98e0490",
   "metadata": {},
   "outputs": [
    {
     "data": {
      "text/plain": [
       "'something'"
      ]
     },
     "execution_count": 26,
     "metadata": {},
     "output_type": "execute_result"
    }
   ],
   "source": [
    "b.kind"
   ]
  },
  {
   "cell_type": "code",
   "execution_count": 27,
   "id": "a6dffe91",
   "metadata": {},
   "outputs": [],
   "source": [
    "class Dog:\n",
    "    \n",
    "    tricks = []\n",
    "    \n",
    "    def __init__(self, name):\n",
    "        self.name = name\n",
    "      \n",
    "    def add_trick(self, trick):\n",
    "        self.tricks.append(trick)\n",
    "        "
   ]
  },
  {
   "cell_type": "code",
   "execution_count": 28,
   "id": "dd390710",
   "metadata": {},
   "outputs": [],
   "source": [
    "a = Dog('bruno')"
   ]
  },
  {
   "cell_type": "code",
   "execution_count": 29,
   "id": "eeebdb35",
   "metadata": {},
   "outputs": [],
   "source": [
    "b = Dog('maxx')"
   ]
  },
  {
   "cell_type": "code",
   "execution_count": 30,
   "id": "8fde23c2",
   "metadata": {},
   "outputs": [],
   "source": [
    "a.add_trick('fetch')"
   ]
  },
  {
   "cell_type": "code",
   "execution_count": 31,
   "id": "2b21e5c4",
   "metadata": {},
   "outputs": [],
   "source": [
    "a.add_trick('talk')"
   ]
  },
  {
   "cell_type": "code",
   "execution_count": 32,
   "id": "84938157",
   "metadata": {},
   "outputs": [
    {
     "data": {
      "text/plain": [
       "['fetch', 'talk']"
      ]
     },
     "execution_count": 32,
     "metadata": {},
     "output_type": "execute_result"
    }
   ],
   "source": [
    "a.tricks"
   ]
  },
  {
   "cell_type": "code",
   "execution_count": 33,
   "id": "bc2c6e4d",
   "metadata": {},
   "outputs": [
    {
     "data": {
      "text/plain": [
       "['fetch', 'talk']"
      ]
     },
     "execution_count": 33,
     "metadata": {},
     "output_type": "execute_result"
    }
   ],
   "source": [
    "b.tricks"
   ]
  },
  {
   "cell_type": "code",
   "execution_count": 34,
   "id": "8c438f73",
   "metadata": {},
   "outputs": [
    {
     "data": {
      "text/plain": [
       "2524416968512"
      ]
     },
     "execution_count": 34,
     "metadata": {},
     "output_type": "execute_result"
    }
   ],
   "source": [
    "id(a.tricks)"
   ]
  },
  {
   "cell_type": "code",
   "execution_count": 35,
   "id": "751a781c",
   "metadata": {},
   "outputs": [
    {
     "data": {
      "text/plain": [
       "2524416968512"
      ]
     },
     "execution_count": 35,
     "metadata": {},
     "output_type": "execute_result"
    }
   ],
   "source": [
    "id(b.tricks)"
   ]
  },
  {
   "cell_type": "code",
   "execution_count": 36,
   "id": "5d17425d",
   "metadata": {},
   "outputs": [
    {
     "data": {
      "text/plain": [
       "2524416968512"
      ]
     },
     "execution_count": 36,
     "metadata": {},
     "output_type": "execute_result"
    }
   ],
   "source": [
    "id(Dog.tricks)"
   ]
  },
  {
   "cell_type": "raw",
   "id": "5f017be4",
   "metadata": {},
   "source": [
    "solution of thid problem"
   ]
  },
  {
   "cell_type": "code",
   "execution_count": 37,
   "id": "f6333f53",
   "metadata": {},
   "outputs": [],
   "source": [
    "class Dog:\n",
    "    \n",
    " \n",
    "    \n",
    "    def __init__(self, name):\n",
    "        self.name = name\n",
    "        self.tricks = []\n",
    "      \n",
    "    def add_trick(self, trick):\n",
    "        self.tricks.append(trick)"
   ]
  },
  {
   "cell_type": "code",
   "execution_count": 38,
   "id": "3d090546",
   "metadata": {},
   "outputs": [
    {
     "data": {
      "text/plain": [
       "2524416968512"
      ]
     },
     "execution_count": 38,
     "metadata": {},
     "output_type": "execute_result"
    }
   ],
   "source": [
    "id(a.tricks)"
   ]
  },
  {
   "cell_type": "code",
   "execution_count": 39,
   "id": "4bf066b8",
   "metadata": {},
   "outputs": [
    {
     "data": {
      "text/plain": [
       "2524416968512"
      ]
     },
     "execution_count": 39,
     "metadata": {},
     "output_type": "execute_result"
    }
   ],
   "source": [
    "id(b.tricks)"
   ]
  },
  {
   "cell_type": "code",
   "execution_count": null,
   "id": "1f41253e",
   "metadata": {},
   "outputs": [],
   "source": []
  },
  {
   "cell_type": "code",
   "execution_count": 1,
   "id": "ccb0f6ca",
   "metadata": {},
   "outputs": [],
   "source": [
    "class A:\n",
    "    x = 10\n",
    "class B(A):\n",
    "    pass\n",
    "class C(A):\n",
    "    x = 5\n",
    "class D(C):\n",
    "    pass\n",
    "class E(B,D):\n",
    "    pass"
   ]
  },
  {
   "cell_type": "code",
   "execution_count": 2,
   "id": "27aaa17e",
   "metadata": {},
   "outputs": [
    {
     "data": {
      "text/plain": [
       "5"
      ]
     },
     "execution_count": 2,
     "metadata": {},
     "output_type": "execute_result"
    }
   ],
   "source": [
    "E.x"
   ]
  },
  {
   "cell_type": "code",
   "execution_count": 4,
   "id": "922fc67b",
   "metadata": {},
   "outputs": [
    {
     "data": {
      "text/plain": [
       "(__main__.E, __main__.B, __main__.D, __main__.C, __main__.A, object)"
      ]
     },
     "execution_count": 4,
     "metadata": {},
     "output_type": "execute_result"
    }
   ],
   "source": [
    "E.__mro__"
   ]
  },
  {
   "cell_type": "code",
   "execution_count": null,
   "id": "df595441",
   "metadata": {},
   "outputs": [],
   "source": []
  }
 ],
 "metadata": {
  "kernelspec": {
   "display_name": "Python 3 (ipykernel)",
   "language": "python",
   "name": "python3"
  },
  "language_info": {
   "codemirror_mode": {
    "name": "ipython",
    "version": 3
   },
   "file_extension": ".py",
   "mimetype": "text/x-python",
   "name": "python",
   "nbconvert_exporter": "python",
   "pygments_lexer": "ipython3",
   "version": "3.10.5"
  }
 },
 "nbformat": 4,
 "nbformat_minor": 5
}

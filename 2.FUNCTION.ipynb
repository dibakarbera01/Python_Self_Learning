{
 "cells": [
  {
   "cell_type": "markdown",
   "id": "1776842d",
   "metadata": {},
   "source": [
    "# FUNCTION\n"
   ]
  },
  {
   "cell_type": "code",
   "execution_count": null,
   "id": "5cb6bb9d",
   "metadata": {},
   "outputs": [],
   "source": []
  },
  {
   "cell_type": "code",
   "execution_count": 1,
   "id": "75c06ff0",
   "metadata": {},
   "outputs": [
    {
     "name": "stdout",
     "output_type": "stream",
     "text": [
      "knock knock knock dibakar\n",
      "knock knock knock dibakar\n",
      "knock knock knock dibakar\n",
      "30\n",
      "0\n",
      "1\n",
      "2\n",
      "3\n",
      "4\n",
      "5\n",
      "6\n",
      "7\n",
      "8\n",
      "9\n",
      "knock knock knock dibakar\n",
      "knock knock knock dibakar\n",
      "knock knock knock dibakar\n"
     ]
    }
   ],
   "source": [
    "# print sheldon knock\n",
    "print(\"knock knock knock dibakar\")\n",
    "print(\"knock knock knock dibakar\")\n",
    "print(\"knock knock knock dibakar\")\n",
    "\n",
    "print(10+20)\n",
    "for i in range(10):\n",
    "    print(i)\n",
    " # print sheldon knock\n",
    "print(\"knock knock knock dibakar\")\n",
    "print(\"knock knock knock dibakar\")\n",
    "print(\"knock knock knock dibakar\")   "
   ]
  },
  {
   "cell_type": "code",
   "execution_count": 2,
   "id": "88413406",
   "metadata": {},
   "outputs": [],
   "source": [
    "def sheldon_knock():\n",
    "    print(\"knock knock knock dibakar\")\n",
    "    print(\"knock knock knock dibakar\")\n",
    "    print(\"knock knock knock dibakar\")"
   ]
  },
  {
   "cell_type": "code",
   "execution_count": 3,
   "id": "ed819989",
   "metadata": {},
   "outputs": [
    {
     "name": "stdout",
     "output_type": "stream",
     "text": [
      "knock knock knock dibakar\n",
      "knock knock knock dibakar\n",
      "knock knock knock dibakar\n",
      "30\n",
      "0\n",
      "1\n",
      "2\n",
      "3\n",
      "4\n",
      "5\n",
      "6\n",
      "7\n",
      "8\n",
      "9\n",
      "knock knock knock dibakar\n",
      "knock knock knock dibakar\n",
      "knock knock knock dibakar\n"
     ]
    }
   ],
   "source": [
    "sheldon_knock()\n",
    "print(10+20)\n",
    "for i in range(10):\n",
    "     print(i)\n",
    "sheldon_knock()   "
   ]
  },
  {
   "cell_type": "code",
   "execution_count": 5,
   "id": "17fbcee4",
   "metadata": {},
   "outputs": [],
   "source": [
    "def sheldon_knock(name):\n",
    "    print(\"knock knock knock {}\".format(name))\n",
    "    print(\"knock knock knock {}\".format(name))\n",
    "    print(\"knock knock knock {}\".format(name))"
   ]
  },
  {
   "cell_type": "code",
   "execution_count": 6,
   "id": "5a6337ee",
   "metadata": {},
   "outputs": [
    {
     "name": "stdout",
     "output_type": "stream",
     "text": [
      "knock knock knock dibakar\n",
      "knock knock knock dibakar\n",
      "knock knock knock dibakar\n"
     ]
    }
   ],
   "source": [
    "sheldon_knock(\"dibakar\")"
   ]
  },
  {
   "cell_type": "markdown",
   "id": "b4eb9bb8",
   "metadata": {},
   "source": [
    "# `FUNCTION CAN TAKE PARAMETERS"
   ]
  },
  {
   "cell_type": "code",
   "execution_count": 15,
   "id": "f3a85c0a",
   "metadata": {},
   "outputs": [],
   "source": [
    "def sheldon_knock(name, number_of_time=4):\n",
    "    for i in range(number_of_time):\n",
    "        print(\"knock knock knock {}\".format(name))"
   ]
  },
  {
   "cell_type": "code",
   "execution_count": 16,
   "id": "e57382df",
   "metadata": {},
   "outputs": [
    {
     "name": "stdout",
     "output_type": "stream",
     "text": [
      "knock knock knock dibakar\n",
      "knock knock knock dibakar\n",
      "knock knock knock dibakar\n"
     ]
    }
   ],
   "source": [
    "sheldon_knock(\"dibakar\",3)"
   ]
  },
  {
   "cell_type": "markdown",
   "id": "987f1a53",
   "metadata": {},
   "source": [
    "# return statement"
   ]
  },
  {
   "cell_type": "code",
   "execution_count": 17,
   "id": "b609b0eb",
   "metadata": {},
   "outputs": [],
   "source": [
    "def add(a,b):\n",
    "    print(a + b)"
   ]
  },
  {
   "cell_type": "code",
   "execution_count": 18,
   "id": "05d5a0bf",
   "metadata": {},
   "outputs": [
    {
     "name": "stdout",
     "output_type": "stream",
     "text": [
      "3\n"
     ]
    }
   ],
   "source": [
    "x = add(1,2)"
   ]
  },
  {
   "cell_type": "code",
   "execution_count": 19,
   "id": "e531e7a6",
   "metadata": {},
   "outputs": [],
   "source": [
    "def add(a,b):\n",
    "    \n",
    "    return a+b\n"
   ]
  },
  {
   "cell_type": "code",
   "execution_count": 20,
   "id": "1e7103ae",
   "metadata": {},
   "outputs": [],
   "source": [
    "x=add(1,2)"
   ]
  },
  {
   "cell_type": "code",
   "execution_count": 21,
   "id": "78db0147",
   "metadata": {},
   "outputs": [
    {
     "name": "stdout",
     "output_type": "stream",
     "text": [
      "3\n"
     ]
    }
   ],
   "source": [
    "print(x)"
   ]
  },
  {
   "cell_type": "code",
   "execution_count": 26,
   "id": "99cedfbf",
   "metadata": {},
   "outputs": [],
   "source": [
    "def div(a,b):\n",
    "    try:\n",
    "        return a/b\n",
    "    except:\n",
    "        print(\"Error\")\n",
    "    finally:\n",
    "        print('Wrapping up')"
   ]
  },
  {
   "cell_type": "code",
   "execution_count": 27,
   "id": "02865aee",
   "metadata": {},
   "outputs": [
    {
     "name": "stdout",
     "output_type": "stream",
     "text": [
      "Wrapping up\n"
     ]
    },
    {
     "data": {
      "text/plain": [
       "5.0"
      ]
     },
     "execution_count": 27,
     "metadata": {},
     "output_type": "execute_result"
    }
   ],
   "source": [
    "div(10, 2)"
   ]
  },
  {
   "cell_type": "code",
   "execution_count": 28,
   "id": "68a1fd6c",
   "metadata": {},
   "outputs": [
    {
     "name": "stdout",
     "output_type": "stream",
     "text": [
      "Error\n",
      "Wrapping up\n"
     ]
    }
   ],
   "source": [
    "div(10, 0)"
   ]
  },
  {
   "cell_type": "markdown",
   "id": "31063484",
   "metadata": {},
   "source": [
    "# LOCAL AND GLOBAL VARIABLES\n"
   ]
  },
  {
   "cell_type": "code",
   "execution_count": 10,
   "id": "7ba5dea3",
   "metadata": {},
   "outputs": [],
   "source": [
    "x= 10\n",
    "def show():\n",
    "    global x\n",
    "    x +=5\n",
    "    print(x)"
   ]
  },
  {
   "cell_type": "code",
   "execution_count": 11,
   "id": "2b1cc7e6",
   "metadata": {},
   "outputs": [
    {
     "name": "stdout",
     "output_type": "stream",
     "text": [
      "15\n",
      "15\n"
     ]
    }
   ],
   "source": [
    "show()\n",
    "print(x)"
   ]
  },
  {
   "cell_type": "code",
   "execution_count": 14,
   "id": "56467bb3",
   "metadata": {},
   "outputs": [],
   "source": [
    "x= 10\n",
    "def show():\n",
    "    y = \"local\"\n",
    "    x +=5\n",
    "    print(x)\n",
    "    print(y)"
   ]
  },
  {
   "cell_type": "code",
   "execution_count": 18,
   "id": "cff40fcd",
   "metadata": {},
   "outputs": [],
   "source": [
    "def outer():\n",
    "    x = \"local\"\n",
    "    def inner():\n",
    "        print(x)\n",
    "    \n",
    "    inner()\n",
    "    print(x)"
   ]
  },
  {
   "cell_type": "code",
   "execution_count": 19,
   "id": "ce0bb91d",
   "metadata": {},
   "outputs": [
    {
     "name": "stdout",
     "output_type": "stream",
     "text": [
      "local\n",
      "local\n"
     ]
    }
   ],
   "source": [
    "outer()"
   ]
  },
  {
   "cell_type": "markdown",
   "id": "69072f1c",
   "metadata": {},
   "source": [
    "# DEFAULT ARGUMENT VALUES"
   ]
  },
  {
   "cell_type": "raw",
   "id": "37d1ed59",
   "metadata": {},
   "source": [
    "KEYWORD ARGUMENTS\n",
    "\n",
    "IF YOU HAVE SOME FUNCTIONS WITH MANY PARAMETERS AND YOU WANT TO SPECIFY ONLY SOME OF THWM, THEN YOU CAN GIVE VALUES FOR SUCH PARAMETERS BY NAMING THEM - THIS IS CALLED KEYWORD ARGUMENTS - WE USE THE NAME(KAYWORD) INSTEAD OF THE POSITION (WHICH WE HAVE BEEN USING ALL AMONG) TO SPECIFY THE ARGUMENTS TO THE FUNCTION.\n",
    "\n",
    "THERE ARE TWO ADVANATGE - ONE,USING THE FUNCTION IS EASIER SINCE WE DO NOT NEED TO WORRY ABOUT THE ORDER OF THE ARUMENTS.\n",
    "TWO , WE CAN GIVES VALUES TO ONLY THOSE PARAMETERS TO WHICH WE WANT TO PROIVIDE THAT THE OTHERS PARAMETERS HAVE DEFAULTS ARGUMENTS VALUES."
   ]
  },
  {
   "cell_type": "code",
   "execution_count": null,
   "id": "ffac7dd8",
   "metadata": {},
   "outputs": [],
   "source": [
    "def abc(a, b, c, d=10, e=20):"
   ]
  },
  {
   "cell_type": "code",
   "execution_count": 23,
   "id": "3ef7c111",
   "metadata": {},
   "outputs": [],
   "source": [
    "def show(a, b, c):\n",
    "    print(a)\n",
    "    print(b)\n",
    "    print(c)"
   ]
  },
  {
   "cell_type": "code",
   "execution_count": 24,
   "id": "6b04ac7d",
   "metadata": {},
   "outputs": [
    {
     "name": "stdout",
     "output_type": "stream",
     "text": [
      "hello\n",
      "world\n",
      "python\n"
     ]
    }
   ],
   "source": [
    "show(\"hello\", \"world\", \"python\")"
   ]
  },
  {
   "cell_type": "code",
   "execution_count": 2,
   "id": "e33a570b",
   "metadata": {},
   "outputs": [
    {
     "name": "stdout",
     "output_type": "stream",
     "text": [
      "python\n",
      "hello\n",
      "world\n"
     ]
    }
   ],
   "source": [
    "def show(a, b, c):\n",
    "    print(a)\n",
    "    print(b)\n",
    "    print(c)\n",
    "show(b = \"hello\", c = \"world\", a = \"python\")"
   ]
  },
  {
   "cell_type": "code",
   "execution_count": 3,
   "id": "33652906",
   "metadata": {},
   "outputs": [],
   "source": [
    "def show(a, b, c, d = \"something\", e = \"something more\"):\n",
    "    print(a)\n",
    "    print(b)\n",
    "    print(c)\n",
    "    print(d)\n",
    "    print(e)"
   ]
  },
  {
   "cell_type": "code",
   "execution_count": 4,
   "id": "14af3dad",
   "metadata": {},
   "outputs": [
    {
     "name": "stdout",
     "output_type": "stream",
     "text": [
      "\n"
     ]
    }
   ],
   "source": [
    "print()"
   ]
  },
  {
   "cell_type": "code",
   "execution_count": 5,
   "id": "ed331c06",
   "metadata": {},
   "outputs": [
    {
     "name": "stdout",
     "output_type": "stream",
     "text": [
      "hello\n",
      "world\n",
      "python\n",
      "something\n",
      "jatin\n"
     ]
    }
   ],
   "source": [
    "show(\"hello\", \"world\", \"python\", e = \"jatin\")"
   ]
  },
  {
   "cell_type": "code",
   "execution_count": 6,
   "id": "8df2cca6",
   "metadata": {},
   "outputs": [
    {
     "name": "stdout",
     "output_type": "stream",
     "text": [
      "my name is dibakar\n"
     ]
    }
   ],
   "source": [
    "print(\"my\", \"name\", \"is\", \"dibakar\")"
   ]
  },
  {
   "cell_type": "code",
   "execution_count": 7,
   "id": "5f02cbdb",
   "metadata": {},
   "outputs": [],
   "source": [
    "def show(*args):\n",
    "    print(args)"
   ]
  },
  {
   "cell_type": "code",
   "execution_count": 9,
   "id": "5f5d7076",
   "metadata": {},
   "outputs": [
    {
     "name": "stdout",
     "output_type": "stream",
     "text": [
      "(1, 2, 3, 'dibakar')\n"
     ]
    }
   ],
   "source": [
    "show(1,2,3,\"dibakar\")"
   ]
  },
  {
   "cell_type": "code",
   "execution_count": 11,
   "id": "74e44e43",
   "metadata": {},
   "outputs": [],
   "source": [
    "def show(a,b,c,*args):\n",
    "    print(args)\n",
    "    "
   ]
  },
  {
   "cell_type": "code",
   "execution_count": 12,
   "id": "e878455d",
   "metadata": {},
   "outputs": [
    {
     "name": "stdout",
     "output_type": "stream",
     "text": [
      "('dibakar',)\n"
     ]
    }
   ],
   "source": [
    "show(1,2,3,\"dibakar\")"
   ]
  },
  {
   "cell_type": "code",
   "execution_count": 17,
   "id": "9ad33332",
   "metadata": {},
   "outputs": [],
   "source": [
    "def show(a,b,c,*args,d=10,e=20, **kwargs):\n",
    "    print(a)\n",
    "    print(args)\n",
    "    print(e)\n",
    "    "
   ]
  },
  {
   "cell_type": "code",
   "execution_count": 18,
   "id": "eae557e5",
   "metadata": {},
   "outputs": [
    {
     "name": "stdout",
     "output_type": "stream",
     "text": [
      "1\n",
      "('dibakar', 'bera')\n",
      "20\n"
     ]
    }
   ],
   "source": [
    " show(1,2,3,\"dibakar\",\"bera\",d=100, name= \"dibakar\")"
   ]
  },
  {
   "cell_type": "markdown",
   "id": "67c5fea1",
   "metadata": {},
   "source": [
    "# LAMBDA FUNCTION"
   ]
  },
  {
   "cell_type": "code",
   "execution_count": 19,
   "id": "d4c54a68",
   "metadata": {},
   "outputs": [],
   "source": [
    "def add():\n",
    "    return 10+10"
   ]
  },
  {
   "cell_type": "code",
   "execution_count": 20,
   "id": "7e3652b8",
   "metadata": {},
   "outputs": [
    {
     "name": "stdout",
     "output_type": "stream",
     "text": [
      "<function add at 0x000002519A3AF520>\n"
     ]
    }
   ],
   "source": [
    "print(add)"
   ]
  },
  {
   "cell_type": "code",
   "execution_count": 21,
   "id": "085dc1d2",
   "metadata": {},
   "outputs": [
    {
     "name": "stdout",
     "output_type": "stream",
     "text": [
      "10\n"
     ]
    }
   ],
   "source": [
    "add = 10\n",
    "print(add)"
   ]
  },
  {
   "cell_type": "code",
   "execution_count": 23,
   "id": "87dba581",
   "metadata": {},
   "outputs": [],
   "source": [
    "def add(a,b):\n",
    "    return a+b\n",
    "    "
   ]
  },
  {
   "cell_type": "code",
   "execution_count": 25,
   "id": "84c6f817",
   "metadata": {},
   "outputs": [],
   "source": [
    "add = lambda a,b: a+b"
   ]
  },
  {
   "cell_type": "code",
   "execution_count": 26,
   "id": "aad68136",
   "metadata": {},
   "outputs": [
    {
     "data": {
      "text/plain": [
       "3"
      ]
     },
     "execution_count": 26,
     "metadata": {},
     "output_type": "execute_result"
    }
   ],
   "source": [
    "add(1,2)"
   ]
  },
  {
   "cell_type": "code",
   "execution_count": 27,
   "id": "06df11aa",
   "metadata": {},
   "outputs": [],
   "source": [
    "a=[5,3,7,1,2,3]\n"
   ]
  },
  {
   "cell_type": "code",
   "execution_count": 28,
   "id": "8affbdd7",
   "metadata": {},
   "outputs": [
    {
     "data": {
      "text/plain": [
       "[1, 2, 3, 3, 5, 7]"
      ]
     },
     "execution_count": 28,
     "metadata": {},
     "output_type": "execute_result"
    }
   ],
   "source": [
    "sorted(a)"
   ]
  },
  {
   "cell_type": "code",
   "execution_count": 29,
   "id": "fd833ba0",
   "metadata": {},
   "outputs": [],
   "source": [
    "a=[(\"dibakar\",5),(\"arnab\",10),(\"ram\",1),(\"arnav\",20)]"
   ]
  },
  {
   "cell_type": "code",
   "execution_count": 32,
   "id": "bd9f691b",
   "metadata": {},
   "outputs": [],
   "source": [
    "def key(x):\n",
    "    return x[1]"
   ]
  },
  {
   "cell_type": "code",
   "execution_count": 33,
   "id": "7d5aa2d6",
   "metadata": {},
   "outputs": [
    {
     "data": {
      "text/plain": [
       "[('ram', 1), ('dibakar', 5), ('arnab', 10), ('arnav', 20)]"
      ]
     },
     "execution_count": 33,
     "metadata": {},
     "output_type": "execute_result"
    }
   ],
   "source": [
    "sorted(a, key = lambda x: x[1])"
   ]
  },
  {
   "cell_type": "markdown",
   "id": "9fcb8086",
   "metadata": {},
   "source": [
    "# DECORATORS"
   ]
  },
  {
   "cell_type": "code",
   "execution_count": 34,
   "id": "bdff6ca2",
   "metadata": {},
   "outputs": [],
   "source": [
    "def show():\n",
    "    print(\"hello world\")\n",
    "        "
   ]
  },
  {
   "cell_type": "code",
   "execution_count": 35,
   "id": "6de134ce",
   "metadata": {},
   "outputs": [
    {
     "name": "stdout",
     "output_type": "stream",
     "text": [
      "hello world\n"
     ]
    }
   ],
   "source": [
    "show()"
   ]
  },
  {
   "cell_type": "code",
   "execution_count": 40,
   "id": "cadf3945",
   "metadata": {},
   "outputs": [],
   "source": [
    "users = {\n",
    "     \"jatin\": \"password\",\n",
    "    \"dibakar\": \"coding blocks\"\n",
    "}"
   ]
  },
  {
   "cell_type": "code",
   "execution_count": 41,
   "id": "c3c68bb1",
   "metadata": {},
   "outputs": [],
   "source": [
    "def show(username, password):\n",
    "    if username in users and users[username] == password:\n",
    "        print(\"hello world\")\n",
    "    else:\n",
    "        print(\"not authenticated\")"
   ]
  },
  {
   "cell_type": "code",
   "execution_count": 42,
   "id": "570c9d94",
   "metadata": {},
   "outputs": [
    {
     "name": "stdout",
     "output_type": "stream",
     "text": [
      "hello world\n"
     ]
    }
   ],
   "source": [
    "show(\"jatin\", \"password\")"
   ]
  },
  {
   "cell_type": "code",
   "execution_count": 46,
   "id": "25e3e557",
   "metadata": {},
   "outputs": [],
   "source": [
    "def add(username, password, a, b):\n",
    "    if username in users and users[username] == password:\n",
    "        print(a+b)\n",
    "    else:\n",
    "        print(\"not authenticated\")"
   ]
  },
  {
   "cell_type": "code",
   "execution_count": 48,
   "id": "fa7a3cb6",
   "metadata": {},
   "outputs": [
    {
     "name": "stdout",
     "output_type": "stream",
     "text": [
      "not authenticated\n"
     ]
    }
   ],
   "source": [
    "add(\"jatin\",\"password123\",1,2)"
   ]
  },
  {
   "cell_type": "code",
   "execution_count": null,
   "id": "460fafdb",
   "metadata": {},
   "outputs": [],
   "source": []
  },
  {
   "cell_type": "code",
   "execution_count": 50,
   "id": "db565863",
   "metadata": {},
   "outputs": [],
   "source": [
    "def temp(*args, **kwargs):\n",
    "    print(args)\n",
    "    print(kwargs)"
   ]
  },
  {
   "cell_type": "code",
   "execution_count": 51,
   "id": "96056e3e",
   "metadata": {},
   "outputs": [],
   "source": [
    "a= (1,2,3)"
   ]
  },
  {
   "cell_type": "code",
   "execution_count": 52,
   "id": "44b557b1",
   "metadata": {},
   "outputs": [
    {
     "name": "stdout",
     "output_type": "stream",
     "text": [
      "((1, 2, 3),)\n",
      "{}\n"
     ]
    }
   ],
   "source": [
    "temp(a)"
   ]
  },
  {
   "cell_type": "code",
   "execution_count": null,
   "id": "a5f02168",
   "metadata": {},
   "outputs": [],
   "source": []
  },
  {
   "cell_type": "code",
   "execution_count": null,
   "id": "d766be28",
   "metadata": {},
   "outputs": [],
   "source": []
  },
  {
   "cell_type": "code",
   "execution_count": 60,
   "id": "2c0cc2ce",
   "metadata": {},
   "outputs": [],
   "source": [
    "def login_required(func):\n",
    "    def wrapper(username, password, *args, **kwargs):\n",
    "         if username in users and users[username] == password:\n",
    "            # user is authenticated\n",
    "            func(*args, *kwargs)\n",
    "         else:\n",
    "            print(\"not authenticated\")\n",
    "            \n",
    "    return wrapper "
   ]
  },
  {
   "cell_type": "code",
   "execution_count": 61,
   "id": "f0ca288d",
   "metadata": {},
   "outputs": [],
   "source": [
    "def add(a,b):\n",
    "    print(a+b)"
   ]
  },
  {
   "cell_type": "code",
   "execution_count": 59,
   "id": "8f1e97eb",
   "metadata": {},
   "outputs": [
    {
     "name": "stdout",
     "output_type": "stream",
     "text": [
      "3\n"
     ]
    }
   ],
   "source": [
    "add(1,2)"
   ]
  },
  {
   "cell_type": "code",
   "execution_count": 62,
   "id": "bc7443dd",
   "metadata": {},
   "outputs": [],
   "source": [
    "protected_add = login_required(add)"
   ]
  },
  {
   "cell_type": "code",
   "execution_count": 65,
   "id": "3e2155b7",
   "metadata": {},
   "outputs": [
    {
     "name": "stdout",
     "output_type": "stream",
     "text": [
      "3\n"
     ]
    }
   ],
   "source": [
    "protected_add(\"jatin\",\"password\",1,2)"
   ]
  },
  {
   "cell_type": "code",
   "execution_count": null,
   "id": "dea4168d",
   "metadata": {},
   "outputs": [],
   "source": []
  },
  {
   "cell_type": "markdown",
   "id": "1f7cbb4a",
   "metadata": {},
   "source": [
    "# ARGS AND KARGS"
   ]
  },
  {
   "cell_type": "code",
   "execution_count": 68,
   "id": "f454a074",
   "metadata": {},
   "outputs": [
    {
     "name": "stdout",
     "output_type": "stream",
     "text": [
      "(3, 4)\n"
     ]
    }
   ],
   "source": [
    "def fun(a,b,*args):\n",
    "    print(args)\n",
    "    \n",
    "fun(1,2,3,4) "
   ]
  },
  {
   "cell_type": "code",
   "execution_count": 72,
   "id": "7f72dd3e",
   "metadata": {},
   "outputs": [
    {
     "name": "stdout",
     "output_type": "stream",
     "text": [
      "1\n",
      "2\n",
      "(3, 4, 10, 14)\n",
      "<class 'tuple'>\n"
     ]
    }
   ],
   "source": [
    "def fun(a,b,*args,**kwargs):\n",
    "    print(a)\n",
    "    print(b)\n",
    "    print(args)\n",
    "    print(type(args))\n",
    "    \n",
    "fun(1,2,3,4,10,14) "
   ]
  },
  {
   "cell_type": "code",
   "execution_count": 78,
   "id": "bbde1f99",
   "metadata": {},
   "outputs": [
    {
     "name": "stdout",
     "output_type": "stream",
     "text": [
      "1\n",
      "2\n",
      "(3, 4, 10, 14)\n",
      "<class 'tuple'>\n",
      "<class 'dict'>\n",
      "shake orange\n",
      "fruit mango\n"
     ]
    }
   ],
   "source": [
    "def fun(a,b,*args,**y):\n",
    "    print(a)\n",
    "    print(b)\n",
    "    print(args)\n",
    "    print(type(args))\n",
    "    print(type(y))\n",
    "    \n",
    "    \n",
    "    for k in y:\n",
    "            print(k,y[k])\n",
    "    \n",
    "fun(1,2,3,4,10,14,shake=\"orange\",fruit=\"mango\") "
   ]
  },
  {
   "cell_type": "code",
   "execution_count": null,
   "id": "4c375d48",
   "metadata": {},
   "outputs": [],
   "source": []
  }
 ],
 "metadata": {
  "kernelspec": {
   "display_name": "Python 3 (ipykernel)",
   "language": "python",
   "name": "python3"
  },
  "language_info": {
   "codemirror_mode": {
    "name": "ipython",
    "version": 3
   },
   "file_extension": ".py",
   "mimetype": "text/x-python",
   "name": "python",
   "nbconvert_exporter": "python",
   "pygments_lexer": "ipython3",
   "version": "3.10.5"
  }
 },
 "nbformat": 4,
 "nbformat_minor": 5
}

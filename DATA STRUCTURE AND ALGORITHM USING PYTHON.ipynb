{
 "cells": [
  {
   "cell_type": "markdown",
   "id": "aa3d4fb7",
   "metadata": {},
   "source": [
    "## DATA STRUCTURE AND ALGORITHM USING PYTHON"
   ]
  },
  {
   "cell_type": "code",
   "execution_count": null,
   "id": "920752cf",
   "metadata": {},
   "outputs": [],
   "source": []
  },
  {
   "cell_type": "markdown",
   "id": "0186658c",
   "metadata": {},
   "source": [
    "### Big O Notation"
   ]
  },
  {
   "cell_type": "markdown",
   "id": "9c886318",
   "metadata": {},
   "source": [
    "O(n^2)"
   ]
  },
  {
   "cell_type": "code",
   "execution_count": 7,
   "id": "36990552",
   "metadata": {},
   "outputs": [
    {
     "name": "stdout",
     "output_type": "stream",
     "text": [
      "49\n"
     ]
    }
   ],
   "source": [
    "num_list = [1,2,3,4,5,6,7]\n",
    "def randomFunction(num_list):\n",
    "    total = 0\n",
    "    for num1 in num_list:\n",
    "        for num2 in num_list:\n",
    "            total += 1\n",
    "    return total\n",
    "print(randomFunction(num_list))    \n",
    "    "
   ]
  },
  {
   "cell_type": "code",
   "execution_count": 9,
   "id": "f852ffcf",
   "metadata": {},
   "outputs": [
    {
     "name": "stdout",
     "output_type": "stream",
     "text": [
      "35\n"
     ]
    }
   ],
   "source": [
    "num_list = [1,2,3,4,5,6,7]\n",
    "num_list2 = [5,6,7,8,9]\n",
    "def randomFunction(num_list):\n",
    "    total = 0\n",
    "    for num1 in num_list2:\n",
    "        for num2 in num_list:\n",
    "            total += 1\n",
    "    return total\n",
    "print(randomFunction(num_list))"
   ]
  },
  {
   "cell_type": "markdown",
   "id": "fe89b68d",
   "metadata": {},
   "source": [
    "### why we need Big o notation?"
   ]
  },
  {
   "cell_type": "markdown",
   "id": "08d16957",
   "metadata": {},
   "source": [
    "WAP to calculate sum of N natural numbers. For Example we will take n as 100"
   ]
  },
  {
   "cell_type": "code",
   "execution_count": 6,
   "id": "e933cebb",
   "metadata": {},
   "outputs": [
    {
     "name": "stdout",
     "output_type": "stream",
     "text": [
      "The sum is 5050\n",
      "0.0\n"
     ]
    }
   ],
   "source": [
    "import time\n",
    "time.time()\n",
    "timetamp1 = time.time()\n",
    "number = 100\n",
    "total = 0\n",
    "for value in range(1, number+1):\n",
    "    total = total+value\n",
    "print(\"The sum is\",total)\n",
    "timetamp2 = time.time()\n",
    "print((timetamp2 - timetamp1))"
   ]
  },
  {
   "cell_type": "code",
   "execution_count": 7,
   "id": "6ae178f5",
   "metadata": {},
   "outputs": [
    {
     "name": "stdout",
     "output_type": "stream",
     "text": [
      "The sum is 0\n",
      "0.0009984970092773438\n"
     ]
    }
   ],
   "source": [
    "import time\n",
    "time.time()\n",
    "timetamp1 = time.time()\n",
    "num = 100\n",
    "if num<0:\n",
    "    print(\"Enter a positive number\")\n",
    "else:\n",
    "    sum = 0\n",
    "    while(num>0):\n",
    "        sum += sum\n",
    "        num -= 1\n",
    "    print(\"The sum is\",sum)    \n",
    "timetamp2 = time.time()\n",
    "print((timetamp2 - timetamp1))"
   ]
  },
  {
   "cell_type": "markdown",
   "id": "32a152ce",
   "metadata": {},
   "source": [
    "### Big O(n) Complexity"
   ]
  },
  {
   "cell_type": "code",
   "execution_count": 3,
   "id": "0f9d0ff1",
   "metadata": {},
   "outputs": [
    {
     "name": "stdout",
     "output_type": "stream",
     "text": [
      "Available\n",
      "Available\n"
     ]
    }
   ],
   "source": [
    "student_list1 = ['tim','drake','ashish','subham']\n",
    "student_list2 = ['andrew','chris','harshit','lary','subham']\n",
    "\n",
    "def checkStudent(student_list1):\n",
    "    for student in student_list1:\n",
    "        if student == 'subham':\n",
    "            print('Available')\n",
    "checkStudent(student_list1)\n",
    "checkStudent(student_list2)"
   ]
  },
  {
   "cell_type": "markdown",
   "id": "0bc3ad02",
   "metadata": {},
   "source": [
    "### Big O(1) Complexity "
   ]
  },
  {
   "cell_type": "code",
   "execution_count": 5,
   "id": "11f7165e",
   "metadata": {},
   "outputs": [
    {
     "name": "stdout",
     "output_type": "stream",
     "text": [
      "andrew\n",
      "akshat\n"
     ]
    }
   ],
   "source": [
    "student_list = ['andrew','akshat','chris','harshit','lary','shubham','tim','drake','ashish']\n",
    "\n",
    "def displayStudent(student_list):\n",
    "    print(student_list[0]) #O(1)\n",
    "    print(student_list[1]) #O(1)\n",
    "    \n",
    "displayStudent(student_list)   #O(2) constant \n",
    "    "
   ]
  },
  {
   "cell_type": "markdown",
   "id": "0713d31c",
   "metadata": {},
   "source": [
    "### Counting Operations"
   ]
  },
  {
   "cell_type": "code",
   "execution_count": null,
   "id": "eece7d66",
   "metadata": {},
   "outputs": [],
   "source": [
    "student_list = ['andrew','akshat','chris','harshit','lary','shubham','tim','drake','ashish']\n",
    "def randomFunction(students):\n",
    "    first = students[0] #0(1)\n",
    "    total = 0 #0(1)\n",
    "    new_list = [] #0(1)\n",
    "    \n",
    "    for student in students:\n",
    "        total += 1 #0(n)\n",
    "        new_list.append(student) #0(n)\n",
    "        \n",
    "    print(new_list) #0(1)\n",
    "    return total #0(1)\n",
    "\n",
    "print(randomFunction(students)) #0(6+2n) => o(n)"
   ]
  },
  {
   "cell_type": "markdown",
   "id": "c46fadad",
   "metadata": {},
   "source": [
    "### Simplify Big O part 1"
   ]
  },
  {
   "cell_type": "code",
   "execution_count": null,
   "id": "c9d4ff7d",
   "metadata": {},
   "outputs": [],
   "source": [
    "student_list = ['andrew','akshat','chris','harshit','lary','shubham','tim','drake','ashish']\n",
    "def randomFunction(students):\n",
    "    first = students[0] #0(1)\n",
    "    total = 0 #0(1)\n",
    "    new_list = [] #0(1)\n",
    "    \n",
    "    for student in students:\n",
    "        total += 1 #0(n)\n",
    "        new_list.append(student) #0(n)\n",
    "        \n",
    "    print(new_list) #0(1)\n",
    "    return total #0(1)\n",
    "\n",
    "print(randomFunction(students)) #0(6+2n) => o(n)"
   ]
  },
  {
   "cell_type": "markdown",
   "id": "249c248c",
   "metadata": {},
   "source": [
    "### Simplify Big O"
   ]
  },
  {
   "cell_type": "code",
   "execution_count": 1,
   "id": "8e600646",
   "metadata": {},
   "outputs": [
    {
     "name": "stdout",
     "output_type": "stream",
     "text": [
      "1\n",
      "2\n",
      "3\n",
      "4\n",
      "5\n",
      "6\n",
      "7\n",
      "1 1\n",
      "1 2\n",
      "1 3\n",
      "1 4\n",
      "1 5\n",
      "1 6\n",
      "1 7\n",
      "2 1\n",
      "2 2\n",
      "2 3\n",
      "2 4\n",
      "2 5\n",
      "2 6\n",
      "2 7\n",
      "3 1\n",
      "3 2\n",
      "3 3\n",
      "3 4\n",
      "3 5\n",
      "3 6\n",
      "3 7\n",
      "4 1\n",
      "4 2\n",
      "4 3\n",
      "4 4\n",
      "4 5\n",
      "4 6\n",
      "4 7\n",
      "5 1\n",
      "5 2\n",
      "5 3\n",
      "5 4\n",
      "5 5\n",
      "5 6\n",
      "5 7\n",
      "6 1\n",
      "6 2\n",
      "6 3\n",
      "6 4\n",
      "6 5\n",
      "6 6\n",
      "6 7\n",
      "7 1\n",
      "7 2\n",
      "7 3\n",
      "7 4\n",
      "7 5\n",
      "7 6\n",
      "7 7\n",
      "49\n"
     ]
    }
   ],
   "source": [
    "# rule-5 - Remove all non-dominants\n",
    "num_list = [1,2,3,4,5,6,7]\n",
    "\n",
    "def randomFunction(num_list):\n",
    "    total = 0 #o(1)\n",
    "    all_integer = True  #O(1)\n",
    "    \n",
    "    for num in num_list:\n",
    "        print(num)  #O(n)\n",
    "    \n",
    "    for num1 in num_list:\n",
    "        for num2 in num_list:\n",
    "            print(num1 , num2)   #O(n^2)\n",
    "            total += 1\n",
    "            \n",
    "    msg = \"Rule-5 -Remove all non-dominants\"   #O(1)\n",
    "    \n",
    "    return total\n",
    "\n",
    "print(randomFunction(num_list))  #O(4+n+2n^2) #O(n^2)"
   ]
  },
  {
   "cell_type": "markdown",
   "id": "e674bd61",
   "metadata": {},
   "source": [
    "### Space Complexity"
   ]
  },
  {
   "cell_type": "code",
   "execution_count": 2,
   "id": "b9c1316f",
   "metadata": {},
   "outputs": [
    {
     "name": "stdout",
     "output_type": "stream",
     "text": [
      "[8]\n",
      "[8, 27]\n",
      "[8, 27, 64]\n",
      "[8, 27, 64, 125]\n",
      "[8, 27, 64, 125, 216]\n",
      "[8, 27, 64, 125, 216, 343]\n"
     ]
    }
   ],
   "source": [
    "def all_cubes(items):\n",
    "    result = []\n",
    "    \n",
    "    for item in items:\n",
    "        result.append(pow(item,3)) #O(n)\n",
    "        \n",
    "        print(result)\n",
    "        \n",
    "items = [2,3,4,5,6,7]\n",
    "all_cubes(items)"
   ]
  },
  {
   "cell_type": "code",
   "execution_count": 3,
   "id": "4370bf15",
   "metadata": {},
   "outputs": [
    {
     "name": "stdout",
     "output_type": "stream",
     "text": [
      "8\n"
     ]
    }
   ],
   "source": [
    "def display_cube(items):\n",
    "    \n",
    "    result = pow(items[0],3) #O(1)\n",
    "    print(result)\n",
    "    \n",
    "items = [2,3,4,5,6,7,10,15]\n",
    "display_cube(items)\n",
    "    "
   ]
  },
  {
   "cell_type": "code",
   "execution_count": null,
   "id": "6bd7f11d",
   "metadata": {},
   "outputs": [],
   "source": [
    "def all_cubes(items):\n",
    "  \n",
    "    \n",
    "    for item in items:\n",
    "        result = pow(item,3) #O(n)\n",
    "        \n",
    "        print(result)\n",
    "        \n",
    "items = [2,3,4,5,6,7]\n",
    "all_cubes(items)"
   ]
  }
 ],
 "metadata": {
  "kernelspec": {
   "display_name": "Python 3 (ipykernel)",
   "language": "python",
   "name": "python3"
  },
  "language_info": {
   "codemirror_mode": {
    "name": "ipython",
    "version": 3
   },
   "file_extension": ".py",
   "mimetype": "text/x-python",
   "name": "python",
   "nbconvert_exporter": "python",
   "pygments_lexer": "ipython3",
   "version": "3.10.5"
  }
 },
 "nbformat": 4,
 "nbformat_minor": 5
}

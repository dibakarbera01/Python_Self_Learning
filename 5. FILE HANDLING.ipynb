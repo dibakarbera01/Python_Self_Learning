{
 "cells": [
  {
   "cell_type": "markdown",
   "id": "e8d1aece",
   "metadata": {},
   "source": [
    "# FILE HANDLING\n"
   ]
  },
  {
   "cell_type": "code",
   "execution_count": null,
   "id": "f98fb7e9",
   "metadata": {},
   "outputs": [],
   "source": []
  },
  {
   "cell_type": "markdown",
   "id": "14dbdf55",
   "metadata": {},
   "source": [
    "# 1. TEXT FILES"
   ]
  },
  {
   "cell_type": "raw",
   "id": "231500bf",
   "metadata": {},
   "source": [
    "opening a file"
   ]
  },
  {
   "cell_type": "code",
   "execution_count": 7,
   "id": "27c10c29",
   "metadata": {},
   "outputs": [],
   "source": [
    "file = open (\"hello.txt\", \"r\")"
   ]
  },
  {
   "cell_type": "code",
   "execution_count": 8,
   "id": "397581da",
   "metadata": {},
   "outputs": [
    {
     "data": {
      "text/plain": [
       "'Hello World !'"
      ]
     },
     "execution_count": 8,
     "metadata": {},
     "output_type": "execute_result"
    }
   ],
   "source": [
    "file.read()"
   ]
  },
  {
   "cell_type": "raw",
   "id": "b3506519",
   "metadata": {},
   "source": [
    "closeing a file"
   ]
  },
  {
   "cell_type": "code",
   "execution_count": 9,
   "id": "de749827",
   "metadata": {},
   "outputs": [],
   "source": [
    "file.close()"
   ]
  },
  {
   "cell_type": "raw",
   "id": "eed59187",
   "metadata": {},
   "source": [
    "Wriring to a file\n",
    "    write\n",
    "    writelines"
   ]
  },
  {
   "cell_type": "code",
   "execution_count": 12,
   "id": "eea1d0f8",
   "metadata": {},
   "outputs": [],
   "source": [
    "file = open(\"something.txt\", \"w\")"
   ]
  },
  {
   "cell_type": "code",
   "execution_count": 13,
   "id": "05cec3f7",
   "metadata": {},
   "outputs": [
    {
     "data": {
      "text/plain": [
       "21"
      ]
     },
     "execution_count": 13,
     "metadata": {},
     "output_type": "execute_result"
    }
   ],
   "source": [
    "file.write(\"hello from other side\")"
   ]
  },
  {
   "cell_type": "code",
   "execution_count": 14,
   "id": "21c1c50f",
   "metadata": {},
   "outputs": [],
   "source": [
    "file.close()"
   ]
  },
  {
   "cell_type": "code",
   "execution_count": null,
   "id": "bd62ad76",
   "metadata": {},
   "outputs": [],
   "source": []
  },
  {
   "cell_type": "raw",
   "id": "4ba7ad69",
   "metadata": {},
   "source": [
    "Reading from file\n",
    "\n",
    "    read\n",
    "    readline\n",
    "    readlines"
   ]
  },
  {
   "cell_type": "code",
   "execution_count": 25,
   "id": "04cb8fe1",
   "metadata": {},
   "outputs": [],
   "source": [
    "file = open(\"hello.txt\", \"r\")"
   ]
  },
  {
   "cell_type": "code",
   "execution_count": 26,
   "id": "836ebd2f",
   "metadata": {},
   "outputs": [
    {
     "data": {
      "text/plain": [
       "'Hello'"
      ]
     },
     "execution_count": 26,
     "metadata": {},
     "output_type": "execute_result"
    }
   ],
   "source": [
    "file.read(5)"
   ]
  },
  {
   "cell_type": "code",
   "execution_count": 27,
   "id": "fc49a6d0",
   "metadata": {},
   "outputs": [
    {
     "data": {
      "text/plain": [
       "' \\nhello again\\nhello yet again\\n'"
      ]
     },
     "execution_count": 27,
     "metadata": {},
     "output_type": "execute_result"
    }
   ],
   "source": [
    "file.read()"
   ]
  },
  {
   "cell_type": "code",
   "execution_count": 29,
   "id": "ce0dc6c2",
   "metadata": {},
   "outputs": [
    {
     "data": {
      "text/plain": [
       "''"
      ]
     },
     "execution_count": 29,
     "metadata": {},
     "output_type": "execute_result"
    }
   ],
   "source": [
    "file.read()"
   ]
  },
  {
   "cell_type": "code",
   "execution_count": 31,
   "id": "ae6babbb",
   "metadata": {},
   "outputs": [
    {
     "data": {
      "text/plain": [
       "5"
      ]
     },
     "execution_count": 31,
     "metadata": {},
     "output_type": "execute_result"
    }
   ],
   "source": [
    "file.seek(5)"
   ]
  },
  {
   "cell_type": "code",
   "execution_count": 32,
   "id": "c465d99e",
   "metadata": {},
   "outputs": [
    {
     "data": {
      "text/plain": [
       "' \\nhello again\\nhello yet again\\n'"
      ]
     },
     "execution_count": 32,
     "metadata": {},
     "output_type": "execute_result"
    }
   ],
   "source": [
    "file.read()"
   ]
  },
  {
   "cell_type": "code",
   "execution_count": 33,
   "id": "292689a0",
   "metadata": {},
   "outputs": [],
   "source": [
    "file.close()"
   ]
  },
  {
   "cell_type": "raw",
   "id": "d95a4736",
   "metadata": {},
   "source": []
  },
  {
   "cell_type": "raw",
   "id": "d3997706",
   "metadata": {},
   "source": [
    "Smarter way of opening files......\n",
    "\n",
    "with the \"with\" statement, you get better syntax and exceptions handling.\n",
    "\n",
    "The with statement simplifies exception handling bu encapsuling common preparation and cleanup tasks.\n",
    "\n",
    "In addition, it will automatically close the file.The with statement provides a way for ensuring that a clean-up is always used."
   ]
  },
  {
   "cell_type": "code",
   "execution_count": 34,
   "id": "3dc11488",
   "metadata": {},
   "outputs": [
    {
     "name": "stdout",
     "output_type": "stream",
     "text": [
      "Hello \n",
      "hello again\n",
      "hello yet again\n",
      "\n",
      " \n",
      "hello again\n",
      "hello yet again\n",
      "\n"
     ]
    },
    {
     "ename": "ValueError",
     "evalue": "I/O operation on closed file.",
     "output_type": "error",
     "traceback": [
      "\u001b[1;31m---------------------------------------------------------------------------\u001b[0m",
      "\u001b[1;31mValueError\u001b[0m                                Traceback (most recent call last)",
      "Input \u001b[1;32mIn [34]\u001b[0m, in \u001b[0;36m<cell line: 5>\u001b[1;34m()\u001b[0m\n\u001b[0;32m      3\u001b[0m     file\u001b[38;5;241m.\u001b[39mseek(\u001b[38;5;241m5\u001b[39m)\n\u001b[0;32m      4\u001b[0m     \u001b[38;5;28mprint\u001b[39m(file\u001b[38;5;241m.\u001b[39mread())\n\u001b[1;32m----> 5\u001b[0m \u001b[43mfile\u001b[49m\u001b[38;5;241;43m.\u001b[39;49m\u001b[43mread\u001b[49m\u001b[43m(\u001b[49m\u001b[43m)\u001b[49m\n",
      "\u001b[1;31mValueError\u001b[0m: I/O operation on closed file."
     ]
    }
   ],
   "source": [
    "with open(\"hello.txt\", \"r\") as file:\n",
    "    print(file.read())\n",
    "    file.seek(5)\n",
    "    print(file.read())\n",
    "file.read()    "
   ]
  },
  {
   "cell_type": "code",
   "execution_count": null,
   "id": "1f02b1c5",
   "metadata": {},
   "outputs": [],
   "source": []
  },
  {
   "cell_type": "markdown",
   "id": "a807dfb1",
   "metadata": {},
   "source": [
    "# JSON FILES "
   ]
  },
  {
   "cell_type": "code",
   "execution_count": 36,
   "id": "0a1c66e8",
   "metadata": {},
   "outputs": [],
   "source": [
    "import json"
   ]
  },
  {
   "cell_type": "code",
   "execution_count": 37,
   "id": "191516d7",
   "metadata": {},
   "outputs": [
    {
     "name": "stdout",
     "output_type": "stream",
     "text": [
      "{\n",
      "    \"name\":\"jatin\",\n",
      "    \"marks\":90,\n",
      "    \"subjects\":[\"eng\", \"maths\"]\n",
      "}    \n"
     ]
    }
   ],
   "source": [
    "with open(\"data.json\", \"r\") as file:\n",
    "    print(file.read())"
   ]
  },
  {
   "cell_type": "code",
   "execution_count": 38,
   "id": "bd6b9005",
   "metadata": {},
   "outputs": [
    {
     "name": "stdout",
     "output_type": "stream",
     "text": [
      "{'name': 'jatin', 'marks': 90, 'subjects': ['eng', 'maths']}\n"
     ]
    }
   ],
   "source": [
    "with open(\"data.json\", \"r\") as file:\n",
    "    d = json.load(file)\n",
    "    print(d)"
   ]
  },
  {
   "cell_type": "code",
   "execution_count": 40,
   "id": "8ab370f1",
   "metadata": {},
   "outputs": [
    {
     "name": "stdout",
     "output_type": "stream",
     "text": [
      "<class 'dict'>\n"
     ]
    }
   ],
   "source": [
    "with open(\"data.json\", \"r\") as file:\n",
    "    d = json.load(file)\n",
    "    print(type(d))\n",
    "    "
   ]
  },
  {
   "cell_type": "code",
   "execution_count": 42,
   "id": "f68eccbb",
   "metadata": {},
   "outputs": [
    {
     "name": "stdout",
     "output_type": "stream",
     "text": [
      "jatin\n",
      "90\n",
      "eng\n"
     ]
    }
   ],
   "source": [
    "with open(\"data.json\", \"r\") as file:\n",
    "    d = json.load(file)\n",
    "    print(d[\"name\"])\n",
    "    print(d[\"marks\"])\n",
    "    print(d[\"subjects\"][0])"
   ]
  },
  {
   "cell_type": "code",
   "execution_count": 43,
   "id": "0353354b",
   "metadata": {},
   "outputs": [
    {
     "name": "stdout",
     "output_type": "stream",
     "text": [
      "{\n",
      "    \"name\":\"jatin\",\n",
      "    \"marks\":90,\n",
      "    \"subjects\":[\"eng\", \"maths\"]\n",
      "}    \n",
      "{'name': 'jatin', 'marks': 90, 'subjects': ['eng', 'maths']}\n"
     ]
    }
   ],
   "source": [
    "with open(\"data.json\", \"r\") as file:\n",
    "    data = file.read()\n",
    "    print(data)\n",
    "    d = json.loads(data)\n",
    "    print(d)"
   ]
  },
  {
   "cell_type": "code",
   "execution_count": 44,
   "id": "8885d903",
   "metadata": {},
   "outputs": [],
   "source": [
    "d = {'name': 'jatin', 'marks': 90, 'subjects': ['eng', 'maths']}"
   ]
  },
  {
   "cell_type": "code",
   "execution_count": 45,
   "id": "87d8e4fd",
   "metadata": {},
   "outputs": [
    {
     "data": {
      "text/plain": [
       "'jatin'"
      ]
     },
     "execution_count": 45,
     "metadata": {},
     "output_type": "execute_result"
    }
   ],
   "source": [
    "d[\"name\"]"
   ]
  },
  {
   "cell_type": "code",
   "execution_count": 46,
   "id": "5f5c09b9",
   "metadata": {},
   "outputs": [],
   "source": [
    "string = json.dumps(d)"
   ]
  },
  {
   "cell_type": "code",
   "execution_count": 47,
   "id": "fd0642a4",
   "metadata": {},
   "outputs": [
    {
     "name": "stdout",
     "output_type": "stream",
     "text": [
      "<class 'str'>\n"
     ]
    }
   ],
   "source": [
    "print(type(string))"
   ]
  },
  {
   "cell_type": "code",
   "execution_count": null,
   "id": "0f5aa761",
   "metadata": {},
   "outputs": [],
   "source": []
  }
 ],
 "metadata": {
  "kernelspec": {
   "display_name": "Python 3 (ipykernel)",
   "language": "python",
   "name": "python3"
  },
  "language_info": {
   "codemirror_mode": {
    "name": "ipython",
    "version": 3
   },
   "file_extension": ".py",
   "mimetype": "text/x-python",
   "name": "python",
   "nbconvert_exporter": "python",
   "pygments_lexer": "ipython3",
   "version": "3.10.5"
  }
 },
 "nbformat": 4,
 "nbformat_minor": 5
}

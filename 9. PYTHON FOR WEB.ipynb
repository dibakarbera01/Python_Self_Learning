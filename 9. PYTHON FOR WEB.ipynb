{
 "cells": [
  {
   "cell_type": "markdown",
   "id": "f50ebca1",
   "metadata": {},
   "source": [
    "# PYTHON FOR WEB-DEVELOPMENT"
   ]
  },
  {
   "cell_type": "raw",
   "id": "40cd53f6",
   "metadata": {},
   "source": [
    "GET REQUEST"
   ]
  },
  {
   "cell_type": "markdown",
   "id": "9f947125",
   "metadata": {},
   "source": [
    "FACE BOOK IMAGE"
   ]
  },
  {
   "cell_type": "code",
   "execution_count": 40,
   "id": "6165841d",
   "metadata": {},
   "outputs": [],
   "source": [
    "import requests"
   ]
  },
  {
   "cell_type": "code",
   "execution_count": 41,
   "id": "5ba4fecf",
   "metadata": {},
   "outputs": [],
   "source": [
    "facebook_id = 7"
   ]
  },
  {
   "cell_type": "code",
   "execution_count": 42,
   "id": "e790111c",
   "metadata": {},
   "outputs": [],
   "source": [
    "url = \"http://graph.facebook.com/{}/picture?type=large\".format(facebook_id)"
   ]
  },
  {
   "cell_type": "code",
   "execution_count": 43,
   "id": "524d1eee",
   "metadata": {},
   "outputs": [
    {
     "data": {
      "text/plain": [
       "'http://graph.facebook.com/7/picture?type=large'"
      ]
     },
     "execution_count": 43,
     "metadata": {},
     "output_type": "execute_result"
    }
   ],
   "source": [
    "url"
   ]
  },
  {
   "cell_type": "code",
   "execution_count": 44,
   "id": "ef264231",
   "metadata": {},
   "outputs": [],
   "source": [
    "r = requests.get(url)"
   ]
  },
  {
   "cell_type": "code",
   "execution_count": 45,
   "id": "26333d51",
   "metadata": {},
   "outputs": [
    {
     "data": {
      "text/plain": [
       "requests.models.Response"
      ]
     },
     "execution_count": 45,
     "metadata": {},
     "output_type": "execute_result"
    }
   ],
   "source": [
    "type(r)"
   ]
  },
  {
   "cell_type": "code",
   "execution_count": 46,
   "id": "4a188caf",
   "metadata": {},
   "outputs": [],
   "source": [
    "with open(\"profile.jpg\", \"wb\") as file:\n",
    "    file.write(r.content)"
   ]
  },
  {
   "cell_type": "code",
   "execution_count": null,
   "id": "bc656275",
   "metadata": {},
   "outputs": [],
   "source": []
  },
  {
   "cell_type": "markdown",
   "id": "d64d817a",
   "metadata": {},
   "source": [
    "GOOGLE MAP EXAMPLE"
   ]
  },
  {
   "cell_type": "code",
   "execution_count": 54,
   "id": "461be72f",
   "metadata": {},
   "outputs": [],
   "source": [
    "url = \"https://maps.googleapis.com/maps/api/geocode/json\""
   ]
  },
  {
   "cell_type": "code",
   "execution_count": 55,
   "id": "fb5612e4",
   "metadata": {},
   "outputs": [],
   "source": [
    "parameters = {\n",
    "    \"address\" : \"coding blocks pitampura\"\n",
    "}"
   ]
  },
  {
   "cell_type": "code",
   "execution_count": 56,
   "id": "102785ca",
   "metadata": {},
   "outputs": [],
   "source": [
    "r = requests.get(url, params = parameters)"
   ]
  },
  {
   "cell_type": "code",
   "execution_count": 57,
   "id": "3ff60359",
   "metadata": {},
   "outputs": [
    {
     "data": {
      "text/plain": [
       "'https://maps.googleapis.com/maps/api/geocode/json?address=coding+blocks+pitampura'"
      ]
     },
     "execution_count": 57,
     "metadata": {},
     "output_type": "execute_result"
    }
   ],
   "source": [
    "r.url"
   ]
  },
  {
   "cell_type": "code",
   "execution_count": 58,
   "id": "da6a8861",
   "metadata": {},
   "outputs": [
    {
     "data": {
      "text/plain": [
       "'{\\n   \"error_message\" : \"You must use an API key to authenticate each request to Google Maps Platform APIs. For additional information, please refer to http://g.co/dev/maps-no-account\",\\n   \"results\" : [],\\n   \"status\" : \"REQUEST_DENIED\"\\n}\\n'"
      ]
     },
     "execution_count": 58,
     "metadata": {},
     "output_type": "execute_result"
    }
   ],
   "source": [
    "r.content.decode('UTF-8')"
   ]
  },
  {
   "cell_type": "code",
   "execution_count": null,
   "id": "990b7c2f",
   "metadata": {},
   "outputs": [],
   "source": []
  },
  {
   "cell_type": "markdown",
   "id": "1eb7d45a",
   "metadata": {},
   "source": [
    "# post request"
   ]
  },
  {
   "cell_type": "markdown",
   "id": "7cee573f",
   "metadata": {},
   "source": [
    "Example 1"
   ]
  },
  {
   "cell_type": "markdown",
   "id": "b5050644",
   "metadata": {},
   "source": [
    "pastbin api"
   ]
  },
  {
   "cell_type": "code",
   "execution_count": 69,
   "id": "e43e7bca",
   "metadata": {},
   "outputs": [],
   "source": [
    "import requests"
   ]
  },
  {
   "cell_type": "code",
   "execution_count": 70,
   "id": "5b6711c0",
   "metadata": {},
   "outputs": [],
   "source": [
    "key = \"29goXqGrWYeCw7Bmou5PqsofyQDOduXU\""
   ]
  },
  {
   "cell_type": "code",
   "execution_count": 71,
   "id": "11b3c789",
   "metadata": {},
   "outputs": [],
   "source": [
    "url = \"https://pastebin.com/api/api_post.php\""
   ]
  },
  {
   "cell_type": "code",
   "execution_count": 72,
   "id": "a78f358e",
   "metadata": {},
   "outputs": [],
   "source": [
    "data = {\n",
    "    \"api_dev_key\": key,\n",
    "    \"api_option\": \"paste\",\n",
    "    \"api_paste_code\": \"Hello How are you\"\n",
    "}"
   ]
  },
  {
   "cell_type": "code",
   "execution_count": 73,
   "id": "efac3893",
   "metadata": {},
   "outputs": [],
   "source": [
    "response = requests.post(url, data = data)"
   ]
  },
  {
   "cell_type": "code",
   "execution_count": 74,
   "id": "1e6e6e3f",
   "metadata": {},
   "outputs": [
    {
     "data": {
      "text/plain": [
       "b'https://pastebin.com/Z1ddcEXv'"
      ]
     },
     "execution_count": 74,
     "metadata": {},
     "output_type": "execute_result"
    }
   ],
   "source": [
    "response.content"
   ]
  },
  {
   "cell_type": "code",
   "execution_count": 78,
   "id": "25998505",
   "metadata": {},
   "outputs": [
    {
     "name": "stdout",
     "output_type": "stream",
     "text": [
      "b'https://pastebin.com/Kv64bS80'\n"
     ]
    }
   ],
   "source": [
    "with open(\"code.py\", \"r\") as file:\n",
    "    data = {\n",
    "    \"api_dev_key\": key,\n",
    "    \"api_option\": \"paste\",\n",
    "    \"api_paste_code\": file.read(),\n",
    "    \"api_paste_formate\": \"python\"    \n",
    "   }\n",
    "    response = requests.post(url, data = data)\n",
    "    print(response.content)"
   ]
  },
  {
   "cell_type": "markdown",
   "id": "a5c08996",
   "metadata": {},
   "source": [
    "# WEB SCRAPING"
   ]
  },
  {
   "cell_type": "code",
   "execution_count": 93,
   "id": "ed28aa91",
   "metadata": {},
   "outputs": [],
   "source": [
    "import bs4\n",
    "import requests"
   ]
  },
  {
   "cell_type": "code",
   "execution_count": 94,
   "id": "5bd9c6f1",
   "metadata": {},
   "outputs": [],
   "source": [
    "url = \"https://www.passiton.com/inspirational-quotes?page=2\""
   ]
  },
  {
   "cell_type": "code",
   "execution_count": 95,
   "id": "89d50fd2",
   "metadata": {},
   "outputs": [],
   "source": [
    "response = requests.get(url)"
   ]
  },
  {
   "cell_type": "code",
   "execution_count": 96,
   "id": "357d6817",
   "metadata": {},
   "outputs": [
    {
     "data": {
      "text/plain": [
       "b'<!DOCTYPE html>\\n<html class=\"no-js\" dir=\"ltr\" lang=\"en-US\">\\n    <head>\\n        <title>Inspirational Quotes - Motivational Quotes - Leadership Quotes | Page 2 | PassItOn.com</title>\\n        <meta charset=\"utf-8\">\\n        <meta http-equiv=\"content-type\" content=\"text/html; charset=utf-8\" />\\n        <meta http-equiv=\"X-UA-Compatible\" content=\"IE=edge\" />\\n        <meta name=\"viewport\" content=\"width=device-width,initial-scale=1.0\" />\\n        <meta name=\"description\" content=\"The Foundation for a Better Life | Pass It On.com\">\\n        <link rel=\"apple-touch-icon\" sizes=\"180x180\" href=\"/apple-touch-icon.png\">\\n        <link rel=\"icon\" type=\"image/png\" sizes=\"32x32\" href=\"/favicon-32x32.png\">\\n        <link rel=\"icon\" type=\"image/png\" sizes=\"16x16\" href=\"/favicon-16x16.png\">\\n        <link rel=\"manifest\" href=\"/site.webmanifest\">\\n        <link rel=\"mask-icon\" href=\"/safari-pinned-tab.svg\" color=\"#c8102e\">\\n        <meta name=\"msapplication-TileColor\" content=\"#c8102e\">\\n        <meta name=\"theme-color\" content=\"#ffffff\">\\n        <link rel=\"stylesheet\" href=\"https://stackpath.bootstrapcdn.com/bootstrap/4.3.1/css/bootstrap.min.css\" integrity=\"sha384-ggOyR0iXCbMQv3Xipma34MD+dH/1fQ784/j6cY/iJTQUOhcWr7x9JvoRxT2MZw1T\" crossorigin=\"anonymous\">\\n        <link rel=\"stylesheet\" media=\"all\" href=\"/assets/application-2a7a8e6a1c3f620bac9efa66420f5579.css\" />\\n        <meta name=\"csrf-param\" content=\"authenticity_token\" />\\n<meta name=\"csrf-token\" content=\"oK/5ZSYO8QS320YcqIBynBkzUKp0inZkoElE5IQhgGB69pmf3867lO7oIcj/LCWGXn8f8/WowxXa4a8bE/bCCw==\" />\\n        <!-- Global site tag (gtag.js) - Google Analytics -->\\n        <script async src=\"https://www.googletagmanager.com/gtag/js?id=UA-1179606-29\"></script>\\n        <script>\\n          window.dataLayer = window.dataLayer || [];\\n          function gtag(){dataLayer.push(arguments);}\\n          gtag(\\'js\\', new Date());\\n          gtag(\\'config\\', \\'UA-1179606-29\\');\\n        </script>\\n        <div id=\"fb-root\"></div>\\n        <script>\\n          window.fbAsyncInit = function() {\\n            FB.init({\\n              appId            : \\'483774921971842\\',\\n              autoLogAppEvents : true,\\n              xfbml            : true,\\n              version          : \\'v6.0\\'\\n            });\\n          };\\n        </script>\\n        <script async defer crossorigin=\"anonymous\" src=\"https://connect.facebook.net/en_US/sdk.js#xfbml=1&version=v13.0\" nonce=\"iEAX4Taz\"></script>\\n\\n        <meta property=\"og:site_name\" content=\"passiton.com\">\\n        <meta property=\"og:title\" content=\"Inspirational Quotes - Motivational Quotes - Leadership Quotes | Page 2\" />\\n        <meta property=\"og:type\" content=\"website\" />\\n        <meta property=\"og:image\" content=\"https://www.passiton.com/passiton.jpg\" />\\n        <meta property=\"og:url\" content=\"https://www.passiton.com/inspirational-quotes?page=2\" />\\n        <meta property=\"og:description\" content=\"Find the perfect quotation from our hand-picked collection of inspiring quotes by hundreds of authors. | Page 2\" />\\n        <meta property=\"fb:app_id\" content=\"483774921971842\" />\\n\\n        <meta name=\"twitter:card\" content=\"summary_large_image\" />\\n        <meta name=\"twitter:site\" content=\"@passiton\" />\\n        <meta name=\"twitter:creator\" content=\"@passiton\">\\n        <meta name=\"twitter:title\" content=\"Inspirational Quotes - Motivational Quotes - Leadership Quotes | Page 2\" />\\n        <meta name=\"twitter:description\" content=\"Find the perfect quotation from our hand-picked collection of inspiring quotes by hundreds of authors. | Page 2\" />\\n        <meta name=\"twitter:image\" content=\"https://www.passiton.com/passiton.jpg\" />\\n        <meta name=\"twitter:url\" content=\"https://www.passiton.com/inspirational-quotes?page=2\" />\\n\\n        <meta itemprop=\"name\" content=\"passiton.com\">\\n        <meta itemprop=\"description\" content=\"Find the perfect quotation from our hand-picked collection of inspiring quotes by hundreds of authors. | Page 2\">\\n        <meta itemprop=\"image\" content=\"https://www.passiton.com/passiton.jpg\">\\n\\n        <link rel=\"apple-touch-icon\" sizes=\"180x180\" href=\"/apple-touch-icon.png\">\\n        <link rel=\"icon\" type=\"image/png\" sizes=\"32x32\" href=\"/favicon-32x32.png\">\\n        <link rel=\"icon\" type=\"image/png\" sizes=\"16x16\" href=\"/favicon-16x16.png\">\\n        <link rel=\"mask-icon\" href=\"/passiton_arrow.svg\" color=\"#C8102E\">\\n        <link rel=\"manifest\" href=\"/manifest.json\">\\n        <link rel=\"mask-icon\" href=\"/safari-pinned-tab.svg\" color=\"#5bbad5\">\\n        <meta name=\"apple-mobile-web-app-title\" content=\"passiton\">\\n        <meta name=\"application-name\" content=\"passiton\">\\n        <meta name=\"theme-color\" content=\"#f1f1f1\">\\n            <link rel=\"alternate\" type=\"application/rss+xml\" title=\"RSS\" href=\"https://www.passiton.com/inspirational-quotes.atom\" />\\n\\n    </head>\\n    <body class=\\'no-transition quotes_index\\'>\\n                <header>\\n          <nav class=\"navbar navbar-default bootsnav background-transparent header-dark white-link navbar-fixed-top navbar-expand-lg nav-box-width\">\\n            <div class=\"container-fluid nav-header-container\">\\n\\n              <div class=\"col-auto pl-0\">\\n                <a class=\"logo\" title=\"Pass It On\\xc2\\xae\" href=\"/\"><img data-rjs=\"/assets/site/logo@2x-77b9f4fa1e4bafa6ff119f8f162b7bd9.png\" class=\"logo-dark\" alt=\"Pass It On\" src=\"/assets/site/logo-6d680decaadef58e4fbb586e147bc135.png\" /><img data-rjs=\"/assets/site/logo-white@2x-82bf2486063a48e9207811cc7f6d5e5f.png\" class=\"logo-light default\" alt=\"Pass It On\" src=\"/assets/site/logo-white-2d99f390ad2f6d3bbf59a52aadb55d60.png\" /></a>\\n              </div>\\n\\n              <div class=\"col accordion-menu pr-0 pr-md-3\">\\n                <button type=\"button\" class=\"navbar-toggler collapsed\" data-toggle=\"collapse\" data-target=\"#navbar-collapse-toggle-1\">\\n                  <span class=\"sr-only\">toggle navigation</span><span class=\"icon-bar\"></span><span class=\"icon-bar\"></span><span class=\"icon-bar\"></span>\\n                </button>\\n                <div class=\"navbar-collapse collapse justify-content-end\" id=\"navbar-collapse-toggle-1\">\\n                  <ul id=\"accordion\" class=\"nav navbar-nav navbar-left no-margin alt-font text-normal\" data-in=\"fadeIn\" data-out=\"fadeOut\">\\n                    <li><a href=\"/inspirational-quotes\">Quotes</a></li>\\n                    <li class=\"dropdown simple-dropdown\"><a href=\"/inspirational-stories-tv-spots\">Videos <i class=\\'fas fa-caret-down d-none d-lg-inline\\' aria-hidden=\\'true\\'></i></a><i class=\"fas fa-caret-down dropdown-toggle\" data-toggle=\"dropdown\" aria-hidden=\"true\"></i>\\n                      <ul class=\"dropdown-menu\" role=\"menu\">\\n                        <li><a href=\"/inspirational-stories-tv-spots\">Official Pass It On\\xc2\\xae Videos</a></li>\\n                        <li><a href=\"/artcenter-psas\">ArtCenter College of Design PSAs</a></li>\\n                      </ul>\\n                    </li>\\n\\n                    <li class=\"dropdown simple-dropdown\"><a href=\"/inspirational-sayings-billboards\">Billboards <i class=\\'fas fa-caret-down d-none d-lg-inline\\' aria-hidden=\\'true\\'></i></a><i class=\"fas fa-caret-down dropdown-toggle\" data-toggle=\"dropdown\" aria-hidden=\"true\"></i>\\n                      <ul class=\"dropdown-menu\" role=\"menu\">\\n                        <li><a href=\"/inspirational-sayings-billboards\">Official Billboards</a></li>\\n                        <li><a href=\"/is-in-you\">Is In You\\xc2\\xae Billboards</a></li>\\n                        <li><a href=\"/your-billboards\">Create Your Own Billboard</a></li>\\n                      </ul>\\n                    </li>\\n                    <li><a href=\"/positive-good-news-columns\">Newspapers</a></li>\\n                    <li><a href=\"/radio\">Radio</a></li>\\n                    <li><a href=\"/passiton-blog\">Blog</a></li>\\n                    <li><a href=\"/poster-requests/new\">Schools</a></li>\\n                    <li class=\"dropdown simple-dropdown\"><a href=\"#\"><i class=\\'fas fa-globe d-none d-lg-inline text-normal\\' aria-hidden=\\'true\\'></i> <i class=\\'fas fa-caret-down d-none d-lg-inline\\' aria-hidden=\\'true\\'></i></a><i class=\"fas fa-caret-down dropdown-toggle\" data-toggle=\"dropdown\" aria-hidden=\"true\"></i>\\n                      <ul class=\"dropdown-menu\" role=\"menu\">\\n                        <li><a target=\"_blank\" href=\"https://www.pasala.org/\">Spanish | Espa\\xc3\\xb1ol</a></li>\\n                        <li><a target=\"_blank\" href=\"https://www.umavidamelhor.org/\">Portuguese | Portugu\\xc3\\xaas</a></li>\\n                        <li><a target=\"_blank\" href=\"https://www.values.cn.com/\">Chinese | \\xe4\\xb8\\xad\\xe6\\x96\\x87</a></li>\\n                      </ul>\\n                    </li>\\n                  </ul>\\n                </div>\\n              </div>\\n              <div class=\"col-auto pr-0\">\\n                <div class=\"header-searchbar\">\\n                  <a href=\"#search-header\" class=\"header-search-form\"><i class=\"fas fa-search search-button\"></i></a>\\n                  <form id=\"search-header\" method=\"post\" action=\"/search\" name=\"search-header\" class=\"mfp-hide search-form-result\">\\n                    <div class=\"search-form position-relative\">\\n                      <button type=\"submit\" class=\"fas fa-search close-search search-button\"></button>\\n                      <input type=\"text\" name=\"q\" class=\"search-input\" placeholder=\"Search passiton.com...\" autocomplete=\"off\">\\n                    </div>\\n                  </form>\\n                </div>\\n              </div>\\n            </div>\\n          </nav>\\n\\n        </header>\\n\\n        \\n\\n    <section class=\"parallax padding-six-all bg-black\" data-stellar-background-ratio=\"0.2\" style=\"background-image:url(\\'/assets/backgrounds/flowers-8d19415bc3bc371f5beaed468d9a1970.jpg\\');\">\\n        <div class=\"container\">\\n            <div class=\"row justify-content-center\">\\n                <div class=\"col-12 col-lg-10 text-center\">\\n                    <div class=\"shadow bg-extra-dark-gray padding-two-all border-radius-6 width-70 lg-width-80 sm-width-100 mx-auto lg-padding-30px-all sm-padding-15px-all sm-margin-40px-top\">\\n                        <h6 class=\"font-weight-300 text-white-2 margin-20px-bottom sm-margin-15px-bottom\">Get our FREE daily quote emails!</h6>\\n                        <p class=\"text-medium width-70 mx-auto margin-40px-bottom sm-width-100 sm-margin-15px-bottom\">Get a daily inspirational quote in your inbox each weekday! Enter your email below to subscribe.</p>\\n\\n                        <form class=\"simple_form search-box3 margin-10px-bottom\" novalidate=\"novalidate\" id=\"new_user\" action=\"/users\" accept-charset=\"UTF-8\" method=\"post\"><input name=\"utf8\" type=\"hidden\" value=\"&#x2713;\" /><input type=\"hidden\" name=\"authenticity_token\" value=\"0ormvOb7vhj3TCYGeJiyUlgZWLZiklz8VEm01LMPJhgI04ZGHzv0iK5/QdIvNOVIH1UX7+Ow6Y0u4V8rJNhkcw==\" />\\n                            <div class=\"input-group add-on width-75 mx-auto sm-width-100\">\\n                                <input label=\"false\" class=\"string email optional form-control text-white\" type=\"text\" placeholder=\"you@your-email.com\" name=\"user[email]\" id=\"user_email\" />\\n                                <div class=\"input-group-append\">\\n                                    <button type=\"submit\" class=\"btn btn-default\"><i class=\"ti-arrow-right text-small m-0\"></i></button>\\n                                </div>\\n                            </div>\\n</form>\\n\\n                    </div>\\n                </div>\\n            </div>\\n        </div>\\n    </section>\\n\\n\\n<section class=\"half-section bg-extra-dark-gray half-section\">\\n    <div class=\"container\">\\n\\n        <div class=\"row m-0\">\\n            <div class=\"col-12 d-flex flex-column justify-content-center text-center wow fadeIn\" data-wow-delay=\"0.2s\">\\n                <h5 class=\"text-white alt-font font-weight-400 letter-spacing-1 margin-10px-bottom\">INSPIRATIONAL QUOTES</h5>\\n                <span class=\"text-white-2 opacity8 alt-font mb-0 padding-20px-bottom\">Find the perfect quote... and Pass It On\\xc2\\xae</span>\\n\\n                <form class=\"search-box2 margin-30px-bottom\" action=\"/inspirational-quotes\" method=\"get\">\\n                    <div class=\"input-group add-on width-75 mx-auto sm-width-100\">\\n                        <input name=\"q\" type=\"text\" value=\\'\\' placeholder=\"Search our inspiring quotes...\" class=\"form-control\" />\\n                        <div class=\"input-group-append\">\\n                            <button type=\"submit\" class=\"btn btn-default\"><i class=\"ti-search text-small m-0\"></i></button>\\n                        </div>\\n                    </div>\\n                </form>\\n\\n            </div>\\n        </div>\\n\\n        <div class=\"row m-0\">\\n            <div class=\"col-8 d-flex flex-column justify-content-center text-center\">\\n                <div class=\\'row\\' id=\\'all_quotes\\'>\\n                    <div class=\"col-6 col-lg-4 text-center margin-30px-bottom sm-margin-30px-top\">\\n\\n        <a href=\"/inspirational-quotes/8330-i-would-rather-walk-with-a-friend-in-the-dark\"><img alt=\"I would rather walk with a friend in the dark, than alone in the light. #&lt;Author:0x00005645e898fa38&gt;\" class=\"margin-10px-bottom shadow\" src=\"https://assets.passiton.com/quotes/quote_artwork/8330/medium/20220527_friday_quote.jpg?1652392408\" width=\"310\" height=\"310\" /></a>\\n        <h5 class=\\'value_on_red\\'><a href=\"/inspirational-quotes/8330-i-would-rather-walk-with-a-friend-in-the-dark\">FRIENDSHIP</a></h5>\\n\\n</div><div class=\"col-6 col-lg-4 text-center margin-30px-bottom sm-margin-30px-top\">\\n\\n        <a href=\"/inspirational-quotes/8036-good-friends-are-like-stars-you-dont-always\"><img alt=\"Good friends are like stars. You don&#39;t always see them, but you know they&#39;re always there. #&lt;Author:0x00005645e8f7b9d8&gt;\" class=\"margin-10px-bottom shadow\" src=\"https://assets.passiton.com/quotes/quote_artwork/8036/medium/20220526_thursday_quote.jpg?1652392380\" width=\"310\" height=\"310\" /></a>\\n        <h5 class=\\'value_on_red\\'><a href=\"/inspirational-quotes/8036-good-friends-are-like-stars-you-dont-always\">FRIENDSHIP</a></h5>\\n\\n</div><div class=\"col-6 col-lg-4 text-center margin-30px-bottom sm-margin-30px-top\">\\n\\n        <a href=\"/inspirational-quotes/8331-try-to-be-a-rainbow-in-someones-cloud\"><img alt=\"Try to be a rainbow in someone&#39;s cloud. #&lt;Author:0x00005645e8e369b0&gt;\" class=\"margin-10px-bottom shadow\" src=\"https://assets.passiton.com/quotes/quote_artwork/8331/medium/20220525_wednesday_quote.jpg?1652392349\" width=\"310\" height=\"310\" /></a>\\n        <h5 class=\\'value_on_red\\'><a href=\"/inspirational-quotes/8331-try-to-be-a-rainbow-in-someones-cloud\">FRIENDSHIP</a></h5>\\n\\n</div><div class=\"col-6 col-lg-4 text-center margin-30px-bottom sm-margin-30px-top\">\\n\\n        <a href=\"/inspirational-quotes/7641-friends-are-medicine-for-a-wounded-heart-and\"><img alt=\"Friends are medicine for a wounded heart and vitamins for a hopeful soul. #&lt;Author:0x00005645e8a2b690&gt;\" class=\"margin-10px-bottom shadow\" src=\"https://assets.passiton.com/quotes/quote_artwork/7641/medium/20220524_tuesday_quote.jpg?1652392319\" width=\"310\" height=\"310\" /></a>\\n        <h5 class=\\'value_on_red\\'><a href=\"/inspirational-quotes/7641-friends-are-medicine-for-a-wounded-heart-and\">FRIENDSHIP</a></h5>\\n\\n</div><div class=\"col-6 col-lg-4 text-center margin-30px-bottom sm-margin-30px-top\">\\n\\n        <a href=\"/inspirational-quotes/8192-anything-is-possible-when-you-have-the-right\"><img alt=\"Anything is possible when you have the right people there to support you. #&lt;Author:0x00005645e8d5e290&gt;\" class=\"margin-10px-bottom shadow\" src=\"https://assets.passiton.com/quotes/quote_artwork/8192/medium/20220523_monday_quote.jpg?1652392295\" width=\"310\" height=\"310\" /></a>\\n        <h5 class=\\'value_on_red\\'><a href=\"/inspirational-quotes/8192-anything-is-possible-when-you-have-the-right\">FRIENDSHIP</a></h5>\\n\\n</div><div class=\"col-6 col-lg-4 text-center margin-30px-bottom sm-margin-30px-top\">\\n\\n        <a href=\"/inspirational-quotes/4543-be-curious-not-judgmental\"><img alt=\"Be curious, not judgmental.  #&lt;Author:0x00005645e8a62fa0&gt;\" class=\"margin-10px-bottom shadow\" src=\"https://assets.passiton.com/quotes/quote_artwork/4543/medium/20220520_friday_quote.jpg?1652390708\" width=\"310\" height=\"310\" /></a>\\n        <h5 class=\\'value_on_red\\'><a href=\"/inspirational-quotes/4543-be-curious-not-judgmental\">CURIOSITY</a></h5>\\n\\n</div><div class=\"col-6 col-lg-4 text-center margin-30px-bottom sm-margin-30px-top\">\\n\\n        <a href=\"/inspirational-quotes/6799-above-all-watch-with-glittering-eyes-the-whole\"><img alt=\"Above all, watch with glittering eyes the whole world around you, because the greatest secrets are always hidden in the most unlikely places. #&lt;Author:0x00005645e8e9c940&gt;\" class=\"margin-10px-bottom shadow\" src=\"https://assets.passiton.com/quotes/quote_artwork/6799/medium/20220519_thursday_quote.jpg?1652390687\" width=\"310\" height=\"310\" /></a>\\n        <h5 class=\\'value_on_red\\'><a href=\"/inspirational-quotes/6799-above-all-watch-with-glittering-eyes-the-whole\">CURIOSITY</a></h5>\\n\\n</div><div class=\"col-6 col-lg-4 text-center margin-30px-bottom sm-margin-30px-top\">\\n\\n        <a href=\"/inspirational-quotes/8329-curiosity-is-more-important-than-knowledge\"><img alt=\"Curiosity is more important than knowledge. #&lt;Author:0x00005645e8d2a300&gt;\" class=\"margin-10px-bottom shadow\" src=\"https://assets.passiton.com/quotes/quote_artwork/8329/medium/20220518_wednesday_quote.jpg?1652390654\" width=\"310\" height=\"310\" /></a>\\n        <h5 class=\\'value_on_red\\'><a href=\"/inspirational-quotes/8329-curiosity-is-more-important-than-knowledge\">CURIOSITY</a></h5>\\n\\n</div><div class=\"col-6 col-lg-4 text-center margin-30px-bottom sm-margin-30px-top\">\\n\\n        <a href=\"/inspirational-quotes/8328-i-think-at-a-childs-birth-if-a-mother-could\"><img alt=\"I think, at a child&#39;s birth, if a mother could ask a fairy godmother to endow it with the most useful gift, that gift would be curiosity. #&lt;Author:0x00005645e8f0d690&gt;\" class=\"margin-10px-bottom shadow\" src=\"https://assets.passiton.com/quotes/quote_artwork/8328/medium/20220517_tuesday_quote.jpg?1652390623\" width=\"310\" height=\"310\" /></a>\\n        <h5 class=\\'value_on_red\\'><a href=\"/inspirational-quotes/8328-i-think-at-a-childs-birth-if-a-mother-could\">CURIOSITY</a></h5>\\n\\n</div><div class=\"col-6 col-lg-4 text-center margin-30px-bottom sm-margin-30px-top\">\\n\\n        <a href=\"/inspirational-quotes/4014-somewhere-something-incredible-is-waiting-to\"><img alt=\"Somewhere, something incredible is waiting to be known. #&lt;Author:0x00005645e8a9d088&gt;\" class=\"margin-10px-bottom shadow\" src=\"https://assets.passiton.com/quotes/quote_artwork/4014/medium/20220516_monday_quote.jpg?1652390606\" width=\"310\" height=\"310\" /></a>\\n        <h5 class=\\'value_on_red\\'><a href=\"/inspirational-quotes/4014-somewhere-something-incredible-is-waiting-to\">CURIOSITY</a></h5>\\n\\n</div><div class=\"col-6 col-lg-4 text-center margin-30px-bottom sm-margin-30px-top\">\\n\\n        <a href=\"/inspirational-quotes/7826-the-world-needs-dreamers-and-the-world-needs\"><img alt=\"The world needs dreamers and the world needs doers. But above all, the world needs dreamers who do. #&lt;Author:0x00005645e7cf8b30&gt;\" class=\"margin-10px-bottom shadow\" src=\"https://assets.passiton.com/quotes/quote_artwork/7826/medium/20220513_friday_quote.jpg?1651853654\" width=\"310\" height=\"310\" /></a>\\n        <h5 class=\\'value_on_red\\'><a href=\"/inspirational-quotes/7826-the-world-needs-dreamers-and-the-world-needs\">ENCOURAGEMENT</a></h5>\\n\\n</div><div class=\"col-6 col-lg-4 text-center margin-30px-bottom sm-margin-30px-top\">\\n\\n        <a href=\"/inspirational-quotes/7075-our-chief-want-is-someone-who-will-inspire-us\"><img alt=\"Our chief want is someone who will inspire us to be what we know we could be. #&lt;Author:0x00005645e4e0e8d8&gt;\" class=\"margin-10px-bottom shadow\" src=\"https://assets.passiton.com/quotes/quote_artwork/7075/medium/20220512_thursday_quote.jpg?1651853635\" width=\"310\" height=\"310\" /></a>\\n        <h5 class=\\'value_on_red\\'><a href=\"/inspirational-quotes/7075-our-chief-want-is-someone-who-will-inspire-us\">ENCOURAGEMENT</a></h5>\\n\\n</div><div class=\"col-6 col-lg-4 text-center margin-30px-bottom sm-margin-30px-top\">\\n\\n        <a href=\"/inspirational-quotes/5008-encouragement-is-oxygen-to-the-soul\"><img alt=\"Encouragement is oxygen to the soul. #&lt;Author:0x00005645e8b4f710&gt;\" class=\"margin-10px-bottom shadow\" src=\"https://assets.passiton.com/quotes/quote_artwork/5008/medium/20220511_wednesday_quote.jpg?1651853616\" width=\"310\" height=\"310\" /></a>\\n        <h5 class=\\'value_on_red\\'><a href=\"/inspirational-quotes/5008-encouragement-is-oxygen-to-the-soul\">ENCOURAGEMENT</a></h5>\\n\\n</div><div class=\"col-6 col-lg-4 text-center margin-30px-bottom sm-margin-30px-top\">\\n\\n        <a href=\"/inspirational-quotes/3521-correction-does-much-but-encouragement-does-more\"><img alt=\"Correction does much, but encouragement does more. #&lt;Author:0x00005645e8b26950&gt;\" class=\"margin-10px-bottom shadow\" src=\"https://assets.passiton.com/quotes/quote_artwork/3521/medium/20220510_tuesday_quote.jpg?1651853598\" width=\"310\" height=\"310\" /></a>\\n        <h5 class=\\'value_on_red\\'><a href=\"/inspirational-quotes/3521-correction-does-much-but-encouragement-does-more\">ENCOURAGEMENT</a></h5>\\n\\n</div><div class=\"col-6 col-lg-4 text-center margin-30px-bottom sm-margin-30px-top\">\\n\\n        <a href=\"/inspirational-quotes/3434-most-of-us-swimming-against-the-tides-of\"><img alt=\"Most of us, swimming against the tides of trouble the world knows nothing about, need only a bit of praise or encouragement\\xe2\\x80\\x94and we will make the goal. #&lt;Author:0x00005645e8b32318&gt;\" class=\"margin-10px-bottom shadow\" src=\"https://assets.passiton.com/quotes/quote_artwork/3434/medium/20220509_monday_quote.jpg?1651853509\" width=\"310\" height=\"310\" /></a>\\n        <h5 class=\\'value_on_red\\'><a href=\"/inspirational-quotes/3434-most-of-us-swimming-against-the-tides-of\">ENCOURAGEMENT</a></h5>\\n\\n</div><div class=\"col-6 col-lg-4 text-center margin-30px-bottom sm-margin-30px-top\">\\n\\n        <a href=\"/inspirational-quotes/8327-ive-been-absolutely-terrified-every-moment-of\"><img alt=\"I&#39;ve been absolutely terrified every moment of my life and I&#39;ve never let it keep me from doing a single thing that I wanted to do. #&lt;Author:0x00005645e8fc5b00&gt;\" class=\"margin-10px-bottom shadow\" src=\"https://assets.passiton.com/quotes/quote_artwork/8327/medium/20220506_friday_quote.jpg?1651176300\" width=\"310\" height=\"310\" /></a>\\n        <h5 class=\\'value_on_red\\'><a href=\"/inspirational-quotes/8327-ive-been-absolutely-terrified-every-moment-of\">SPREAD YOUR WINGS</a></h5>\\n\\n</div><div class=\"col-6 col-lg-4 text-center margin-30px-bottom sm-margin-30px-top\">\\n\\n        <a href=\"/inspirational-quotes/7884-embrace-uncertainty-some-of-the-most-beautiful\"><img alt=\"Embrace uncertainty. Some of the most beautiful chapters in our lives won\\xe2\\x80\\x99t have a title until much later. #&lt;Author:0x00005645e5c538f8&gt;\" class=\"margin-10px-bottom shadow\" src=\"https://assets.passiton.com/quotes/quote_artwork/7884/medium/20220505_thursday_quote.jpg?1651176276\" width=\"310\" height=\"310\" /></a>\\n        <h5 class=\\'value_on_red\\'><a href=\"/inspirational-quotes/7884-embrace-uncertainty-some-of-the-most-beautiful\">SPREAD YOUR WINGS</a></h5>\\n\\n</div><div class=\"col-6 col-lg-4 text-center margin-30px-bottom sm-margin-30px-top\">\\n\\n        <a href=\"/inspirational-quotes/3586-a-mind-that-is-stretched-by-a-new-experience\"><img alt=\"A mind that is stretched by a new experience can never go back to its old dimensions. #&lt;Author:0x00005645e5c78a68&gt;\" class=\"margin-10px-bottom shadow\" src=\"https://assets.passiton.com/quotes/quote_artwork/3586/medium/20220504_wednesday_quote.jpg?1651176241\" width=\"310\" height=\"310\" /></a>\\n        <h5 class=\\'value_on_red\\'><a href=\"/inspirational-quotes/3586-a-mind-that-is-stretched-by-a-new-experience\">SPREAD YOUR WINGS</a></h5>\\n\\n</div><div class=\"col-6 col-lg-4 text-center margin-30px-bottom sm-margin-30px-top\">\\n\\n        <a href=\"/inspirational-quotes/8326-and-then-there-is-the-most-dangerous-risk-of\"><img alt=\"And then there is the most dangerous risk of all...the risk of spending your life not doing what you want on the bet you can buy yourself the freedom to do it later. #&lt;Author:0x00005645e5c9c800&gt;\" class=\"margin-10px-bottom shadow\" src=\"https://assets.passiton.com/quotes/quote_artwork/8326/medium/20220503_tuesday_quote.jpg?1651176218\" width=\"310\" height=\"310\" /></a>\\n        <h5 class=\\'value_on_red\\'><a href=\"/inspirational-quotes/8326-and-then-there-is-the-most-dangerous-risk-of\">SPREAD YOUR WINGS</a></h5>\\n\\n</div><div class=\"col-6 col-lg-4 text-center margin-30px-bottom sm-margin-30px-top\">\\n\\n        <a href=\"/inspirational-quotes/6720-no-one-can-really-predict-to-what-heights-you\"><img alt=\"No one can really predict to what heights you might soar. Even you will not know until you spread your wings. #&lt;Author:0x00005645e5cc0188&gt;\" class=\"margin-10px-bottom shadow\" src=\"https://assets.passiton.com/quotes/quote_artwork/6720/medium/20220502_monday_quote.jpg?1651176192\" width=\"310\" height=\"310\" /></a>\\n        <h5 class=\\'value_on_red\\'><a href=\"/inspirational-quotes/6720-no-one-can-really-predict-to-what-heights-you\">SPREAD YOUR WINGS</a></h5>\\n\\n</div><div class=\"col-6 col-lg-4 text-center margin-30px-bottom sm-margin-30px-top\">\\n\\n        <a href=\"/inspirational-quotes/8325-smile-at-the-obstacle-for-it-is-a-bridge\"><img alt=\"Smile at the obstacle, for it is a bridge. #&lt;Author:0x00005645e906ce00&gt;\" class=\"margin-10px-bottom shadow\" src=\"https://assets.passiton.com/quotes/quote_artwork/8325/medium/20220429_friday_quote.jpg?1650648519\" width=\"310\" height=\"310\" /></a>\\n        <h5 class=\\'value_on_red\\'><a href=\"/inspirational-quotes/8325-smile-at-the-obstacle-for-it-is-a-bridge\">SMILE</a></h5>\\n\\n</div><div class=\"col-6 col-lg-4 text-center margin-30px-bottom sm-margin-30px-top\">\\n\\n        <a href=\"/inspirational-quotes/7043-we-shall-never-know-all-the-good-that-a-simple\"><img alt=\"We shall never know all the good that a simple smile can do. #&lt;Author:0x00005645e909f1c0&gt;\" class=\"margin-10px-bottom shadow\" src=\"https://assets.passiton.com/quotes/quote_artwork/7043/medium/20220428_thursday_quote.jpg?1650648496\" width=\"310\" height=\"310\" /></a>\\n        <h5 class=\\'value_on_red\\'><a href=\"/inspirational-quotes/7043-we-shall-never-know-all-the-good-that-a-simple\">SMILE</a></h5>\\n\\n</div><div class=\"col-6 col-lg-4 text-center margin-30px-bottom sm-margin-30px-top\">\\n\\n        <a href=\"/inspirational-quotes/7530-a-warm-smile-is-the-universal-language-of\"><img alt=\"A warm smile is the universal language of kindness. #&lt;Author:0x00005645e90e7088&gt;\" class=\"margin-10px-bottom shadow\" src=\"https://assets.passiton.com/quotes/quote_artwork/7530/medium/20220427_wednesday_quote.jpg?1650648477\" width=\"310\" height=\"310\" /></a>\\n        <h5 class=\\'value_on_red\\'><a href=\"/inspirational-quotes/7530-a-warm-smile-is-the-universal-language-of\">SMILE</a></h5>\\n\\n</div><div class=\"col-6 col-lg-4 text-center margin-30px-bottom sm-margin-30px-top\">\\n\\n        <a href=\"/inspirational-quotes/7598-a-gentle-word-a-kind-look-a-good-natured\"><img alt=\"A gentle word, a kind look, a good-natured smile can work wonders and accomplish miracles. #&lt;Author:0x00005645e910f9c0&gt;\" class=\"margin-10px-bottom shadow\" src=\"https://assets.passiton.com/quotes/quote_artwork/7598/medium/20220426_tuesday_quote.jpg?1650648453\" width=\"310\" height=\"310\" /></a>\\n        <h5 class=\\'value_on_red\\'><a href=\"/inspirational-quotes/7598-a-gentle-word-a-kind-look-a-good-natured\">SMILE</a></h5>\\n\\n</div><div class=\"col-6 col-lg-4 text-center margin-30px-bottom sm-margin-30px-top\">\\n\\n        <a href=\"/inspirational-quotes/3549-if-it-wasnt-hard-everyone-would-do-it-its-the\"><img alt=\"If it wasn&#39;t hard, everyone would do it. It&#39;s the hard that makes it great. #&lt;Author:0x00005645e9412870&gt;\" class=\"margin-10px-bottom shadow\" src=\"https://assets.passiton.com/quotes/quote_artwork/3549/medium/20220422_friday_quote_updated.jpg?1650641875\" width=\"310\" height=\"310\" /></a>\\n        <h5 class=\\'value_on_red\\'><a href=\"/inspirational-quotes/3549-if-it-wasnt-hard-everyone-would-do-it-its-the\">HARD WORK</a></h5>\\n\\n</div><div class=\"col-6 col-lg-4 text-center margin-30px-bottom sm-margin-30px-top\">\\n\\n        <a href=\"/inspirational-quotes/6141-the-highest-reward-for-mans-toil-is-not-what-he\"><img alt=\"The highest reward for man&#39;s toil is not what he gets for it, but what he becomes by it. #&lt;Author:0x00005645e9448268&gt;\" class=\"margin-10px-bottom shadow\" src=\"https://assets.passiton.com/quotes/quote_artwork/6141/medium/20220421_thursday_quote.jpg?1650051980\" width=\"310\" height=\"310\" /></a>\\n        <h5 class=\\'value_on_red\\'><a href=\"/inspirational-quotes/6141-the-highest-reward-for-mans-toil-is-not-what-he\">HARD WORK</a></h5>\\n\\n</div><div class=\"col-6 col-lg-4 text-center margin-30px-bottom sm-margin-30px-top\">\\n\\n        <a href=\"/inspirational-quotes/7893-success-isnt-always-about-greatness-its-about\"><img alt=\"Success isn&#39;t always about greatness. It&#39;s about consistency. Consistent hard work leads to success. Greatness will come. #&lt;Author:0x00005645e948f938&gt;\" class=\"margin-10px-bottom shadow\" src=\"https://assets.passiton.com/quotes/quote_artwork/7893/medium/20220420_wednesday_quote.jpg?1650051954\" width=\"310\" height=\"310\" /></a>\\n        <h5 class=\\'value_on_red\\'><a href=\"/inspirational-quotes/7893-success-isnt-always-about-greatness-its-about\">HARD WORK</a></h5>\\n\\n</div><div class=\"col-6 col-lg-4 text-center margin-30px-bottom sm-margin-30px-top\">\\n\\n        <a href=\"/inspirational-quotes/7750-a-dream-doesnt-become-reality-through-magic-it\"><img alt=\"A dream doesn&#39;t become reality through magic; it takes sweat, determination, and hard work. #&lt;Author:0x00005645e94d0f00&gt;\" class=\"margin-10px-bottom shadow\" src=\"https://assets.passiton.com/quotes/quote_artwork/7750/medium/20220419_tuesday_quote.jpg?1650051929\" width=\"310\" height=\"310\" /></a>\\n        <h5 class=\\'value_on_red\\'><a href=\"/inspirational-quotes/7750-a-dream-doesnt-become-reality-through-magic-it\">HARD WORK</a></h5>\\n\\n</div><div class=\"col-6 col-lg-4 text-center margin-30px-bottom sm-margin-30px-top\">\\n\\n        <a href=\"/inspirational-quotes/6188-far-and-away-the-best-prize-that-life-offers-is\"><img alt=\"Far and away the best prize that life offers is the chance to work hard at work worth doing.  #&lt;Author:0x00005645e952bd10&gt;\" class=\"margin-10px-bottom shadow\" src=\"https://assets.passiton.com/quotes/quote_artwork/6188/medium/20220418_monday_quote.jpg?1650051893\" width=\"310\" height=\"310\" /></a>\\n        <h5 class=\\'value_on_red\\'><a href=\"/inspirational-quotes/6188-far-and-away-the-best-prize-that-life-offers-is\">HARD WORK</a></h5>\\n\\n</div><div class=\"col-6 col-lg-4 text-center margin-30px-bottom sm-margin-30px-top\">\\n\\n        <a href=\"/inspirational-quotes/4171-twenty-years-from-now-you-will-be-more\"><img alt=\"Twenty years from now you will be more disappointed by the things you didn&#39;t do than by the ones you did. So throw off the bowlines. Sail away from the safe harbor. Catch the trade winds in your sails. Explore. Dream. Discover. #&lt;Author:0x00005645e957f5c8&gt;\" class=\"margin-10px-bottom shadow\" src=\"https://assets.passiton.com/quotes/quote_artwork/4171/medium/20220415_friday_quote.jpg?1649602334\" width=\"310\" height=\"310\" /></a>\\n        <h5 class=\\'value_on_red\\'><a href=\"/inspirational-quotes/4171-twenty-years-from-now-you-will-be-more\">LIVE LIFE</a></h5>\\n\\n</div><div class=\"col-6 col-lg-4 text-center margin-30px-bottom sm-margin-30px-top\">\\n\\n        <a href=\"/inspirational-quotes/7773-be-fearless-in-the-pursuit-of-what-sets-your\"><img alt=\"Be fearless in the pursuit of what sets your soul on fire. #&lt;Author:0x00005645e95c5cd0&gt;\" class=\"margin-10px-bottom shadow\" src=\"https://assets.passiton.com/quotes/quote_artwork/7773/medium/20220414_thursday_quote.jpg?1649602309\" width=\"310\" height=\"310\" /></a>\\n        <h5 class=\\'value_on_red\\'><a href=\"/inspirational-quotes/7773-be-fearless-in-the-pursuit-of-what-sets-your\">LIVE LIFE</a></h5>\\n\\n</div><div class=\"col-6 col-lg-4 text-center margin-30px-bottom sm-margin-30px-top\">\\n\\n        <a href=\"/inspirational-quotes/7595-its-your-place-in-the-world-its-your-life-go\"><img alt=\"It&#39;s your place in the world; it&#39;s your life. Go on and do all you can with it, and make it the life you want to live. #&lt;Author:0x00005645e9622b88&gt;\" class=\"margin-10px-bottom shadow\" src=\"https://assets.passiton.com/quotes/quote_artwork/7595/medium/20220413_wednesday_quote.jpg?1649602286\" width=\"310\" height=\"310\" /></a>\\n        <h5 class=\\'value_on_red\\'><a href=\"/inspirational-quotes/7595-its-your-place-in-the-world-its-your-life-go\">LIVE LIFE</a></h5>\\n\\n</div>\\n                </div>\\n            </div>\\n            <div class=\"col-4 d-flex flex-column text-center\">\\n                <div class=\\'row\\' id=\\'all_quotes\\'>\\n                    <span style=\\'font-size:  20px;\\' class=\"text-white text-left alt-font font-weight-400 letter-spacing-1 margin-20px-bottom\">We publish our quotes and other inspirational stories on Facebook. Please \\'like\\' our page to get daily inspiration.</span>\\n                    <div class=\"fb-page\" data-href=\"https://www.facebook.com/valuescom\" data-tabs=\"timeline\" data-width=\"\" data-height=\"3000\" data-small-header=\"true\" data-adapt-container-width=\"true\" data-hide-cover=\"false\" data-show-facepile=\"true\"><blockquote cite=\"https://www.facebook.com/valuescom\" class=\"fb-xfbml-parse-ignore\"><a href=\"https://www.facebook.com/valuescom\">Foundation for A Better Life</a></blockquote></div>\\n                </div>\\n            </div>\\n        </div>\\n\\n        <div class=\"row\">\\n            <div class=\"col-12 text-center\">\\n                <div class=\"quotes_pagination\"><a class=\"previous_page\" rel=\"prev\" href=\"/inspirational-quotes?page=1\">&#8592; Previous</a> <a rel=\"prev\" href=\"/inspirational-quotes?page=1\">1</a> <em class=\"current\">2</em> <a rel=\"next\" href=\"/inspirational-quotes?page=3\">3</a> <a href=\"/inspirational-quotes?page=4\">4</a> <a href=\"/inspirational-quotes?page=5\">5</a> <a href=\"/inspirational-quotes?page=6\">6</a> <a href=\"/inspirational-quotes?page=7\">7</a> <a href=\"/inspirational-quotes?page=8\">8</a> <a href=\"/inspirational-quotes?page=9\">9</a> <span class=\"gap\">&hellip;</span> <a href=\"/inspirational-quotes?page=124\">124</a> <a href=\"/inspirational-quotes?page=125\">125</a> <a class=\"next_page\" rel=\"next\" href=\"/inspirational-quotes?page=3\">Next &#8594;</a></div>\\n            </div>\\n        </div>\\n\\n    </div>\\n</section>\\n        <footer class=\"footer-classic-dark bg-extra-dark-gray padding-five-bottom sm-padding-30px-bottom\">\\n  <div class=\"bg-dark-footer padding-50px-tb sm-padding-30px-tb\">\\n    <div class=\"container\">\\n      <div class=\"row align-items-center\">\\n\\n        <div class=\"col-lg-4 col-md-4 sm-text-center lg-text-left alt-font sm-margin-15px-bottom\">\\n          <a href=\"/\"><img style=\"max-width: 200px;\" data-rjs=\"/assets/site/passiton_fbl_logo-17c0ab162b56f1251713b3401d313c8d.png\" alt=\"PassItOn.com The Foundation for a Better Life\" class=\"footer_logo\" src=\"/assets/site/passiton_fbl_logo-17c0ab162b56f1251713b3401d313c8d.png\" /></a>\\n        </div>\\n\\n        <div class=\"col-lg-4 col-md-4 text-center sm-margin-10px-bottom\">\\n        </div>\\n\\n        <div class=\"col-lg-4 col-md-4 text-center\">\\n          <span class=\"alt-font margin-20px-right\">Follow us on social</span>\\n          <div class=\"social-icon-style-8 d-inline-block vertical-align-middle\">\\n            <ul class=\"small-icon mb-0\">\\n              <li><a class=\"facebook text-white-2\" href=\"https://www.facebook.com/valuescom\" target=\"_blank\"><i class=\"fab fa-facebook-f\" aria-hidden=\"true\"></i></a></li>\\n              <li><a class=\"twitter text-white-2\" href=\"https://twitter.com/passiton_values\" target=\"_blank\"><i class=\"fab fa-twitter\"></i></a></li>\\n              <li><a class=\"instagram text-white-2\" href=\"https://www.instagram.com/passiton_values/\" target=\"_blank\"><i class=\"fab fa-instagram no-margin-right\" aria-hidden=\"true\"></i></a></li>\\n              <li><a class=\"pinterest text-white-2\" href=\"https://www.pinterest.com/passiton_values/\" target=\"_blank\"><i class=\"fab fa-pinterest no-margin-right\" aria-hidden=\"true\"></i></a></li>\\n              <li><a class=\"youtube text-white-2\" href=\"https://www.youtube.com/c/passiton_values\" target=\"_blank\"><i class=\"fab fa-youtube no-margin-right\" aria-hidden=\"true\"></i></a></li>\\n            </ul>\\n          </div>\\n        </div>\\n\\n      </div>\\n    </div>\\n  </div>\\n  <div class=\"footer-widget-area padding-five-top padding-30px-bottom sm-padding-30px-top\">\\n    <div class=\"container\">\\n      <div class=\"row\">\\n\\n        <div class=\"col-lg-3 col-md-6 widget border-right border-color-medium-dark-gray padding-45px-left md-padding-15px-left md-no-border-right md-margin-30px-bottom text-center text-md-left\">\\n          <div class=\"widget-title alt-font text-small text-medium-gray text-uppercase margin-10px-bottom font-weight-600\">About Us</div>\\n          <ul class=\"list-unstyled\">\\n            <li><a class=\"text-small\" href=\"/who-we-are\">About The Foundation for a Better Life</a></li>\\n            <li><a class=\"text-small\" href=\"/faqs\">FAQs</a></li>\\n            <li><a class=\"text-small\" href=\"/foundation-recognition\">Foundation Recognition</a></li>\\n            <li><a class=\"text-small\" href=\"/contact-us\">Contact Us</a></li>\\n          </ul>\\n        </div>\\n\\n        <div class=\"col-lg-3 col-md-6 widget border-right border-color-medium-dark-gray padding-45px-left md-padding-15px-left md-no-border-right md-margin-30px-bottom text-center text-md-left\">\\n          <div class=\"widget-title alt-font text-small text-medium-gray text-uppercase margin-10px-bottom font-weight-600\">Be Inspired</div>\\n          <ul class=\"list-unstyled\">\\n            <li><a class=\"text-small\" href=\"/teaching-values\">Teaching Values</a></li>\\n            <li><a class=\"text-small\" href=\"/inspirational-quotes\">Inspirational Quotations</a></li>\\n            <li><a class=\"text-small\" href=\"/inspirational-stories-tv-spots\">Pass It On\\xc2\\xae Videos</a></li>\\n            <li><a class=\"text-small\" href=\"/artcenter-psas\">ArtCenter College of Design PSAs</a></li>\\n            <li><a class=\"text-small\" href=\"/positive-good-news-columns\">Free Newspaper Stories</a></li>\\n            <li><a class=\"text-small\" href=\"/your-everyday-heroes\">Who&#39;s Your Hero Stories</a></li>\\n            <li><a class=\"text-small\" href=\"/inspirational-sayings-billboards\">Official Billboard Campaign</a></li>\\n            <li><a class=\"text-small\" href=\"/your-billboards\">Create Your Own Billboard</a></li>\\n            <li><a class=\"text-small\" href=\"/radio\">Radio Ads</a></li>\\n            <li><a class=\"text-small\" href=\"/passiton-blog\">Pass It On\\xc2\\xae Blog</a></li>\\n            <li><a class=\"text-small\" href=\"/inspirational-audio-stories\">Podcasts</a></li>\\n            <li><a class=\"text-small\" href=\"/pass-it-on-ecards\">Send an Ecard</a></li>\\n          </ul>\\n        </div>\\n\\n        <div class=\"col-lg-3 col-md-6 widget border-right border-color-medium-dark-gray padding-45px-left md-padding-15px-left md-no-border-right md-margin-30px-bottom text-center text-md-left\">\\n          <div class=\"widget-title alt-font text-small text-medium-gray text-uppercase margin-10px-bottom font-weight-600\">For Schools</div>\\n          <ul class=\"list-unstyled\">\\n            <li><a class=\"text-small\" href=\"/poster-requests/new\">Free Posters &amp; DVD for Schools</a></li>\\n            <li><a class=\"text-small\" href=\"/pass-it-on-downloads\">Downloads</a></li>\\n          </ul>\\n        </div>\\n\\n        <div class=\"col-lg-3 col-md-6 widget padding-45px-left md-padding-15px-left md-no-border-right md-margin-30px-bottom text-center text-md-left\">\\n          <div class=\"widget-title alt-font text-small text-medium-gray text-uppercase margin-10px-bottom font-weight-600\">For Media Companies</div>\\n          <ul class=\"list-unstyled\">\\n            <li><a class=\"text-small\" href=\"/for-media-companies\">For Media Companies</a></li>\\n            <li><a class=\"text-small\" href=\"https://www.passiton-media.com\">Broadcast Quality PSA Downloads</a></li>\\n            <li><a class=\"text-small\" href=\"https://www.passiton-media.com\">Pass It On Radio Ads</a></li>\\n            <li><a class=\"text-small\" href=\"https://www.passiton-media.com\">Live Reads</a></li>\\n            <li><a class=\"text-small\" href=\"https://www.passiton-media.com\">Out of Home Materials</a></li>\\n          </ul>\\n          <div class=\\'row sm-margin-30px-top\\'>\\n            <div class=\\'col-lg-4\\'>\\n              <a href=\"/\"><img style=\"max-width: 70px;\" src=\"/assets/site/values_logo-cd29ec5f2f086673ac42962263d07e02.png\" alt=\"Values logo\" /></a>\\n            </div>\\n            <div class=\\'col-lg-7\\'>\\n              <p class=\\'text-medium-gray text-small padding-10px-top\\'>VALUES.COM<small>\\xc2\\xae</small> is now PassItOn.com<small>\\xc2\\xae</small></p>\\n            </div>\\n          </div>\\n        </div>\\n\\n      </div>\\n    </div>\\n  </div>\\n  <div class=\"container\">\\n    <div class=\"footer-bottom border-top border-color-medium-dark-gray padding-30px-top\">\\n      <div class=\"row\">\\n        <div class=\"col-lg-6 col-md-6 text-small text-md-left text-center\">\\xc2\\xa91999-2022 The Foundation for a Better Life.</div>\\n        <div class=\"col-lg-6 col-md-6 text-small text-md-right text-center\"><a href=\"/privacy-policy\">Privacy Policy</a>&nbsp;&nbsp;&nbsp;|&nbsp;&nbsp;&nbsp;<a href=\"/terms-of-use\">Terms of Use</a></div>\\n      </div>\\n    </div>\\n  </div>\\n</footer>\\n        <a class=\"scroll-top-arrow\" href=\"javascript:void(0);\"><i class=\"ti-arrow-up\"></i></a>\\n        <script src=\"https://cdnjs.cloudflare.com/ajax/libs/jquery/1.12.4/jquery.js\"></script>\\n        <script src=\"https://cdnjs.cloudflare.com/ajax/libs/popper.js/1.14.7/umd/popper.min.js\" integrity=\"sha384-UO2eT0CpHqdSJQ6hJty5KVphtPhzWj9WO1clHTMGa3JDZwrnQq4sF86dIHNDz0W1\" crossorigin=\"anonymous\"></script>\\n        <script src=\"https://stackpath.bootstrapcdn.com/bootstrap/4.3.1/js/bootstrap.min.js\" integrity=\"sha384-JjSmVgyd0p3pXB1rRibZUAYoIIy6OrQ6VrjIEaFf/nJGzIxFDsf4x0xIM+B07jRM\" crossorigin=\"anonymous\"></script>\\n        <script src=\"/assets/pofo-a4dbe385403061795895066fbc319fa2.js\"></script>\\n        \\n        <div id=\"please_like_us_on_facebook\" class=\"zoom-anim-dialog mfp-hide col-xl-6 col-lg-6 col-md-7 col-11 mx-auto bg-white text-center modal-popup-main padding-50px-all\">\\n            <span class=\"text-extra-dark-gray text-uppercase alt-font text-extra-large font-weight-600 margin-15px-bottom d-block\">LIKE US ON FACEBOOK FOR A DAILY DOSE OF POSITIVITY</span>\\n            <iframe src=\"https://www.facebook.com/plugins/like.php?href=https%3A%2F%2Fwww.facebook.com%2Fvaluescom&width=450&layout=standard&action=like&size=large&share=true&height=45&appId\" width=\"450\" height=\"45\" style=\"border:none;overflow:hidden;font-size:1.4rem;\" scrolling=\"no\" frameborder=\"0\" allowfullscreen=\"true\" allow=\"autoplay; clipboard-write; encrypted-media; picture-in-picture; web-share\"></iframe>\\n            <p class=\"padding-20px-all font-weight-600\">Click the like button above to access our facebook page, then \\xe2\\x80\\x98like us\\xe2\\x80\\x99 to get a dose of positivity in your feed.</p>\\n            <a class=\"text-small alt-font popup-modal-dismiss text-decoration-underline\" href=\"#\">No thanks</a>\\n        </div>\\n    </body>\\n</html>\\n'"
      ]
     },
     "execution_count": 96,
     "metadata": {},
     "output_type": "execute_result"
    }
   ],
   "source": [
    "response.content"
   ]
  },
  {
   "cell_type": "code",
   "execution_count": 97,
   "id": "132d54c4",
   "metadata": {},
   "outputs": [],
   "source": [
    "# html parser\n",
    "soup = bs4.BeautifulSoup(response.content)"
   ]
  },
  {
   "cell_type": "code",
   "execution_count": 98,
   "id": "8ea00a3f",
   "metadata": {},
   "outputs": [],
   "source": [
    "article_element = soup.findAll('article')"
   ]
  },
  {
   "cell_type": "code",
   "execution_count": 99,
   "id": "7f35fe7b",
   "metadata": {},
   "outputs": [
    {
     "ename": "TypeError",
     "evalue": "'ResultSet' object is not callable",
     "output_type": "error",
     "traceback": [
      "\u001b[1;31m---------------------------------------------------------------------------\u001b[0m",
      "\u001b[1;31mTypeError\u001b[0m                                 Traceback (most recent call last)",
      "Input \u001b[1;32mIn [99]\u001b[0m, in \u001b[0;36m<cell line: 1>\u001b[1;34m()\u001b[0m\n\u001b[1;32m----> 1\u001b[0m \u001b[43marticle_element\u001b[49m\u001b[43m(\u001b[49m\u001b[38;5;241;43m0\u001b[39;49m\u001b[43m)\u001b[49m\n",
      "\u001b[1;31mTypeError\u001b[0m: 'ResultSet' object is not callable"
     ]
    }
   ],
   "source": [
    "article_element(0)"
   ]
  },
  {
   "cell_type": "code",
   "execution_count": 101,
   "id": "799b30c8",
   "metadata": {},
   "outputs": [
    {
     "ename": "TypeError",
     "evalue": "'ResultSet' object is not callable",
     "output_type": "error",
     "traceback": [
      "\u001b[1;31m---------------------------------------------------------------------------\u001b[0m",
      "\u001b[1;31mTypeError\u001b[0m                                 Traceback (most recent call last)",
      "Input \u001b[1;32mIn [101]\u001b[0m, in \u001b[0;36m<cell line: 1>\u001b[1;34m()\u001b[0m\n\u001b[1;32m----> 1\u001b[0m article \u001b[38;5;241m=\u001b[39m \u001b[43marticle_element\u001b[49m\u001b[43m(\u001b[49m\u001b[38;5;241;43m0\u001b[39;49m\u001b[43m)\u001b[49m\n",
      "\u001b[1;31mTypeError\u001b[0m: 'ResultSet' object is not callable"
     ]
    }
   ],
   "source": [
    "article = article_element(0)"
   ]
  },
  {
   "cell_type": "code",
   "execution_count": null,
   "id": "87e570d9",
   "metadata": {},
   "outputs": [],
   "source": []
  },
  {
   "cell_type": "code",
   "execution_count": null,
   "id": "75e8ceb0",
   "metadata": {},
   "outputs": [],
   "source": []
  },
  {
   "cell_type": "code",
   "execution_count": null,
   "id": "2cd1375e",
   "metadata": {},
   "outputs": [],
   "source": []
  }
 ],
 "metadata": {
  "kernelspec": {
   "display_name": "Python 3 (ipykernel)",
   "language": "python",
   "name": "python3"
  },
  "language_info": {
   "codemirror_mode": {
    "name": "ipython",
    "version": 3
   },
   "file_extension": ".py",
   "mimetype": "text/x-python",
   "name": "python",
   "nbconvert_exporter": "python",
   "pygments_lexer": "ipython3",
   "version": "3.10.5"
  }
 },
 "nbformat": 4,
 "nbformat_minor": 5
}

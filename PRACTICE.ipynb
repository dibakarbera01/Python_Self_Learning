{
 "cells": [
  {
   "cell_type": "raw",
   "id": "9894ce87",
   "metadata": {},
   "source": [
    "# shift + enter for run\n",
    "# esc then 2 times d\n"
   ]
  },
  {
   "cell_type": "code",
   "execution_count": 2,
   "id": "0b2836b2",
   "metadata": {},
   "outputs": [
    {
     "name": "stdout",
     "output_type": "stream",
     "text": [
      "aupam\n"
     ]
    }
   ],
   "source": [
    "print(\"aupam\")"
   ]
  },
  {
   "cell_type": "code",
   "execution_count": 3,
   "id": "bcfb04fc",
   "metadata": {},
   "outputs": [
    {
     "name": "stdout",
     "output_type": "stream",
     "text": [
      "anupam\n"
     ]
    }
   ],
   "source": [
    "print('anupam')"
   ]
  },
  {
   "cell_type": "code",
   "execution_count": 4,
   "id": "7eae04d2",
   "metadata": {},
   "outputs": [],
   "source": [
    "name=\"xyz\""
   ]
  },
  {
   "cell_type": "code",
   "execution_count": 5,
   "id": "7aa52d56",
   "metadata": {},
   "outputs": [
    {
     "ename": "TypeError",
     "evalue": "'str' object does not support item assignment",
     "output_type": "error",
     "traceback": [
      "\u001b[1;31m---------------------------------------------------------------------------\u001b[0m",
      "\u001b[1;31mTypeError\u001b[0m                                 Traceback (most recent call last)",
      "Input \u001b[1;32mIn [5]\u001b[0m, in \u001b[0;36m<cell line: 1>\u001b[1;34m()\u001b[0m\n\u001b[1;32m----> 1\u001b[0m name[\u001b[38;5;241m0\u001b[39m]\u001b[38;5;241m=\u001b[39m\u001b[38;5;124m\"\u001b[39m\u001b[38;5;124ma\u001b[39m\u001b[38;5;124m\"\u001b[39m\n",
      "\u001b[1;31mTypeError\u001b[0m: 'str' object does not support item assignment"
     ]
    }
   ],
   "source": [
    "name[0]=\"a\""
   ]
  },
  {
   "cell_type": "code",
   "execution_count": 7,
   "id": "916032ed",
   "metadata": {},
   "outputs": [
    {
     "data": {
      "text/plain": [
       "'ayz'"
      ]
     },
     "execution_count": 7,
     "metadata": {},
     "output_type": "execute_result"
    }
   ],
   "source": [
    "name.replace(\"x\",\"a\")"
   ]
  },
  {
   "cell_type": "code",
   "execution_count": 15,
   "id": "a8212fc1",
   "metadata": {},
   "outputs": [],
   "source": [
    "a=7\n"
   ]
  },
  {
   "cell_type": "code",
   "execution_count": 16,
   "id": "eb7600ea",
   "metadata": {},
   "outputs": [
    {
     "data": {
      "text/plain": [
       "int"
      ]
     },
     "execution_count": 16,
     "metadata": {},
     "output_type": "execute_result"
    }
   ],
   "source": [
    "type(a)"
   ]
  },
  {
   "cell_type": "code",
   "execution_count": 17,
   "id": "eac55ef9",
   "metadata": {},
   "outputs": [],
   "source": [
    "a=3.5"
   ]
  },
  {
   "cell_type": "code",
   "execution_count": 18,
   "id": "e39b3183",
   "metadata": {},
   "outputs": [
    {
     "data": {
      "text/plain": [
       "float"
      ]
     },
     "execution_count": 18,
     "metadata": {},
     "output_type": "execute_result"
    }
   ],
   "source": [
    "type(a)"
   ]
  },
  {
   "cell_type": "code",
   "execution_count": 19,
   "id": "4c567e55",
   "metadata": {},
   "outputs": [],
   "source": [
    "x=9"
   ]
  },
  {
   "cell_type": "code",
   "execution_count": 20,
   "id": "045cd01b",
   "metadata": {},
   "outputs": [],
   "source": [
    "y=10"
   ]
  },
  {
   "cell_type": "code",
   "execution_count": 31,
   "id": "89935216",
   "metadata": {},
   "outputs": [],
   "source": [
    "\n",
    "a=x%y"
   ]
  },
  {
   "cell_type": "code",
   "execution_count": 32,
   "id": "6b30b96e",
   "metadata": {
    "scrolled": true
   },
   "outputs": [
    {
     "name": "stdout",
     "output_type": "stream",
     "text": [
      "9\n"
     ]
    }
   ],
   "source": [
    "print(a)"
   ]
  },
  {
   "cell_type": "code",
   "execution_count": 19,
   "id": "dd5c3239",
   "metadata": {},
   "outputs": [
    {
     "name": "stdout",
     "output_type": "stream",
     "text": [
      "study \n"
     ]
    }
   ],
   "source": [
    "string=' I study Python '\n",
    "print(string[3:9])"
   ]
  },
  {
   "cell_type": "code",
   "execution_count": 28,
   "id": "175aff90",
   "metadata": {},
   "outputs": [
    {
     "data": {
      "text/plain": [
       "True"
      ]
     },
     "execution_count": 28,
     "metadata": {},
     "output_type": "execute_result"
    }
   ],
   "source": [
    "'123'.isdigit()\n",
    "\n"
   ]
  },
  {
   "cell_type": "code",
   "execution_count": 4,
   "id": "df9181a6",
   "metadata": {},
   "outputs": [],
   "source": [
    "# open cv testing\n",
    "\n",
    "\n",
    "import cv2\n",
    "\n",
    "img = cv2.imread(\"image/logo.png\")\n",
    "gray = cv2.imread('image/logo.png',cv2.IMREAD_GRAYSCALE)\n",
    "\n",
    "\n",
    "cv2.imshow('image',img)\n",
    "cv2.imshow('gray',gray)\n",
    " \n",
    "cv2.waitKey(0)\n",
    "cv2.destroyAllWindows()"
   ]
  },
  {
   "cell_type": "code",
   "execution_count": null,
   "id": "80bc10d8",
   "metadata": {},
   "outputs": [
    {
     "name": "stdout",
     "output_type": "stream",
     "text": [
      "()\n"
     ]
    }
   ],
   "source": [
    "\n",
    "import cv2\n",
    "import numpy as np\n",
    "\n",
    "# init camera\n",
    "cap = cv2.VideoCapture(0)\n",
    "\n",
    "# face detection\n",
    "face_cascade = cv2.CascadeClassifier(cv2.data.haarcascades + 'haarcascade_frontalface_default.xml')\n",
    "\n",
    "skip = 0\n",
    "\n",
    "while True:\n",
    "    ret,frame = cap.read()\n",
    "\n",
    "    if ret==False:\n",
    "        continue\n",
    "\n",
    "    cv2.imshow(\"Frame\",frame)\n",
    "\n",
    "    faces = face_cascade.detectMultiScale(frame,1.3,5)\n",
    "    print(faces)\n",
    "\n",
    "    # story every 1oth face\n",
    "    if(skip%10==0):\n",
    "        #store the 10th face later on\n",
    "        pass\n",
    " \n",
    "    key_pressed = cv2.waitKey(1) & 0xFF\n",
    "    if key_pressed == ord('q'):\n",
    "        break\n",
    "\n",
    "    cap.release()\n",
    "    cv2.destroyAllWindows()\n",
    "\n",
    "    \n"
   ]
  },
  {
   "cell_type": "code",
   "execution_count": null,
   "id": "c427170c",
   "metadata": {},
   "outputs": [],
   "source": []
  }
 ],
 "metadata": {
  "kernelspec": {
   "display_name": "Python 3 (ipykernel)",
   "language": "python",
   "name": "python3"
  },
  "language_info": {
   "codemirror_mode": {
    "name": "ipython",
    "version": 3
   },
   "file_extension": ".py",
   "mimetype": "text/x-python",
   "name": "python",
   "nbconvert_exporter": "python",
   "pygments_lexer": "ipython3",
   "version": "3.10.5"
  }
 },
 "nbformat": 4,
 "nbformat_minor": 5
}

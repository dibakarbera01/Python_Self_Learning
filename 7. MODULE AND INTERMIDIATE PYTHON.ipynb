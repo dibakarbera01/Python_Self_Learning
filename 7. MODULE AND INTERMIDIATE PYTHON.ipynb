{
 "cells": [
  {
   "cell_type": "markdown",
   "id": "7c948e76",
   "metadata": {},
   "source": [
    "# MODULES IN PYTHON\n"
   ]
  },
  {
   "cell_type": "code",
   "execution_count": 1,
   "id": "d2d640a6",
   "metadata": {},
   "outputs": [
    {
     "name": "stdout",
     "output_type": "stream",
     "text": [
      "hello world!\n"
     ]
    }
   ],
   "source": [
    "print(\"hello world!\")"
   ]
  },
  {
   "cell_type": "code",
   "execution_count": 3,
   "id": "638cc4b9",
   "metadata": {},
   "outputs": [],
   "source": [
    "def func():\n",
    "    print(\"Hello\")"
   ]
  },
  {
   "cell_type": "code",
   "execution_count": 4,
   "id": "8441afb1",
   "metadata": {},
   "outputs": [
    {
     "name": "stdout",
     "output_type": "stream",
     "text": [
      "Hello\n"
     ]
    }
   ],
   "source": [
    "func()"
   ]
  },
  {
   "cell_type": "markdown",
   "id": "c3b1617c",
   "metadata": {},
   "source": [
    "# INTERMEDIATE PYTHON"
   ]
  },
  {
   "cell_type": "code",
   "execution_count": 9,
   "id": "f9a35ddd",
   "metadata": {},
   "outputs": [],
   "source": [
    "x = [1,2,3]"
   ]
  },
  {
   "cell_type": "code",
   "execution_count": 10,
   "id": "8745c45b",
   "metadata": {},
   "outputs": [],
   "source": [
    "x_iter = iter(x)"
   ]
  },
  {
   "cell_type": "code",
   "execution_count": 11,
   "id": "4a377200",
   "metadata": {},
   "outputs": [
    {
     "data": {
      "text/plain": [
       "<list_iterator at 0x2ac91ccf520>"
      ]
     },
     "execution_count": 11,
     "metadata": {},
     "output_type": "execute_result"
    }
   ],
   "source": [
    "x_iter"
   ]
  },
  {
   "cell_type": "code",
   "execution_count": 15,
   "id": "da323898",
   "metadata": {},
   "outputs": [
    {
     "ename": "StopIteration",
     "evalue": "",
     "output_type": "error",
     "traceback": [
      "\u001b[1;31m---------------------------------------------------------------------------\u001b[0m",
      "\u001b[1;31mStopIteration\u001b[0m                             Traceback (most recent call last)",
      "Input \u001b[1;32mIn [15]\u001b[0m, in \u001b[0;36m<cell line: 1>\u001b[1;34m()\u001b[0m\n\u001b[1;32m----> 1\u001b[0m \u001b[38;5;28;43mnext\u001b[39;49m\u001b[43m(\u001b[49m\u001b[43mx_iter\u001b[49m\u001b[43m)\u001b[49m\n",
      "\u001b[1;31mStopIteration\u001b[0m: "
     ]
    }
   ],
   "source": [
    "next(x_iter)"
   ]
  },
  {
   "cell_type": "markdown",
   "id": "aa309808",
   "metadata": {},
   "source": [
    "Iteratio protocol in python"
   ]
  },
  {
   "cell_type": "code",
   "execution_count": 42,
   "id": "9731dc8d",
   "metadata": {},
   "outputs": [],
   "source": [
    "class yrange:\n",
    "# n is the number upto which i want the range\n",
    "    def __init__(self, n):\n",
    "        self.i = 0\n",
    "        self.n = n  \n",
    "# this method make our class iterable        \n",
    "    def __iter__(self):\n",
    "        return self\n",
    "# this method should be implemented by the ITERATOR\n",
    "    def __next__(self):\n",
    "        if self.i < self.n:\n",
    "            i = self.i\n",
    "            self.i += 1\n",
    "            return i\n",
    "        else:\n",
    "            raise StopIteration()"
   ]
  },
  {
   "cell_type": "code",
   "execution_count": 43,
   "id": "4d9258b0",
   "metadata": {},
   "outputs": [
    {
     "name": "stdout",
     "output_type": "stream",
     "text": [
      "0\n",
      "1\n",
      "2\n",
      "3\n",
      "4\n"
     ]
    }
   ],
   "source": [
    "for x in yrange(5):\n",
    "    print(x)"
   ]
  },
  {
   "cell_type": "code",
   "execution_count": 44,
   "id": "a4dc9759",
   "metadata": {},
   "outputs": [],
   "source": [
    "y = yrange(5)"
   ]
  },
  {
   "cell_type": "code",
   "execution_count": 45,
   "id": "816e80dd",
   "metadata": {},
   "outputs": [
    {
     "data": {
      "text/plain": [
       "[0, 1, 2, 3, 4]"
      ]
     },
     "execution_count": 45,
     "metadata": {},
     "output_type": "execute_result"
    }
   ],
   "source": [
    "list(y)"
   ]
  },
  {
   "cell_type": "code",
   "execution_count": 46,
   "id": "b617a4ac",
   "metadata": {},
   "outputs": [
    {
     "data": {
      "text/plain": [
       "[]"
      ]
     },
     "execution_count": 46,
     "metadata": {},
     "output_type": "execute_result"
    }
   ],
   "source": [
    "list(y)"
   ]
  },
  {
   "cell_type": "code",
   "execution_count": 27,
   "id": "8259f7bb",
   "metadata": {},
   "outputs": [],
   "source": [
    "y_iter = iter(y)"
   ]
  },
  {
   "cell_type": "code",
   "execution_count": 28,
   "id": "8c8b951a",
   "metadata": {},
   "outputs": [
    {
     "data": {
      "text/plain": [
       "<__main__.yrange at 0x2ac90a06890>"
      ]
     },
     "execution_count": 28,
     "metadata": {},
     "output_type": "execute_result"
    }
   ],
   "source": [
    "y_iter"
   ]
  },
  {
   "cell_type": "code",
   "execution_count": 34,
   "id": "97ef3b38",
   "metadata": {},
   "outputs": [
    {
     "ename": "StopIteration",
     "evalue": "",
     "output_type": "error",
     "traceback": [
      "\u001b[1;31m---------------------------------------------------------------------------\u001b[0m",
      "\u001b[1;31mStopIteration\u001b[0m                             Traceback (most recent call last)",
      "Input \u001b[1;32mIn [34]\u001b[0m, in \u001b[0;36m<cell line: 1>\u001b[1;34m()\u001b[0m\n\u001b[1;32m----> 1\u001b[0m \u001b[38;5;28;43mnext\u001b[39;49m\u001b[43m(\u001b[49m\u001b[43my_iter\u001b[49m\u001b[43m)\u001b[49m\n",
      "Input \u001b[1;32mIn [23]\u001b[0m, in \u001b[0;36myrange.__next__\u001b[1;34m(self)\u001b[0m\n\u001b[0;32m     14\u001b[0m     \u001b[38;5;28;01mreturn\u001b[39;00m i\n\u001b[0;32m     15\u001b[0m \u001b[38;5;28;01melse\u001b[39;00m:\n\u001b[1;32m---> 16\u001b[0m     \u001b[38;5;28;01mraise\u001b[39;00m \u001b[38;5;167;01mStopIteration\u001b[39;00m()\n",
      "\u001b[1;31mStopIteration\u001b[0m: "
     ]
    }
   ],
   "source": [
    "next(y_iter)"
   ]
  },
  {
   "cell_type": "code",
   "execution_count": 39,
   "id": "8d0cb980",
   "metadata": {},
   "outputs": [],
   "source": [
    "# this is an iterable class\n",
    "\n",
    "class zrange:\n",
    "    def __init__(self, n):\n",
    "        self.n = n\n",
    "    def __iter__(self):\n",
    "        return zrange_iter(self.n)\n",
    "class zrange_iter:\n",
    "    def __init__(self, n):\n",
    "        self.i = 0\n",
    "        self.n = n\n",
    "    def __iter__(self):\n",
    "        return self\n",
    "    def __next__(self):\n",
    "        if self.i < self.n:\n",
    "            i = self.i\n",
    "            self.i += 1\n",
    "            return i\n",
    "        else:\n",
    "            raise StopIteration()"
   ]
  },
  {
   "cell_type": "code",
   "execution_count": 40,
   "id": "230a19b9",
   "metadata": {},
   "outputs": [
    {
     "name": "stdout",
     "output_type": "stream",
     "text": [
      "0\n",
      "1\n",
      "4\n",
      "9\n",
      "16\n"
     ]
    }
   ],
   "source": [
    "for x in zrange(5):\n",
    "    print(x**2)"
   ]
  },
  {
   "cell_type": "markdown",
   "id": "f2ed4792",
   "metadata": {},
   "source": [
    "Iterator and generator"
   ]
  },
  {
   "cell_type": "code",
   "execution_count": 47,
   "id": "140039b3",
   "metadata": {},
   "outputs": [
    {
     "name": "stdout",
     "output_type": "stream",
     "text": [
      "1\n",
      "4\n",
      "9\n",
      "16\n"
     ]
    }
   ],
   "source": [
    "a = [1,2,3,4]\n",
    "for x in a:\n",
    "#  perfrom some task on each element\n",
    "    print(x**2)"
   ]
  },
  {
   "cell_type": "code",
   "execution_count": 67,
   "id": "f644a54b",
   "metadata": {},
   "outputs": [
    {
     "name": "stdout",
     "output_type": "stream",
     "text": [
      "d\n",
      "i\n",
      "b\n",
      "a\n",
      "k\n",
      "a\n",
      "r\n"
     ]
    }
   ],
   "source": [
    "name = \"dibakar\"\n",
    "for char in name:\n",
    "    print(char)"
   ]
  },
  {
   "cell_type": "code",
   "execution_count": 68,
   "id": "d43ffed5",
   "metadata": {},
   "outputs": [
    {
     "name": "stdout",
     "output_type": "stream",
     "text": [
      "name\n",
      "last_name\n",
      "marks\n"
     ]
    }
   ],
   "source": [
    "d = {'name':'dibakar', 'last_name':'bera', 'marks': 80}\n",
    "\n",
    "for x in d:\n",
    "    print(x)"
   ]
  },
  {
   "cell_type": "code",
   "execution_count": 69,
   "id": "90c8e650",
   "metadata": {},
   "outputs": [
    {
     "name": "stdout",
     "output_type": "stream",
     "text": [
      "hello\n",
      "\n",
      "my name is dibakar\n"
     ]
    }
   ],
   "source": [
    "for line in open(\"something.txt\", \"r\"):\n",
    "    print(line)"
   ]
  },
  {
   "cell_type": "code",
   "execution_count": 70,
   "id": "fa3c77fb",
   "metadata": {},
   "outputs": [
    {
     "data": {
      "text/plain": [
       "'a.b.c'"
      ]
     },
     "execution_count": 70,
     "metadata": {},
     "output_type": "execute_result"
    }
   ],
   "source": [
    "\".\".join([\"a\",\"b\",\"c\"])"
   ]
  },
  {
   "cell_type": "code",
   "execution_count": 71,
   "id": "8b6806ec",
   "metadata": {},
   "outputs": [
    {
     "data": {
      "text/plain": [
       "'name.last_name.marks'"
      ]
     },
     "execution_count": 71,
     "metadata": {},
     "output_type": "execute_result"
    }
   ],
   "source": [
    "\".\".join(d)"
   ]
  },
  {
   "cell_type": "code",
   "execution_count": 74,
   "id": "a5d22f91",
   "metadata": {},
   "outputs": [],
   "source": [
    "a = list(\"dibakar\")"
   ]
  },
  {
   "cell_type": "code",
   "execution_count": 75,
   "id": "fefe89ce",
   "metadata": {},
   "outputs": [
    {
     "data": {
      "text/plain": [
       "['d', 'i', 'b', 'a', 'k', 'a', 'r']"
      ]
     },
     "execution_count": 75,
     "metadata": {},
     "output_type": "execute_result"
    }
   ],
   "source": [
    "a"
   ]
  },
  {
   "cell_type": "code",
   "execution_count": 76,
   "id": "2efc3082",
   "metadata": {},
   "outputs": [],
   "source": [
    "a = [1,2,3,4]"
   ]
  },
  {
   "cell_type": "code",
   "execution_count": 81,
   "id": "cd354a39",
   "metadata": {},
   "outputs": [
    {
     "data": {
      "text/plain": [
       "10"
      ]
     },
     "execution_count": 81,
     "metadata": {},
     "output_type": "execute_result"
    }
   ],
   "source": [
    "sum(a)"
   ]
  },
  {
   "cell_type": "code",
   "execution_count": 79,
   "id": "f0a8a399",
   "metadata": {},
   "outputs": [],
   "source": [
    "b = {1: 'dibakar', 2:'bera', 3:'coding blocks'}"
   ]
  },
  {
   "cell_type": "code",
   "execution_count": 80,
   "id": "ed4f78a0",
   "metadata": {},
   "outputs": [
    {
     "data": {
      "text/plain": [
       "6"
      ]
     },
     "execution_count": 80,
     "metadata": {},
     "output_type": "execute_result"
    }
   ],
   "source": [
    "sum(b)"
   ]
  },
  {
   "cell_type": "markdown",
   "id": "ce4ac4c4",
   "metadata": {},
   "source": [
    "Generators"
   ]
  },
  {
   "cell_type": "code",
   "execution_count": null,
   "id": "cb6ccaee",
   "metadata": {},
   "outputs": [],
   "source": []
  },
  {
   "cell_type": "code",
   "execution_count": 89,
   "id": "0ba3e30f",
   "metadata": {},
   "outputs": [],
   "source": [
    "class fib:\n",
    "    def __init__(self):\n",
    "        self.prev = 0\n",
    "        self.curr = 1\n",
    "        \n",
    "    def __iter__(self):   \n",
    "# this class is also an iterator\n",
    "        return self\n",
    "    def __next__(self):\n",
    "        value = self.curr\n",
    "        self.curr += self.prev\n",
    "        self.prev = value\n",
    "        return value"
   ]
  },
  {
   "cell_type": "code",
   "execution_count": 90,
   "id": "a3eaf2dd",
   "metadata": {},
   "outputs": [],
   "source": [
    "f = iter(fib())"
   ]
  },
  {
   "cell_type": "code",
   "execution_count": 94,
   "id": "0e4e452f",
   "metadata": {},
   "outputs": [
    {
     "data": {
      "text/plain": [
       "3"
      ]
     },
     "execution_count": 94,
     "metadata": {},
     "output_type": "execute_result"
    }
   ],
   "source": [
    "next(f)"
   ]
  },
  {
   "cell_type": "code",
   "execution_count": 95,
   "id": "65e56534",
   "metadata": {},
   "outputs": [],
   "source": [
    "# generator function\n",
    "def fib():\n",
    "    prev, curr = 0,1\n",
    "    yield curr\n",
    "    prev, curr = curr, prev + curr"
   ]
  },
  {
   "cell_type": "code",
   "execution_count": 96,
   "id": "7d1c55a7",
   "metadata": {},
   "outputs": [],
   "source": [
    "gen = fib()"
   ]
  },
  {
   "cell_type": "code",
   "execution_count": 97,
   "id": "420c5a23",
   "metadata": {},
   "outputs": [
    {
     "data": {
      "text/plain": [
       "1"
      ]
     },
     "execution_count": 97,
     "metadata": {},
     "output_type": "execute_result"
    }
   ],
   "source": [
    "next(gen)"
   ]
  },
  {
   "cell_type": "markdown",
   "id": "77252c5b",
   "metadata": {},
   "source": [
    "Generator Expression"
   ]
  },
  {
   "cell_type": "code",
   "execution_count": 106,
   "id": "a397cf0b",
   "metadata": {},
   "outputs": [],
   "source": [
    "gen = (x**2 for x in range(1,11))"
   ]
  },
  {
   "cell_type": "code",
   "execution_count": 118,
   "id": "0d52f547",
   "metadata": {},
   "outputs": [
    {
     "ename": "StopIteration",
     "evalue": "",
     "output_type": "error",
     "traceback": [
      "\u001b[1;31m---------------------------------------------------------------------------\u001b[0m",
      "\u001b[1;31mStopIteration\u001b[0m                             Traceback (most recent call last)",
      "Input \u001b[1;32mIn [118]\u001b[0m, in \u001b[0;36m<cell line: 1>\u001b[1;34m()\u001b[0m\n\u001b[1;32m----> 1\u001b[0m \u001b[38;5;28;43mnext\u001b[39;49m\u001b[43m(\u001b[49m\u001b[43ma\u001b[49m\u001b[43m)\u001b[49m\n",
      "\u001b[1;31mStopIteration\u001b[0m: "
     ]
    }
   ],
   "source": [
    "next(a)"
   ]
  },
  {
   "cell_type": "code",
   "execution_count": null,
   "id": "97b8e026",
   "metadata": {},
   "outputs": [],
   "source": []
  },
  {
   "cell_type": "code",
   "execution_count": null,
   "id": "5c953ed3",
   "metadata": {},
   "outputs": [],
   "source": []
  }
 ],
 "metadata": {
  "kernelspec": {
   "display_name": "Python 3 (ipykernel)",
   "language": "python",
   "name": "python3"
  },
  "language_info": {
   "codemirror_mode": {
    "name": "ipython",
    "version": 3
   },
   "file_extension": ".py",
   "mimetype": "text/x-python",
   "name": "python",
   "nbconvert_exporter": "python",
   "pygments_lexer": "ipython3",
   "version": "3.10.5"
  }
 },
 "nbformat": 4,
 "nbformat_minor": 5
}

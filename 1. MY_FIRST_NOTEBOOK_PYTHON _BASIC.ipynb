{
 "cells": [
  {
   "cell_type": "markdown",
   "id": "8ac3fc18",
   "metadata": {},
   "source": [
    "# PYTHON START"
   ]
  },
  {
   "cell_type": "markdown",
   "id": "b973e2bb",
   "metadata": {},
   "source": [
    "PYTHON BASIC PROGRAMME AND BASIC THINGS"
   ]
  },
  {
   "cell_type": "code",
   "execution_count": 1,
   "id": "05b4a2d7",
   "metadata": {},
   "outputs": [
    {
     "name": "stdout",
     "output_type": "stream",
     "text": [
      "hello\n"
     ]
    }
   ],
   "source": [
    "print(\"hello\")\n",
    "# for delete a shell:- esc,D 2 times"
   ]
  },
  {
   "cell_type": "code",
   "execution_count": 1,
   "id": "147c1f5d",
   "metadata": {},
   "outputs": [
    {
     "name": "stdout",
     "output_type": "stream",
     "text": [
      "hello\n"
     ]
    }
   ],
   "source": [
    "print(\"hello\")\n",
    "# for delete a shell:- esc,D 2 times"
   ]
  },
  {
   "cell_type": "code",
   "execution_count": 2,
   "id": "d80e052e",
   "metadata": {},
   "outputs": [
    {
     "name": "stdout",
     "output_type": "stream",
     "text": [
      "15\n"
     ]
    }
   ],
   "source": [
    "a=5\n",
    "b=10\n",
    "print(a+b)"
   ]
  },
  {
   "cell_type": "markdown",
   "id": "dd9a2fd3",
   "metadata": {},
   "source": [
    "## hello world\n",
    "this is markdown cell\n",
    "shortcut:- press Esc,M,SHIFT ENTER"
   ]
  },
  {
   "cell_type": "code",
   "execution_count": 3,
   "id": "357d8f78",
   "metadata": {},
   "outputs": [
    {
     "name": "stdout",
     "output_type": "stream",
     "text": [
      "hi\n"
     ]
    }
   ],
   "source": [
    "print(\"hi\")\n",
    "#esc, y, shift entetr"
   ]
  },
  {
   "cell_type": "code",
   "execution_count": 1,
   "id": "9bf87006",
   "metadata": {},
   "outputs": [
    {
     "name": "stdout",
     "output_type": "stream",
     "text": [
      "hello world\n"
     ]
    }
   ],
   "source": [
    "'''this is testing'''\n",
    "print(\"hello world\")"
   ]
  },
  {
   "cell_type": "markdown",
   "id": "a1db4e47",
   "metadata": {},
   "source": [
    "# PYTHON BASICS"
   ]
  },
  {
   "cell_type": "raw",
   "id": "fcd8e1a5",
   "metadata": {},
   "source": [
    "RUN ON INTERACTIVE SHELL\n",
    "RUN AS PYTHON SCRIPT"
   ]
  },
  {
   "cell_type": "code",
   "execution_count": 3,
   "id": "f4db4131",
   "metadata": {},
   "outputs": [
    {
     "name": "stdout",
     "output_type": "stream",
     "text": [
      "hello world\n"
     ]
    }
   ],
   "source": [
    "print(\"hello world\")"
   ]
  },
  {
   "cell_type": "markdown",
   "id": "31ee8cbc",
   "metadata": {},
   "source": [
    "# PUTTING COMMENTS IS IMPORTANT IN CODE TO UNDERSTAND EASILY\n"
   ]
  },
  {
   "cell_type": "raw",
   "id": "1b1f91a8",
   "metadata": {},
   "source": [
    "# Literal Constant\n",
    "NUMBERS\n",
    "   INTEGERS\n",
    "   FLOATS\n",
    "STRING\n",
    "   SINGLE QUOTES\n",
    "   DOUBLE QUOTES\n",
    "   TRIPLE QUOTES\n",
    "   ESCAPE SEQUENCE\n",
    "   EXPLICIT LINE JOINING "
   ]
  },
  {
   "cell_type": "code",
   "execution_count": 4,
   "id": "920c0ee9",
   "metadata": {},
   "outputs": [],
   "source": [
    "a=5"
   ]
  },
  {
   "cell_type": "code",
   "execution_count": 5,
   "id": "bba2d19a",
   "metadata": {},
   "outputs": [
    {
     "name": "stdout",
     "output_type": "stream",
     "text": [
      "5\n"
     ]
    }
   ],
   "source": [
    "print(a)"
   ]
  },
  {
   "cell_type": "code",
   "execution_count": 6,
   "id": "025fb8bf",
   "metadata": {},
   "outputs": [
    {
     "data": {
      "text/plain": [
       "int"
      ]
     },
     "execution_count": 6,
     "metadata": {},
     "output_type": "execute_result"
    }
   ],
   "source": [
    "type(a)"
   ]
  },
  {
   "cell_type": "code",
   "execution_count": 7,
   "id": "30f6f7f6",
   "metadata": {},
   "outputs": [
    {
     "data": {
      "text/plain": [
       "float"
      ]
     },
     "execution_count": 7,
     "metadata": {},
     "output_type": "execute_result"
    }
   ],
   "source": [
    "a=1.5\n",
    "type(a)"
   ]
  },
  {
   "cell_type": "code",
   "execution_count": 10,
   "id": "8655fd60",
   "metadata": {},
   "outputs": [
    {
     "data": {
      "text/plain": [
       "complex"
      ]
     },
     "execution_count": 10,
     "metadata": {},
     "output_type": "execute_result"
    }
   ],
   "source": [
    "a=1+5j\n",
    "type(a)\n"
   ]
  },
  {
   "cell_type": "code",
   "execution_count": 12,
   "id": "09a87186",
   "metadata": {},
   "outputs": [
    {
     "data": {
      "text/plain": [
       "str"
      ]
     },
     "execution_count": 12,
     "metadata": {},
     "output_type": "execute_result"
    }
   ],
   "source": [
    "a='dibakar'\n",
    "type(a)"
   ]
  },
  {
   "cell_type": "code",
   "execution_count": 13,
   "id": "de48bad8",
   "metadata": {},
   "outputs": [
    {
     "name": "stdout",
     "output_type": "stream",
     "text": [
      "python\n",
      "coding blocks\n",
      "\n",
      "this is also a multiline string\n",
      "\n",
      "dibakar\n"
     ]
    }
   ],
   "source": [
    "a=\"python\"\n",
    "print(a)\n",
    "a='coding blocks'\n",
    "print(a)\n",
    "a='''\n",
    "this is also a multiline string\n",
    "'''\n",
    "print(a)\n",
    "a=\"\"\"dibakar\"\"\"\n",
    "print(a)"
   ]
  },
  {
   "cell_type": "markdown",
   "id": "6aebad3a",
   "metadata": {},
   "source": [
    "# Variables,Datatypes and Operatrors\n"
   ]
  },
  {
   "cell_type": "raw",
   "id": "00bf0812",
   "metadata": {},
   "source": [
    "A type of identifier\n",
    "Rules for naming identifiers\n",
    "  The first character of the identifier must be a letter of the alphabet (uppercase ASCII or lowercase ASCII \n",
    "  or unicode character) or an underscore(_).\n",
    "  The rest of the identifier name can consist of letters ( uppercase ASCII or lowercase ASCII or unicode character),\n",
    "  underscore (_) and digit(0-9).\n",
    "  Identifier names are case-sensitive ,For Example myname and myNAME are not same. Note the lower case n in the former and the uppercase N in the latter."
   ]
  },
  {
   "cell_type": "markdown",
   "id": "2d1b3a3c",
   "metadata": {},
   "source": [
    "# Arithmetic Operation(+,-,*,/,//,%)"
   ]
  },
  {
   "cell_type": "code",
   "execution_count": 15,
   "id": "b4a79297",
   "metadata": {},
   "outputs": [
    {
     "name": "stdout",
     "output_type": "stream",
     "text": [
      "31\n",
      "-11\n",
      "210\n",
      "0.4762\n",
      "0\n",
      "1000000000000000000000\n",
      "1\n"
     ]
    }
   ],
   "source": [
    "a=10\n",
    "b=21\n",
    "\n",
    "print(a+b)\n",
    "print(a-b)\n",
    "print(a*b)\n",
    "print(\"%0.4f\"%(a/b))\n",
    "print(a//b)\n",
    "#exponent/power function\n",
    "print(a**b)\n",
    "print(b%a)"
   ]
  },
  {
   "cell_type": "markdown",
   "id": "13c8ae11",
   "metadata": {},
   "source": [
    "# MULTI VARIABLE ASSIGNMENT"
   ]
  },
  {
   "cell_type": "code",
   "execution_count": 18,
   "id": "a6f6afd1",
   "metadata": {},
   "outputs": [],
   "source": [
    "a,b,c=10,20,30.34"
   ]
  },
  {
   "cell_type": "code",
   "execution_count": 19,
   "id": "c7122af2",
   "metadata": {},
   "outputs": [
    {
     "name": "stdout",
     "output_type": "stream",
     "text": [
      "10 20 30.34\n"
     ]
    }
   ],
   "source": [
    "print(a,b,c)"
   ]
  },
  {
   "cell_type": "markdown",
   "id": "bffdf0c1",
   "metadata": {},
   "source": [
    "# CONTROL FLOW STATEMENTS\n"
   ]
  },
  {
   "cell_type": "markdown",
   "id": "b53bb73e",
   "metadata": {},
   "source": [
    "1. conditional statement"
   ]
  },
  {
   "cell_type": "raw",
   "id": "c60cd0ed",
   "metadata": {},
   "source": [
    "if\n",
    "else\n",
    "elif\n",
    "\n",
    "   if a:\n",
    "       do this\n",
    "   elif b:\n",
    "       do that\n",
    "   else:\n",
    "      whatever\n",
    "\n"
   ]
  },
  {
   "cell_type": "code",
   "execution_count": 24,
   "id": "410a2e66",
   "metadata": {},
   "outputs": [
    {
     "name": "stdout",
     "output_type": "stream",
     "text": [
      "positive\n"
     ]
    }
   ],
   "source": [
    "a = 10\n",
    "if a>0 :\n",
    "    print(\"positive\")"
   ]
  },
  {
   "cell_type": "code",
   "execution_count": 26,
   "id": "f2d35dc5",
   "metadata": {},
   "outputs": [
    {
     "name": "stdout",
     "output_type": "stream",
     "text": [
      "negative\n"
     ]
    }
   ],
   "source": [
    "a = -10\n",
    "if a>0:\n",
    "    print(\"positive\")\n",
    "else:\n",
    "    print(\"negative\")"
   ]
  },
  {
   "cell_type": "code",
   "execution_count": 28,
   "id": "d078d58a",
   "metadata": {},
   "outputs": [
    {
     "name": "stdout",
     "output_type": "stream",
     "text": [
      "zero\n"
     ]
    }
   ],
   "source": [
    "a = 0\n",
    "if a>0:\n",
    "    print(\"positive\")\n",
    "elif a==0:\n",
    "    print(\"zero\")\n",
    "else:\n",
    "    print(\"negative\")\n"
   ]
  },
  {
   "cell_type": "raw",
   "id": "5c59d849",
   "metadata": {},
   "source": [
    "Idenatation Rule:\n",
    "           if i have a statement associated with code basically to define the part of code \n",
    "           to easily detect the code\n",
    "           2 spaces // basically this use everywhere\n",
    "           4 spaces\n",
    "           1 tab "
   ]
  },
  {
   "cell_type": "raw",
   "id": "f6c6d8f5",
   "metadata": {},
   "source": [
    "write a python program input an integer from user and print:\n",
    "    -1 if integer is positive\n",
    "    0 if  integer is zero.\n",
    "    1 if ineger is positive.\n",
    "    code:-\n",
    "    if x<0:\n",
    "        sign=-1\n",
    "   elif x==0:\n",
    "        sign=0\n",
    "    else:\n",
    "      sign=1"
   ]
  },
  {
   "cell_type": "markdown",
   "id": "55fe09c3",
   "metadata": {},
   "source": [
    "# LOOPING STATEMENT"
   ]
  },
  {
   "cell_type": "raw",
   "id": "3d85417a",
   "metadata": {},
   "source": [
    "WHILE\n",
    "    The whilw statement allows you to repeatedly execute a block of statement as long as a condition is true."
   ]
  },
  {
   "cell_type": "code",
   "execution_count": 32,
   "id": "dc17c4a5",
   "metadata": {},
   "outputs": [
    {
     "name": "stdout",
     "output_type": "stream",
     "text": [
      "10\n",
      "9\n",
      "8\n",
      "7\n",
      "6\n",
      "5\n",
      "4\n",
      "3\n",
      "2\n",
      "1\n"
     ]
    }
   ],
   "source": [
    "a=10\n",
    "while a>0:\n",
    "    print(a)\n",
    "    a -=1"
   ]
  },
  {
   "cell_type": "raw",
   "id": "7b81c550",
   "metadata": {},
   "source": [
    "FOR\n",
    "   The for..in statement is another looping statement which iterates over a sequence of objects \n",
    "    i.e, go through each item in a sequence."
   ]
  },
  {
   "cell_type": "code",
   "execution_count": 33,
   "id": "0b165031",
   "metadata": {},
   "outputs": [
    {
     "name": "stdout",
     "output_type": "stream",
     "text": [
      "p\n",
      "y\n",
      "t\n",
      "h\n",
      "o\n",
      "n\n"
     ]
    }
   ],
   "source": [
    "for i in \"python\":\n",
    "    print(i)"
   ]
  },
  {
   "cell_type": "code",
   "execution_count": 34,
   "id": "e4742b97",
   "metadata": {},
   "outputs": [
    {
     "name": "stdout",
     "output_type": "stream",
     "text": [
      "0\n",
      "1\n",
      "2\n",
      "3\n",
      "4\n"
     ]
    }
   ],
   "source": [
    "for i in range(5):\n",
    "    print(i)"
   ]
  },
  {
   "cell_type": "code",
   "execution_count": 35,
   "id": "ef69d9b5",
   "metadata": {},
   "outputs": [
    {
     "name": "stdout",
     "output_type": "stream",
     "text": [
      "2\n",
      "3\n",
      "4\n",
      "5\n",
      "6\n",
      "7\n",
      "8\n",
      "9\n"
     ]
    }
   ],
   "source": [
    "for i in range(2,10):\n",
    "    print(i)"
   ]
  },
  {
   "cell_type": "markdown",
   "id": "8f1346fb",
   "metadata": {},
   "source": [
    "# `OPERATORS AND EXPRESSIONS"
   ]
  },
  {
   "cell_type": "raw",
   "id": "6b432b81",
   "metadata": {},
   "source": [
    "Expressions:-\n",
    "           combination of operators and operands"
   ]
  },
  {
   "cell_type": "raw",
   "id": "83afbae0",
   "metadata": {},
   "source": [
    "1. ARITHMETIC OPERATION\n",
    "   SYMBOL      TASK PERFROMED\n",
    "   +             addition\n",
    "   -             subtraction\n",
    "   /             division\n",
    "   %             mod/remainder\n",
    "   *             multiplication\n",
    "   //            floot division\n",
    "   **            to the power of"
   ]
  },
  {
   "cell_type": "code",
   "execution_count": 1,
   "id": "3c0b6e76",
   "metadata": {},
   "outputs": [
    {
     "data": {
      "text/plain": [
       "10"
      ]
     },
     "execution_count": 1,
     "metadata": {},
     "output_type": "execute_result"
    }
   ],
   "source": [
    "5+5"
   ]
  },
  {
   "cell_type": "code",
   "execution_count": 2,
   "id": "512e226e",
   "metadata": {},
   "outputs": [
    {
     "data": {
      "text/plain": [
       "2"
      ]
     },
     "execution_count": 2,
     "metadata": {},
     "output_type": "execute_result"
    }
   ],
   "source": [
    "10-8"
   ]
  },
  {
   "cell_type": "code",
   "execution_count": 4,
   "id": "e0290d91",
   "metadata": {},
   "outputs": [
    {
     "data": {
      "text/plain": [
       "3.3333333333333335"
      ]
     },
     "execution_count": 4,
     "metadata": {},
     "output_type": "execute_result"
    }
   ],
   "source": [
    "10/3\n"
   ]
  },
  {
   "cell_type": "code",
   "execution_count": 7,
   "id": "b886006c",
   "metadata": {},
   "outputs": [
    {
     "data": {
      "text/plain": [
       "10"
      ]
     },
     "execution_count": 7,
     "metadata": {},
     "output_type": "execute_result"
    }
   ],
   "source": [
    "110 % 100"
   ]
  },
  {
   "cell_type": "code",
   "execution_count": 8,
   "id": "bd1cf885",
   "metadata": {},
   "outputs": [
    {
     "data": {
      "text/plain": [
       "32"
      ]
     },
     "execution_count": 8,
     "metadata": {},
     "output_type": "execute_result"
    }
   ],
   "source": [
    "2 ** 5"
   ]
  },
  {
   "cell_type": "raw",
   "id": "f1462675",
   "metadata": {},
   "source": [
    "2. COMPARISON OPERATORS\n",
    "SYMBOL   TASK PERFROMED\n",
    "==        true, if it is equal\n",
    "!=        true,if it is not equal\n",
    "<         less than\n",
    ">         greater than\n",
    "<=        less than or equal to\n",
    ">=        greater than or equal to"
   ]
  },
  {
   "cell_type": "code",
   "execution_count": 10,
   "id": "6ae829b3",
   "metadata": {},
   "outputs": [
    {
     "data": {
      "text/plain": [
       "True"
      ]
     },
     "execution_count": 10,
     "metadata": {},
     "output_type": "execute_result"
    }
   ],
   "source": [
    "10 == 10"
   ]
  },
  {
   "cell_type": "code",
   "execution_count": 11,
   "id": "efc166aa",
   "metadata": {},
   "outputs": [
    {
     "data": {
      "text/plain": [
       "False"
      ]
     },
     "execution_count": 11,
     "metadata": {},
     "output_type": "execute_result"
    }
   ],
   "source": [
    "10 != 10"
   ]
  },
  {
   "cell_type": "code",
   "execution_count": 12,
   "id": "177d899d",
   "metadata": {},
   "outputs": [
    {
     "data": {
      "text/plain": [
       "False"
      ]
     },
     "execution_count": 12,
     "metadata": {},
     "output_type": "execute_result"
    }
   ],
   "source": [
    "10 > 20"
   ]
  },
  {
   "cell_type": "code",
   "execution_count": 14,
   "id": "e7b52601",
   "metadata": {},
   "outputs": [
    {
     "data": {
      "text/plain": [
       "True"
      ]
     },
     "execution_count": 14,
     "metadata": {},
     "output_type": "execute_result"
    }
   ],
   "source": [
    "10 < 20"
   ]
  },
  {
   "cell_type": "code",
   "execution_count": 15,
   "id": "5ddc63b4",
   "metadata": {},
   "outputs": [
    {
     "data": {
      "text/plain": [
       "False"
      ]
     },
     "execution_count": 15,
     "metadata": {},
     "output_type": "execute_result"
    }
   ],
   "source": [
    "10 >= 20"
   ]
  },
  {
   "cell_type": "code",
   "execution_count": 3,
   "id": "6339ba03",
   "metadata": {},
   "outputs": [
    {
     "data": {
      "text/plain": [
       "False"
      ]
     },
     "execution_count": 3,
     "metadata": {},
     "output_type": "execute_result"
    }
   ],
   "source": [
    "\"ABC\" > \"abc\" #python compare using ASCII value"
   ]
  },
  {
   "cell_type": "code",
   "execution_count": 4,
   "id": "314ad7af",
   "metadata": {},
   "outputs": [
    {
     "data": {
      "text/plain": [
       "False"
      ]
     },
     "execution_count": 4,
     "metadata": {},
     "output_type": "execute_result"
    }
   ],
   "source": [
    "\"abc\" > \"yz\""
   ]
  },
  {
   "cell_type": "code",
   "execution_count": 5,
   "id": "8a7f033b",
   "metadata": {},
   "outputs": [
    {
     "data": {
      "text/plain": [
       "True"
      ]
     },
     "execution_count": 5,
     "metadata": {},
     "output_type": "execute_result"
    }
   ],
   "source": [
    "\"abd\" > \"abc\""
   ]
  },
  {
   "cell_type": "code",
   "execution_count": 8,
   "id": "de89bab0",
   "metadata": {},
   "outputs": [
    {
     "data": {
      "text/plain": [
       "65"
      ]
     },
     "execution_count": 8,
     "metadata": {},
     "output_type": "execute_result"
    }
   ],
   "source": [
    "ord(\"A\")"
   ]
  },
  {
   "cell_type": "raw",
   "id": "e3d7a272",
   "metadata": {},
   "source": [
    "ord command use for ASCII value "
   ]
  },
  {
   "cell_type": "raw",
   "id": "cc63025f",
   "metadata": {},
   "source": [
    "3. ASSIGNMENT OPERATOR\n",
    "= ,  +=,-=,*=,/=,%=,**="
   ]
  },
  {
   "cell_type": "code",
   "execution_count": 9,
   "id": "efe8f215",
   "metadata": {},
   "outputs": [],
   "source": [
    "a=10"
   ]
  },
  {
   "cell_type": "code",
   "execution_count": 10,
   "id": "be73b3c7",
   "metadata": {},
   "outputs": [],
   "source": [
    "a +=5"
   ]
  },
  {
   "cell_type": "code",
   "execution_count": 11,
   "id": "29ea6da4",
   "metadata": {},
   "outputs": [
    {
     "name": "stdout",
     "output_type": "stream",
     "text": [
      "15\n"
     ]
    }
   ],
   "source": [
    "print(a)"
   ]
  },
  {
   "cell_type": "code",
   "execution_count": 12,
   "id": "969aa75e",
   "metadata": {},
   "outputs": [],
   "source": [
    "a-=10"
   ]
  },
  {
   "cell_type": "code",
   "execution_count": 13,
   "id": "583dcc2a",
   "metadata": {},
   "outputs": [
    {
     "name": "stdout",
     "output_type": "stream",
     "text": [
      "5\n"
     ]
    }
   ],
   "source": [
    "print(a)"
   ]
  },
  {
   "cell_type": "raw",
   "id": "793e5a6c",
   "metadata": {},
   "source": [
    "4. LOGICAL OPERATORS\n",
    "  not,and,or\n",
    "  "
   ]
  },
  {
   "cell_type": "code",
   "execution_count": 15,
   "id": "6282bc92",
   "metadata": {},
   "outputs": [],
   "source": [
    "a = True"
   ]
  },
  {
   "cell_type": "code",
   "execution_count": 16,
   "id": "e4f4158e",
   "metadata": {},
   "outputs": [
    {
     "data": {
      "text/plain": [
       "True"
      ]
     },
     "execution_count": 16,
     "metadata": {},
     "output_type": "execute_result"
    }
   ],
   "source": [
    "isinstance(True,int)"
   ]
  },
  {
   "cell_type": "code",
   "execution_count": 1,
   "id": "ecc4950f",
   "metadata": {},
   "outputs": [
    {
     "data": {
      "text/plain": [
       "6"
      ]
     },
     "execution_count": 1,
     "metadata": {},
     "output_type": "execute_result"
    }
   ],
   "source": [
    "5 + True\n"
   ]
  },
  {
   "cell_type": "code",
   "execution_count": 18,
   "id": "ad98c442",
   "metadata": {},
   "outputs": [
    {
     "data": {
      "text/plain": [
       "bool"
      ]
     },
     "execution_count": 18,
     "metadata": {},
     "output_type": "execute_result"
    }
   ],
   "source": [
    "type(True)"
   ]
  },
  {
   "cell_type": "code",
   "execution_count": 20,
   "id": "244c6bcb",
   "metadata": {},
   "outputs": [
    {
     "data": {
      "text/plain": [
       "False"
      ]
     },
     "execution_count": 20,
     "metadata": {},
     "output_type": "execute_result"
    }
   ],
   "source": [
    "not True"
   ]
  },
  {
   "cell_type": "code",
   "execution_count": 21,
   "id": "915295f8",
   "metadata": {},
   "outputs": [
    {
     "data": {
      "text/plain": [
       "True"
      ]
     },
     "execution_count": 21,
     "metadata": {},
     "output_type": "execute_result"
    }
   ],
   "source": [
    "not False"
   ]
  },
  {
   "cell_type": "code",
   "execution_count": 22,
   "id": "76726aac",
   "metadata": {},
   "outputs": [
    {
     "data": {
      "text/plain": [
       "0"
      ]
     },
     "execution_count": 22,
     "metadata": {},
     "output_type": "execute_result"
    }
   ],
   "source": [
    "5 and 0"
   ]
  },
  {
   "cell_type": "code",
   "execution_count": 24,
   "id": "5376bfaa",
   "metadata": {},
   "outputs": [
    {
     "data": {
      "text/plain": [
       "5"
      ]
     },
     "execution_count": 24,
     "metadata": {},
     "output_type": "execute_result"
    }
   ],
   "source": [
    "5 or 7"
   ]
  },
  {
   "cell_type": "code",
   "execution_count": null,
   "id": "2fd49169",
   "metadata": {},
   "outputs": [],
   "source": [
    "0\n"
   ]
  }
 ],
 "metadata": {
  "kernelspec": {
   "display_name": "Python 3 (ipykernel)",
   "language": "python",
   "name": "python3"
  },
  "language_info": {
   "codemirror_mode": {
    "name": "ipython",
    "version": 3
   },
   "file_extension": ".py",
   "mimetype": "text/x-python",
   "name": "python",
   "nbconvert_exporter": "python",
   "pygments_lexer": "ipython3",
   "version": "3.10.5"
  }
 },
 "nbformat": 4,
 "nbformat_minor": 5
}
